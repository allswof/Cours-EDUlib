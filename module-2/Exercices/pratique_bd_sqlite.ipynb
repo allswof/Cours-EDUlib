{
 "cells": [
  {
   "cell_type": "markdown",
   "metadata": {},
   "source": [
    "# Pratique à partir de BD relationnelle SQLite"
   ]
  },
  {
   "cell_type": "code",
   "execution_count": 3,
   "metadata": {},
   "outputs": [],
   "source": [
    "#BD sqlite\n",
    "import sqlite3\n",
    "#creer une connexion sur la BD\n",
    "conn = sqlite3.connect(\"bdeb.dbf\")\n",
    "#script DDL\n",
    "cde_ddl = \"\"\" \n",
    "\"\"\"\n",
    "#créer un curseur\n",
    " \n",
    "#créer la table\n",
    " \n",
    "\n"
   ]
  },
  {
   "cell_type": "code",
   "execution_count": null,
   "metadata": {},
   "outputs": [],
   "source": [
    "#Insertion des données\n",
    " "
   ]
  },
  {
   "cell_type": "code",
   "execution_count": null,
   "metadata": {},
   "outputs": [],
   "source": [
    "#Select des données\n",
    " \n",
    "#parcours du curseur\n",
    "print(\"=\" * 50)\n",
    " \n",
    "#fermer la BD\n",
    "conn.close()"
   ]
  },
  {
   "cell_type": "markdown",
   "metadata": {},
   "source": [
    "# Solutionnaires"
   ]
  },
  {
   "cell_type": "code",
   "execution_count": 2,
   "metadata": {},
   "outputs": [
    {
     "data": {
      "text/plain": [
       "<sqlite3.Cursor at 0x2c1339c48f0>"
      ]
     },
     "execution_count": 2,
     "metadata": {},
     "output_type": "execute_result"
    }
   ],
   "source": [
    "#BD sqlite\n",
    "import sqlite3\n",
    "#creer une connexion sur la BD\n",
    "conn = sqlite3.connect(\"bdeb.dbf\")\n",
    "#script DDL\n",
    "cde_ddl = \"\"\"create table if not exists usagers(\n",
    "id integer primary key autoincrement,\n",
    "nom text,\n",
    "age integer\n",
    ")\n",
    "\"\"\"\n",
    "#créer un curseur\n",
    "curseur = conn.cursor()\n",
    "#créer la table\n",
    "curseur.execute(cde_ddl)"
   ]
  },
  {
   "cell_type": "code",
   "execution_count": null,
   "metadata": {},
   "outputs": [],
   "source": [
    "#Insertion des données\n",
    "cde = \"insert into usagers(nom,age) values (?,?)\"\n",
    "nom = input(\"Votre nom:\")\n",
    "age = int(input(\"Votre age:\"))\n",
    "curseur.execute(cde, [nom,age])\n",
    "conn.commit()"
   ]
  },
  {
   "cell_type": "code",
   "execution_count": null,
   "metadata": {},
   "outputs": [],
   "source": [
    "#Select des données\n",
    "requete = \"select id, nom, age from usagers where age = ?\"\n",
    "mot_cle = int (input(\"Age recherché:\"))\n",
    "curseur.execute(requete, [mot_cle,])\n",
    "#parcours du curseur\n",
    "print(\"=\" * 50)\n",
    "for ligne in curseur:\n",
    "   print(\"ID:{} Nom:{} et Age:{}\". format(ligne[0], ligne[1], ligne[2]))\n",
    "#fermer la BD\n",
    "conn.close()"
   ]
  }
 ],
 "metadata": {
  "kernelspec": {
   "display_name": "Python 3",
   "language": "python",
   "name": "python3"
  },
  "language_info": {
   "codemirror_mode": {
    "name": "ipython",
    "version": 3
   },
   "file_extension": ".py",
   "mimetype": "text/x-python",
   "name": "python",
   "nbconvert_exporter": "python",
   "pygments_lexer": "ipython3",
   "version": "3.8.5"
  }
 },
 "nbformat": 4,
 "nbformat_minor": 4
}
