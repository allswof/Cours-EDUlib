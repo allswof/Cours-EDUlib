{
 "cells": [
  {
   "cell_type": "markdown",
   "metadata": {},
   "source": [
    "# Pratique Collecte à partir de BD NoSQL"
   ]
  },
  {
   "cell_type": "code",
   "execution_count": 2,
   "metadata": {},
   "outputs": [
    {
     "name": "stdout",
     "output_type": "stream",
     "text": [
      "Collecting pymongo\n",
      "  Downloading pymongo-4.0.2-cp38-cp38-win_amd64.whl (350 kB)\n",
      "Installing collected packages: pymongo\n",
      "Successfully installed pymongo-4.0.2\n"
     ]
    }
   ],
   "source": [
    "!pip install pymongo"
   ]
  },
  {
   "cell_type": "code",
   "execution_count": 5,
   "metadata": {},
   "outputs": [],
   "source": [
    "import datetime\n",
    "from pymongo import MongoClient\n",
    "client = MongoClient('localhost', 27017)\n",
    "bd = client.db.posts_coll\n",
    "#Créer les posts\n"
   ]
  },
  {
   "cell_type": "code",
   "execution_count": null,
   "metadata": {},
   "outputs": [],
   "source": [
    "#Insertion d'un seul post\n"
   ]
  },
  {
   "cell_type": "code",
   "execution_count": null,
   "metadata": {},
   "outputs": [],
   "source": [
    "#Obtenir un post\n"
   ]
  },
  {
   "cell_type": "code",
   "execution_count": null,
   "metadata": {},
   "outputs": [],
   "source": [
    "#recherche par un critere\n"
   ]
  },
  {
   "cell_type": "code",
   "execution_count": null,
   "metadata": {},
   "outputs": [],
   "source": [
    "#insertion en mode batch\n"
   ]
  },
  {
   "cell_type": "code",
   "execution_count": null,
   "metadata": {},
   "outputs": [],
   "source": [
    "#recuperer les IDs des posts insérés\n",
    "#afficher les IDS\n"
   ]
  },
  {
   "cell_type": "code",
   "execution_count": null,
   "metadata": {},
   "outputs": [],
   "source": [
    "#Recuperer les posts\n"
   ]
  },
  {
   "cell_type": "code",
   "execution_count": null,
   "metadata": {},
   "outputs": [],
   "source": [
    "#Afficher le nombre de documents dans la collection\n"
   ]
  },
  {
   "cell_type": "markdown",
   "metadata": {},
   "source": [
    "# Solutionnaires"
   ]
  },
  {
   "cell_type": "code",
   "execution_count": 4,
   "metadata": {},
   "outputs": [],
   "source": [
    "import datetime\n",
    "from pymongo import MongoClient\n",
    "client = MongoClient('localhost', 27017)\n",
    "bd = client.db.posts_coll\n",
    "\n",
    "posts = {\"auteur\":\"Flouflou\",\n",
    "         \"texte\":\"Mon premier post du mois\",\n",
    "         \"tags\":[\"python\",\"mongodb\"],\n",
    "         \"date\":datetime.datetime.utcnow()}\n"
   ]
  },
  {
   "cell_type": "code",
   "execution_count": null,
   "metadata": {},
   "outputs": [],
   "source": [
    "#Insertion d'un seul post\n",
    "post_id = bd.insert_one(posts).inserted_id\n",
    "print(post_id)"
   ]
  },
  {
   "cell_type": "code",
   "execution_count": null,
   "metadata": {},
   "outputs": [],
   "source": [
    "#Obtenir un post\n",
    "import pprint as p\n",
    "p.pprint(bd.find_one())"
   ]
  },
  {
   "cell_type": "code",
   "execution_count": null,
   "metadata": {},
   "outputs": [],
   "source": [
    "print(\"=\" * 45)\n",
    "#recherche par un critere\n",
    "p.pprint(bd.find_one({'auteur':'Flouflou'}))\n",
    "print(\"=\" * 45)\n",
    "p.pprint(bd.find_one({'auteur':'Mike'}))"
   ]
  },
  {
   "cell_type": "code",
   "execution_count": null,
   "metadata": {},
   "outputs": [],
   "source": [
    "#insertion en mode batch\n",
    "liste_posts =[\n",
    "{\"auteur\":\"FlouClair\",\n",
    "         \"texte\":\"Le renard saute la barriere\",\n",
    "         \"tags\":[\"renard\",\"barriere\"],\n",
    "         \"date\":datetime.datetime.utcnow()},\n",
    "{\"auteur\":\"ClairClair\",\n",
    "         \"texte\":\"les moutons n'ont aucune chance\",\n",
    "         \"tags\":[\"mouton\",\"chance\"],\n",
    "         \"date\":datetime.datetime.utcnow()}\n",
    "]\n",
    "resultats = bd.insert_many(liste_posts)"
   ]
  },
  {
   "cell_type": "code",
   "execution_count": null,
   "metadata": {},
   "outputs": [],
   "source": [
    "#recuperer les IDs des posts insérés\n",
    "#afficher les IDS\n",
    "print(\"=\" * 45)\n",
    "print(resultats.inserted_ids)\n",
    "print(\"=\" * 45)"
   ]
  },
  {
   "cell_type": "code",
   "execution_count": null,
   "metadata": {},
   "outputs": [],
   "source": [
    "#Recuperer les posts\n",
    "for post in bd.find():\n",
    "    print(\"-\" * 45)\n",
    "    print(post)"
   ]
  },
  {
   "cell_type": "code",
   "execution_count": null,
   "metadata": {},
   "outputs": [],
   "source": [
    "#Afficher le nombre de documents dans la collection\n",
    "print(\"=\" * 45)\n",
    "print(bd.count_documents({}))"
   ]
  }
 ],
 "metadata": {
  "kernelspec": {
   "display_name": "Python 3",
   "language": "python",
   "name": "python3"
  },
  "language_info": {
   "codemirror_mode": {
    "name": "ipython",
    "version": 3
   },
   "file_extension": ".py",
   "mimetype": "text/x-python",
   "name": "python",
   "nbconvert_exporter": "python",
   "pygments_lexer": "ipython3",
   "version": "3.8.5"
  }
 },
 "nbformat": 4,
 "nbformat_minor": 4
}
