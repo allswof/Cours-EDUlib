{
 "cells": [
  {
   "cell_type": "code",
   "execution_count": 7,
   "metadata": {},
   "outputs": [],
   "source": [
    "import requests\n",
    "from bs4 import BeautifulSoup\n",
    "\n",
    "def main():\n",
    "    #adresse sur meteo canada pour recupérer la meteo de la ville de montreal \n",
    "    adresse=\"https://meteo.gc.ca/city/pages/qc-147_metric_f.html\"\n",
    "     \n",
    "\n",
    "\n",
    "\n",
    "\n",
    "\n",
    "\n",
    "\n",
    "\n",
    "\n",
    "\n"
   ]
  },
  {
   "cell_type": "code",
   "execution_count": null,
   "metadata": {},
   "outputs": [],
   "source": [
    "def get_html_from_url(adresse):\n",
    "    \n",
    "     \n",
    "    # Parse du contenu HTML\n",
    "\n",
    "    \n",
    "    print(\"=\" * 50)\n",
    "    #Afficher le titre obtenu de la page\n",
    "    \n",
    "    print(\"=\" * 50)\n",
    "     "
   ]
  },
  {
   "cell_type": "code",
   "execution_count": null,
   "metadata": {},
   "outputs": [],
   "source": [
    "def get_meteo_from_htmlpage(html):\n",
    "    #Recuperer les prévisions  {\"class\": \"pdg-tp-0\"}\n",
    "     \n",
    "    #Recuperer location {\"id\": \"wb-cont\"}\n",
    "     \n",
    "    #Recuperer la temperature {\"class\": \"wxo-metric-hide\"}\n",
    "     \n",
    "    #recuperer le report à partir des prévisios\n",
    "    \n",
    " "
   ]
  },
  {
   "cell_type": "code",
   "execution_count": null,
   "metadata": {},
   "outputs": [],
   "source": [
    "if __name__ == '__main__':\n",
    "    main()"
   ]
  },
  {
   "cell_type": "markdown",
   "metadata": {},
   "source": [
    "# Solutionnaire"
   ]
  },
  {
   "cell_type": "code",
   "execution_count": 8,
   "metadata": {},
   "outputs": [],
   "source": [
    "import requests\n",
    "from bs4 import BeautifulSoup\n",
    "\n",
    "def main():\n",
    "     \n",
    "    adresse=\"https://meteo.gc.ca/city/pages/qc-147_metric_f.html\"\n",
    "    html = get_html_from_url(adresse )\n",
    "    report = get_meteo_from_htmlpage(html)\n",
    "\n",
    "    print('Condition météo: {} \\n Location:{} \\n Temperature:{}'.format(\n",
    "        report[0] ,report[1], report[2]\n",
    "    ))\n",
    "\n"
   ]
  },
  {
   "cell_type": "code",
   "execution_count": 9,
   "metadata": {},
   "outputs": [],
   "source": [
    "def get_html_from_url(adresse):\n",
    "    \n",
    "    response = requests.get(adresse).content\n",
    "    # Parse du contenu HTML\n",
    "\n",
    "    soup =  BeautifulSoup(response, \"html.parser\")\n",
    "    print(\"=\" * 50)\n",
    "    print(soup.title.get_text())\n",
    "    print(\"=\" * 50)\n",
    "    return soup"
   ]
  },
  {
   "cell_type": "code",
   "execution_count": 10,
   "metadata": {},
   "outputs": [],
   "source": [
    "def get_meteo_from_htmlpage(html):\n",
    "    prevision = html.find(\"tr\",attrs={\"class\": \"pdg-tp-0\"})\n",
    "    location= html.find(\"h1\",attrs={\"id\": \"wb-cont\"})\n",
    "    temperature = html.find(\"span\",attrs={\"class\": \"wxo-metric-hide\"})\n",
    "    report = (prevision.get_text(),location.get_text(), temperature.get_text())\n",
    "    return report"
   ]
  },
  {
   "cell_type": "code",
   "execution_count": 11,
   "metadata": {},
   "outputs": [
    {
     "name": "stdout",
     "output_type": "stream",
     "text": [
      "==================================================\n",
      "Montréal, QC - Prévisions sur 7 jours - d'Environnement Canada\n",
      "==================================================\n",
      "Condition météo: \n",
      "Ce soir et cette nuit\n",
      "Pluie se changeant en neige ce soir et cessant vers minuit. Nuageux par la suite. Accumulation de neige de 2 à 4 cm. Vents devenant d'ouest à 30 km/h avec rafales à 50 ce soir. Minimum moins 4. Refroidissement éolien moins 11 au cours de la nuit.\n",
      " \n",
      " Location:Montréal, QC\n",
      " \n",
      " Temperature:0°C\n"
     ]
    }
   ],
   "source": [
    "if __name__ == '__main__':\n",
    "    main()"
   ]
  }
 ],
 "metadata": {
  "kernelspec": {
   "display_name": "Python 3",
   "language": "python",
   "name": "python3"
  },
  "language_info": {
   "codemirror_mode": {
    "name": "ipython",
    "version": 3
   },
   "file_extension": ".py",
   "mimetype": "text/x-python",
   "name": "python",
   "nbconvert_exporter": "python",
   "pygments_lexer": "ipython3",
   "version": "3.8.5"
  }
 },
 "nbformat": 4,
 "nbformat_minor": 4
}
