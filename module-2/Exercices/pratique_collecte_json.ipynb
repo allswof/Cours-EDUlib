{
 "cells": [
  {
   "cell_type": "markdown",
   "metadata": {},
   "source": [
    "# Pratique collect à travers des appels API"
   ]
  },
  {
   "cell_type": "code",
   "execution_count": 7,
   "metadata": {},
   "outputs": [],
   "source": [
    "#Exercice meteo Accuweather\n",
    "\n",
    "import requests\n",
    "import json\n",
    "\n",
    "# --------- valeur de test ---------\n",
    "STATE = \"canada\"\n",
    "ville = \"Montreal\"\n",
    "API_KEY = \"Votre clé Accuweather\"\n",
    "# ---------------------------------\n",
    "\n"
   ]
  },
  {
   "cell_type": "code",
   "execution_count": null,
   "metadata": {},
   "outputs": [],
   "source": [
    "#Obtenir la clé de l'emplacement\n",
    "def get_location_key():\n",
    "    api_location_url = \"http://dataservice.accuweather.com/locations/v1/search?q=\"  + ville+\"&apikey=\"+ API_KEY\n",
    " "
   ]
  },
  {
   "cell_type": "code",
   "execution_count": null,
   "metadata": {},
   "outputs": [],
   "source": [
    "#Obtenir les conditions meteo selon l'emplacement\n",
    "def get_meteo(locationkey):\n",
    "    api_conditions_url = \"http://dataservice.accuweather.com/forecasts/v1/daily/1day/\"+locationkey +\"?apikey=\" + API_KEY\n",
    " "
   ]
  },
  {
   "cell_type": "code",
   "execution_count": null,
   "metadata": {},
   "outputs": [],
   "source": [
    "def main():\n",
    "    print_header()\n",
    "    location = get_location_key()\n",
    "    key = location[0][\"Key\"]\n",
    "    #obtenir meteo\n",
    "    conditions_meteo = get_meteo(key)\n",
    "    #Obtenir la température min et max\n",
    "\n",
    "\n",
    "\n",
    "if __name__ =='__main__':\n",
    "    main()"
   ]
  },
  {
   "cell_type": "markdown",
   "metadata": {},
   "source": [
    "# Solutionnaires"
   ]
  },
  {
   "cell_type": "code",
   "execution_count": 6,
   "metadata": {},
   "outputs": [],
   "source": [
    "#Exercice meteo Accuweather\n",
    "\n",
    "import requests\n",
    "import json\n",
    "\n",
    "# --------- valeur de test ---------\n",
    "STATE = \"canada\"\n",
    "ville = \"Montreal\"\n",
    "API_KEY = \"Votre clé API Accuweather\"\n",
    "# ---------------------------------\n",
    " \n",
    "\n",
    "\n",
    "\n",
    "\n",
    "\n"
   ]
  },
  {
   "cell_type": "code",
   "execution_count": null,
   "metadata": {},
   "outputs": [],
   "source": [
    "def get_location_key():\n",
    "    api_location_url = \"http://dataservice.accuweather.com/locations/v1/search?q=\"  + ville+\"&apikey=\"+ API_KEY\n",
    "    try:\n",
    "        f = requests.get(api_location_url)\n",
    "    except:\n",
    "        return []\n",
    "    else:\n",
    "        json_conditions = f.json()\n",
    "        #print(json_conditions)\n",
    "        f.close()\n",
    "    return json_conditions"
   ]
  },
  {
   "cell_type": "code",
   "execution_count": null,
   "metadata": {},
   "outputs": [],
   "source": [
    "def get_meteo(locationkey):\n",
    "    api_conditions_url = \"http://dataservice.accuweather.com/forecasts/v1/daily/1day/\"+locationkey +\"?apikey=\" + API_KEY\n",
    "    try:\n",
    "        f = requests.get(api_conditions_url)\n",
    "    except:\n",
    "        return []\n",
    "    else:\n",
    "        json_conditions = f.json()\n",
    "        #print(json_conditions)\n",
    "        f.close()\n",
    "    return json_conditions"
   ]
  },
  {
   "cell_type": "code",
   "execution_count": null,
   "metadata": {},
   "outputs": [],
   "source": [
    "def main():\n",
    "    print_header()\n",
    "    location = get_location_key()\n",
    "    key = location[0][\"Key\"]\n",
    "    #print(\"key:\", key)\n",
    "    #obtenir meteo\n",
    "    conditions_meteo = get_meteo(key)\n",
    "    print(\"Minimum:\",conditions_meteo['DailyForecasts'][0]['Temperature']['Minimum']['Value'])\n",
    "    print(\"Maximum:\",conditions_meteo['DailyForecasts'][0]['Temperature']['Maximum']['Value'])\n",
    "\n",
    "\n",
    "if __name__ =='__main__':\n",
    "    main()"
   ]
  }
 ],
 "metadata": {
  "kernelspec": {
   "display_name": "Python 3",
   "language": "python",
   "name": "python3"
  },
  "language_info": {
   "codemirror_mode": {
    "name": "ipython",
    "version": 3
   },
   "file_extension": ".py",
   "mimetype": "text/x-python",
   "name": "python",
   "nbconvert_exporter": "python",
   "pygments_lexer": "ipython3",
   "version": "3.8.5"
  }
 },
 "nbformat": 4,
 "nbformat_minor": 4
}
