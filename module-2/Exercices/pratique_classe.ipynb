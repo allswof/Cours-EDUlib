{
 "cells": [
  {
   "cell_type": "markdown",
   "metadata": {},
   "source": [
    "# Création d'une classe"
   ]
  },
  {
   "cell_type": "code",
   "execution_count": 8,
   "metadata": {},
   "outputs": [],
   "source": [
    "#definir la classe Employe\n",
    "\n",
    "\n",
    "\n",
    "\n",
    "\n",
    "\n",
    "\n",
    "\n",
    "\n",
    "\n",
    "\n",
    "\n",
    "\n",
    "\n",
    "\n",
    "\n",
    "\n",
    "\n",
    "        "
   ]
  },
  {
   "cell_type": "code",
   "execution_count": 9,
   "metadata": {},
   "outputs": [],
   "source": [
    "#instantiation des objets\n",
    " "
   ]
  },
  {
   "cell_type": "code",
   "execution_count": 12,
   "metadata": {},
   "outputs": [],
   "source": [
    "#Afficher l'état des objets\n",
    " "
   ]
  },
  {
   "cell_type": "code",
   "execution_count": 13,
   "metadata": {},
   "outputs": [],
   "source": [
    "#Executer la methode faire_travai()\n",
    " "
   ]
  },
  {
   "cell_type": "markdown",
   "metadata": {},
   "source": [
    "# Solutionnaire"
   ]
  },
  {
   "cell_type": "code",
   "execution_count": 8,
   "metadata": {},
   "outputs": [],
   "source": [
    "#definir la classe Employe\n",
    "class Employe:\n",
    "    def __init__(self, nom, prenom, code, salaire):\n",
    "        self.nom = nom\n",
    "        self.prenom = prenom\n",
    "        self.code = code\n",
    "        self.salaire = salaire\n",
    "        \n",
    "    def __str__(self):\n",
    "        return \"Nom:{}, prenom:{}, code:{}, salaire:{}\".format(self.nom, self.prenom, self.code, self.salaire)\n",
    "    \n",
    "    def faire_travail(self):\n",
    "        print(\"Je suis un employé assidu\") ;\n",
    "        "
   ]
  },
  {
   "cell_type": "code",
   "execution_count": 9,
   "metadata": {},
   "outputs": [],
   "source": [
    "#instantiation des objets\n",
    "obj1 = Employe(\"Alain\", \"Flouflou\",  118907, 7800)\n",
    "obj2 = Employe(\"Abdel\", \"FlouClair\", 118910, 8450)\n",
    "obj3 = Employe(\"Annie\",\"ClairClair\", 118987, 7720)"
   ]
  },
  {
   "cell_type": "code",
   "execution_count": 10,
   "metadata": {},
   "outputs": [
    {
     "name": "stdout",
     "output_type": "stream",
     "text": [
      "Nom:Alain, prenom:Flouflou, code:118907, salaire:7800\n",
      "Nom:Abdel, prenom:FlouClair, code:118910, salaire:8450\n",
      "Nom:Annie, prenom:ClairClair, code:118987, salaire:7720\n"
     ]
    }
   ],
   "source": [
    "#Afficher l'état des objets\n",
    "print(obj1)\n",
    "print(obj2)\n",
    "print(obj3)"
   ]
  },
  {
   "cell_type": "code",
   "execution_count": 11,
   "metadata": {},
   "outputs": [
    {
     "name": "stdout",
     "output_type": "stream",
     "text": [
      "Je suis un employé assidu\n"
     ]
    }
   ],
   "source": [
    "#Executer la methode faire_travai()\n",
    "obj1.faire_travail()"
   ]
  }
 ],
 "metadata": {
  "kernelspec": {
   "display_name": "Python 3",
   "language": "python",
   "name": "python3"
  },
  "language_info": {
   "codemirror_mode": {
    "name": "ipython",
    "version": 3
   },
   "file_extension": ".py",
   "mimetype": "text/x-python",
   "name": "python",
   "nbconvert_exporter": "python",
   "pygments_lexer": "ipython3",
   "version": "3.8.5"
  }
 },
 "nbformat": 4,
 "nbformat_minor": 4
}
