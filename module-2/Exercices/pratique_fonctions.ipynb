{
 "cells": [
  {
   "cell_type": "markdown",
   "metadata": {},
   "source": [
    "# Création de fonctions"
   ]
  },
  {
   "cell_type": "code",
   "execution_count": 1,
   "metadata": {},
   "outputs": [],
   "source": [
    "#definir une fonction de saisie\n",
    " \n",
    "\n"
   ]
  },
  {
   "cell_type": "code",
   "execution_count": 2,
   "metadata": {},
   "outputs": [],
   "source": [
    "#definir une fonction d'affichage\n",
    " \n",
    " "
   ]
  },
  {
   "cell_type": "code",
   "execution_count": 9,
   "metadata": {},
   "outputs": [],
   "source": [
    "#definir une fonction de détermintation d'activité\n",
    " \n",
    "        \n",
    " "
   ]
  },
  {
   "cell_type": "code",
   "execution_count": 11,
   "metadata": {},
   "outputs": [
    {
     "name": "stdout",
     "output_type": "stream",
     "text": [
      "Saisir la temperature:1\n",
      "ski\n"
     ]
    }
   ],
   "source": [
    "#Execution\n",
    " \n",
    "    \n",
    "    \n",
    "    \n",
    "    \n",
    "    \n",
    "    \n",
    "    \n",
    "    \n",
    "    \n",
    "    \n",
    "    \n",
    "    \n",
    "    \n",
    "    \n",
    "    "
   ]
  },
  {
   "cell_type": "markdown",
   "metadata": {},
   "source": [
    "# Solutionnaire"
   ]
  },
  {
   "cell_type": "markdown",
   "metadata": {},
   "source": [
    "* Note importante: on peut améliorer la solution suivante en introduisant une vérification de la saisie et des pseudo-constantes"
   ]
  },
  {
   "cell_type": "code",
   "execution_count": 1,
   "metadata": {},
   "outputs": [],
   "source": [
    "#definir une fonction de saisie\n",
    "def saisir_valeur(msg):\n",
    "    return int(input(msg))\n",
    "\n"
   ]
  },
  {
   "cell_type": "code",
   "execution_count": 2,
   "metadata": {},
   "outputs": [],
   "source": [
    "#definir une fonction d'affichage\n",
    "def afficher_valeur(msg):\n",
    "    print(msg)\n",
    " "
   ]
  },
  {
   "cell_type": "code",
   "execution_count": 9,
   "metadata": {},
   "outputs": [],
   "source": [
    "#definir une fonction de détermintation d'activité\n",
    "def determiner_activite(valeur):\n",
    "    if valeur < 2:\n",
    "        activite = \"ski\"\n",
    "    elif valeur < 18:\n",
    "        activite = \"randonnée dans les bois\"\n",
    "    elif valeur < 25:\n",
    "        activite = \"tennis\"\n",
    "    else:\n",
    "        activite = \"natation\"\n",
    "        \n",
    "    return activite\n",
    "        \n",
    " "
   ]
  },
  {
   "cell_type": "code",
   "execution_count": 11,
   "metadata": {},
   "outputs": [
    {
     "name": "stdout",
     "output_type": "stream",
     "text": [
      "Saisir la temperature:1\n",
      "ski\n"
     ]
    }
   ],
   "source": [
    "#Execution\n",
    "def main():\n",
    "    temp = saisir_valeur(\"Saisir la temperature:\")\n",
    "    activite = determiner_activite(temp)\n",
    "    afficher_valeur(activite)\n",
    "\n",
    "if __name__ == '__main__':\n",
    "    main()"
   ]
  }
 ],
 "metadata": {
  "kernelspec": {
   "display_name": "Python 3",
   "language": "python",
   "name": "python3"
  },
  "language_info": {
   "codemirror_mode": {
    "name": "ipython",
    "version": 3
   },
   "file_extension": ".py",
   "mimetype": "text/x-python",
   "name": "python",
   "nbconvert_exporter": "python",
   "pygments_lexer": "ipython3",
   "version": "3.8.5"
  }
 },
 "nbformat": 4,
 "nbformat_minor": 4
}
