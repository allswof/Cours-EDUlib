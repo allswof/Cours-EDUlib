{
 "cells": [
  {
   "cell_type": "markdown",
   "metadata": {},
   "source": [
    "# Création d'une classe"
   ]
  },
  {
   "cell_type": "code",
   "execution_count": 1,
   "metadata": {},
   "outputs": [],
   "source": [
    "#definir la classe contact\n",
    " \n",
    "    \n",
    "    \n",
    "    \n",
    "    \n",
    "    \n",
    "\n"
   ]
  },
  {
   "cell_type": "code",
   "execution_count": 6,
   "metadata": {},
   "outputs": [],
   "source": [
    "#Classe fournisseur\n",
    " "
   ]
  },
  {
   "cell_type": "code",
   "execution_count": 25,
   "metadata": {},
   "outputs": [],
   "source": [
    "#Créer les objets\n",
    " "
   ]
  },
  {
   "cell_type": "code",
   "execution_count": 26,
   "metadata": {},
   "outputs": [],
   "source": [
    "#Demander au fournisseur de passer une commande\n",
    " "
   ]
  },
  {
   "cell_type": "code",
   "execution_count": 12,
   "metadata": {},
   "outputs": [],
   "source": [
    "#Créer la classe de registre de contacts\n",
    "\n",
    "\n",
    " "
   ]
  },
  {
   "cell_type": "code",
   "execution_count": 27,
   "metadata": {},
   "outputs": [],
   "source": [
    "#créer le registre\n",
    " \n",
    "\n",
    "#Afficher le contenu du registre\n",
    " "
   ]
  },
  {
   "cell_type": "code",
   "execution_count": 28,
   "metadata": {},
   "outputs": [],
   "source": [
    "#rechercher un contact\n",
    "mot=\"Annie\"\n",
    " \n",
    "\n"
   ]
  },
  {
   "cell_type": "markdown",
   "metadata": {},
   "source": [
    "# Solutionnaire"
   ]
  },
  {
   "cell_type": "code",
   "execution_count": 1,
   "metadata": {},
   "outputs": [],
   "source": [
    "#definir la classe contact\n",
    "class Contact:\n",
    "    def __init__(self, nom, email):\n",
    "        self.nom = nom\n",
    "        self.email = email\n",
    "\n",
    "    def __str__(self):\n",
    "        return \"Nom:{}, email:{}\".format(self.nom, self.email)\n",
    "\n"
   ]
  },
  {
   "cell_type": "code",
   "execution_count": 6,
   "metadata": {},
   "outputs": [],
   "source": [
    "#Classe fournisseur\n",
    "class Fournisseur(Contact):\n",
    "    def __init__(self, nom, email,code_scn):\n",
    "        super().__init__(nom, email)\n",
    "        self.code_scn = code_scn\n",
    "\n",
    "    def __str__(self):\n",
    "        return super().__str__() + \"code:\".format(self.code_scn)\n",
    "\n",
    "    def passer_commande(self, code):\n",
    "        print(\"Fournisseur passe une commande:{}\".format(code))"
   ]
  },
  {
   "cell_type": "code",
   "execution_count": 8,
   "metadata": {},
   "outputs": [
    {
     "name": "stdout",
     "output_type": "stream",
     "text": [
      "Nom:Alain flouflou, email:a.flouflou@monsite.com\n",
      "Nom:Annie Clairclair Inc, email:a.clairclair@monsite.comcode:\n"
     ]
    }
   ],
   "source": [
    "obj1 = Contact(\"Alain flouflou\", \"a.flouflou@monsite.com\")\n",
    "print(obj1)\n",
    "\n",
    "objF = Fournisseur(\"Annie Clairclair Inc\", \"a.clairclair@monsite.com\",\"1234\")\n",
    "print(objF)"
   ]
  },
  {
   "cell_type": "code",
   "execution_count": 9,
   "metadata": {},
   "outputs": [
    {
     "name": "stdout",
     "output_type": "stream",
     "text": [
      "Fournisseur passe une commande:1000\n"
     ]
    }
   ],
   "source": [
    "#Demander au fournisseur de passer une commande\n",
    "objF.passer_commande(1000)"
   ]
  },
  {
   "cell_type": "code",
   "execution_count": 12,
   "metadata": {},
   "outputs": [],
   "source": [
    "class RegistreContacts:\n",
    "    def __init__(self, titre):\n",
    "        self.registre = []\n",
    "        self.titre = titre\n",
    "\n",
    "    def ajouter_contact(self, contact):\n",
    "        self.registre.append(contact)\n",
    "\n",
    "    def afficher_contacts(self):\n",
    "        print(\"Listing de tous les contacts\")\n",
    "        for elem in self.registre:\n",
    "            print(elem)\n",
    "\n",
    "    def rechercher_contact(self,motcle):\n",
    "        trouve = []\n",
    "        for elem in self.registre:\n",
    "            if motcle in elem.nom:\n",
    "                trouve.append(elem)\n",
    "\n",
    "        return trouve\n",
    "\n",
    " "
   ]
  },
  {
   "cell_type": "code",
   "execution_count": 15,
   "metadata": {},
   "outputs": [
    {
     "name": "stdout",
     "output_type": "stream",
     "text": [
      "Listing de tous les contacts\n",
      "Nom:Alain flouflou, email:a.flouflou@monsite.com\n",
      "Nom:Annie Clairclair Inc, email:a.clairclair@monsite.comcode:\n"
     ]
    }
   ],
   "source": [
    "#créer le registre\n",
    "registre = RegistreContacts(\"liste des contacts\")\n",
    "\n",
    "registre.ajouter_contact(obj1)\n",
    "registre.ajouter_contact(objF)\n",
    "\n",
    "#Afficher le contenue du registre\n",
    "registre.afficher_contacts()"
   ]
  },
  {
   "cell_type": "code",
   "execution_count": 24,
   "metadata": {},
   "outputs": [
    {
     "name": "stdout",
     "output_type": "stream",
     "text": [
      "Elements trouvés\n",
      "*************************\n",
      "Nom:Annie Clairclair Inc, email:a.clairclair@monsite.comcode:\n"
     ]
    }
   ],
   "source": [
    "#rechercher un contact\n",
    "mot=\"Annie\"\n",
    "resultats=registre.rechercher_contact(mot)\n",
    "print(\"Elements trouvés\")\n",
    "for res in resultats:\n",
    "    print(\"*\"*25)\n",
    "    print(res)\n",
    "\n"
   ]
  }
 ],
 "metadata": {
  "kernelspec": {
   "display_name": "Python 3",
   "language": "python",
   "name": "python3"
  },
  "language_info": {
   "codemirror_mode": {
    "name": "ipython",
    "version": 3
   },
   "file_extension": ".py",
   "mimetype": "text/x-python",
   "name": "python",
   "nbconvert_exporter": "python",
   "pygments_lexer": "ipython3",
   "version": "3.8.5"
  }
 },
 "nbformat": 4,
 "nbformat_minor": 4
}
