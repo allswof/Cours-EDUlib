{
  "cells": [
    {
      "cell_type": "markdown",
      "metadata": {
        "id": "view-in-github",
        "colab_type": "text"
      },
      "source": [
        "<a href=\"https://colab.research.google.com/github/allswof/Cours-EDUlib/blob/main/pratique_classe.ipynb\" target=\"_parent\"><img src=\"https://colab.research.google.com/assets/colab-badge.svg\" alt=\"Open In Colab\"/></a>"
      ]
    },
    {
      "cell_type": "markdown",
      "metadata": {
        "id": "KP2Rd1oXq9kf"
      },
      "source": [
        "# Création d'une classe"
      ]
    },
    {
      "cell_type": "code",
      "execution_count": 28,
      "metadata": {
        "id": "eH9UANirq9kk"
      },
      "outputs": [],
      "source": [
        "#definir la classe Employe\n",
        "\n",
        "class Employe:\n",
        "\n",
        "  def __init__(self, nom, prenom, code, salaire):\n",
        "    self.nom = nom\n",
        "    self.prenom = prenom\n",
        "    self.code = code\n",
        "    self.salaire = salaire\n",
        "\n",
        "  def __str__(self):\n",
        "    return(\"{} {}, code: {}, salaire: {}\".format(self.prenom, self.nom, self.code, self.salaire))\n",
        "\n",
        "  def faire_travail(self):\n",
        "    print(\"Je suis un employé assidu\") ;\n",
        "\n",
        "\n",
        "\n",
        "\n",
        "\n",
        "\n",
        "\n",
        "\n",
        "\n",
        "\n",
        "\n",
        "\n",
        "\n",
        "\n",
        "\n",
        "\n",
        "\n",
        "\n",
        "        "
      ]
    },
    {
      "cell_type": "code",
      "execution_count": 29,
      "metadata": {
        "id": "oouai0Nlq9kn"
      },
      "outputs": [],
      "source": [
        "#instantiation des objets\n",
        "Obj1 = Employe('Alain', 'Flouflou',  118907, 7800)\n",
        "Obj2 = Employe('Abdel', 'FlouClair', 118910, 8450)\n",
        "Obj3 = Employe('Annie', 'ClairClair', 118987, 7720)\n"
      ]
    },
    {
      "cell_type": "code",
      "execution_count": 30,
      "metadata": {
        "colab": {
          "base_uri": "https://localhost:8080/"
        },
        "id": "UvtOspX3q9kn",
        "outputId": "8ff67a5b-ded7-4c84-e33c-e30c5257f22e"
      },
      "outputs": [
        {
          "output_type": "stream",
          "name": "stdout",
          "text": [
            "Flouflou Alain, code: 118907, salaire: 7800\n",
            "FlouClair Abdel, code: 118910, salaire: 8450\n",
            "ClairClair Annie, code: 118987, salaire: 7720\n"
          ]
        }
      ],
      "source": [
        "#Afficher l'état des objets\n",
        "print(Obj1)\n",
        "print(Obj2)\n",
        "print(Obj3)"
      ]
    },
    {
      "cell_type": "code",
      "execution_count": 31,
      "metadata": {
        "colab": {
          "base_uri": "https://localhost:8080/"
        },
        "id": "6NOeUOLpq9ko",
        "outputId": "4753f491-0b0e-492c-9554-0f11aef40822"
      },
      "outputs": [
        {
          "output_type": "stream",
          "name": "stdout",
          "text": [
            "Je suis un employé assidu\n"
          ]
        }
      ],
      "source": [
        "#Executer la methode faire_travai()\n",
        "Obj1.faire_travail()\n"
      ]
    },
    {
      "cell_type": "markdown",
      "metadata": {
        "id": "z4R871hxq9ko"
      },
      "source": [
        "# Solutionnaire"
      ]
    },
    {
      "cell_type": "code",
      "execution_count": null,
      "metadata": {
        "id": "zHk1SVjUq9kp"
      },
      "outputs": [],
      "source": [
        "#definir la classe Employe\n",
        "class Employe:\n",
        "    def __init__(self, nom, prenom, code, salaire):\n",
        "        self.nom = nom\n",
        "        self.prenom = prenom\n",
        "        self.code = code\n",
        "        self.salaire = salaire\n",
        "        \n",
        "    def __str__(self):\n",
        "        return \"Nom:{}, prenom:{}, code:{}, salaire:{}\".format(self.nom, self.prenom, self.code, self.salaire)\n",
        "    \n",
        "    def faire_travail(self):\n",
        "        print(\"Je suis un employé assidu\") ;\n",
        "        "
      ]
    },
    {
      "cell_type": "code",
      "execution_count": null,
      "metadata": {
        "id": "OLemYXL2q9kq"
      },
      "outputs": [],
      "source": [
        "#instantiation des objets\n",
        "obj1 = Employe(\"Alain\", \"Flouflou\",  118907, 7800)\n",
        "obj2 = Employe(\"Abdel\", \"FlouClair\", 118910, 8450)\n",
        "obj3 = Employe(\"Annie\",\"ClairClair\", 118987, 7720)"
      ]
    },
    {
      "cell_type": "code",
      "execution_count": null,
      "metadata": {
        "id": "7NRH7HWrq9kr",
        "outputId": "cfbf9af3-4e15-4a0f-bbef-42d95840585d"
      },
      "outputs": [
        {
          "name": "stdout",
          "output_type": "stream",
          "text": [
            "Nom:Alain, prenom:Flouflou, code:118907, salaire:7800\n",
            "Nom:Abdel, prenom:FlouClair, code:118910, salaire:8450\n",
            "Nom:Annie, prenom:ClairClair, code:118987, salaire:7720\n"
          ]
        }
      ],
      "source": [
        "#Afficher l'état des objets\n",
        "print(obj1)\n",
        "print(obj2)\n",
        "print(obj3)"
      ]
    },
    {
      "cell_type": "code",
      "execution_count": null,
      "metadata": {
        "id": "mp0-OuU6q9kt",
        "outputId": "5466e2f4-aa43-41f5-c796-4f4972257c03"
      },
      "outputs": [
        {
          "name": "stdout",
          "output_type": "stream",
          "text": [
            "Je suis un employé assidu\n"
          ]
        }
      ],
      "source": [
        "#Executer la methode faire_travai()\n",
        "obj1.faire_travail()"
      ]
    }
  ],
  "metadata": {
    "kernelspec": {
      "display_name": "Python 3",
      "language": "python",
      "name": "python3"
    },
    "language_info": {
      "codemirror_mode": {
        "name": "ipython",
        "version": 3
      },
      "file_extension": ".py",
      "mimetype": "text/x-python",
      "name": "python",
      "nbconvert_exporter": "python",
      "pygments_lexer": "ipython3",
      "version": "3.8.5"
    },
    "colab": {
      "name": "pratique_classe.ipynb",
      "provenance": [],
      "include_colab_link": true
    }
  },
  "nbformat": 4,
  "nbformat_minor": 0
}