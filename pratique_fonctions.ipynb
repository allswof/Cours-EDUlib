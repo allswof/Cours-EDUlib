{
  "cells": [
    {
      "cell_type": "markdown",
      "metadata": {
        "id": "view-in-github",
        "colab_type": "text"
      },
      "source": [
        "<a href=\"https://colab.research.google.com/github/allswof/Cours-EDUlib/blob/main/pratique_fonctions.ipynb\" target=\"_parent\"><img src=\"https://colab.research.google.com/assets/colab-badge.svg\" alt=\"Open In Colab\"/></a>"
      ]
    },
    {
      "cell_type": "markdown",
      "metadata": {
        "id": "bfOI9qPynhrS"
      },
      "source": [
        "# Création de fonctions"
      ]
    },
    {
      "cell_type": "code",
      "execution_count": 8,
      "metadata": {
        "id": "6BadQ3r-nhrX"
      },
      "outputs": [],
      "source": [
        "#definir une fonction de saisie\n",
        "def entree(texte):\n",
        "  return int(input(texte))\n"
      ]
    },
    {
      "cell_type": "code",
      "execution_count": 10,
      "metadata": {
        "id": "4puYWWcBnhrZ"
      },
      "outputs": [],
      "source": [
        "#definir une fonction d'affichage\n",
        " \n",
        "def message(activite):\n",
        "   print(\"L'activite suggere est: \" + activite)"
      ]
    },
    {
      "cell_type": "code",
      "execution_count": 11,
      "metadata": {
        "id": "KC2K2966nhra"
      },
      "outputs": [],
      "source": [
        "#definir une fonction de détermintation d'activité\n",
        "\n",
        "def choisir_activite(temp):\n",
        "  if temp >= 25:\n",
        "    return \"natation\"\n",
        "  elif temp >= 18:\n",
        "    return \"tennis\"\n",
        "  elif temp >= 2:\n",
        "    return \"randonnée dans les bois\"\n",
        "  else:\n",
        "    return \"ski\"\n",
        " "
      ]
    },
    {
      "cell_type": "code",
      "execution_count": 14,
      "metadata": {
        "colab": {
          "base_uri": "https://localhost:8080/"
        },
        "id": "rZrGzX96nhrb",
        "outputId": "37f82a32-26cc-4bcf-f640-68e6136f7a9a"
      },
      "outputs": [
        {
          "output_type": "stream",
          "name": "stdout",
          "text": [
            "Quel est la temperature?: 5\n",
            "L'activite suggere est: randonnée dans les bois\n"
          ]
        }
      ],
      "source": [
        "#Execution\n",
        " \n",
        "def main():\n",
        "  temp = entree(\"Quel est la temperature?: \")\n",
        "  act = choisir_activite(temp)\n",
        "  message(act)\n",
        "\n",
        "if __name__ == '__main__':\n",
        "  main()\n",
        "\n",
        "\n",
        "\n",
        "  \n",
        "    \n",
        "    \n",
        "    \n",
        "    \n",
        "    \n",
        "    \n",
        "    \n",
        "    \n",
        "    \n",
        "    \n",
        "    \n",
        "    \n",
        "    "
      ]
    },
    {
      "cell_type": "markdown",
      "metadata": {
        "id": "-Tqaz903nhrc"
      },
      "source": [
        "# Solutionnaire"
      ]
    },
    {
      "cell_type": "markdown",
      "metadata": {
        "id": "eB2P9K6Vnhrd"
      },
      "source": [
        "* Note importante: on peut améliorer la solution suivante en introduisant une vérification de la saisie et des pseudo-constantes"
      ]
    },
    {
      "cell_type": "code",
      "execution_count": null,
      "metadata": {
        "id": "L6kl4PJMnhre"
      },
      "outputs": [],
      "source": [
        "#definir une fonction de saisie\n",
        "def saisir_valeur(msg):\n",
        "    return int(input(msg))\n",
        "\n"
      ]
    },
    {
      "cell_type": "code",
      "execution_count": null,
      "metadata": {
        "id": "_lDZQBRYnhrf"
      },
      "outputs": [],
      "source": [
        "#definir une fonction d'affichage\n",
        "def afficher_valeur(msg):\n",
        "    print(msg)\n",
        " "
      ]
    },
    {
      "cell_type": "code",
      "execution_count": null,
      "metadata": {
        "id": "Uk8DbKdKnhrf"
      },
      "outputs": [],
      "source": [
        "#definir une fonction de détermintation d'activité\n",
        "def determiner_activite(valeur):\n",
        "    if valeur < 2:\n",
        "        activite = \"ski\"\n",
        "    elif valeur < 18:\n",
        "        activite = \"randonnée dans les bois\"\n",
        "    elif valeur < 25:\n",
        "        activite = \"tennis\"\n",
        "    else:\n",
        "        activite = \"natation\"\n",
        "        \n",
        "    return activite\n",
        "        \n",
        " "
      ]
    },
    {
      "cell_type": "code",
      "execution_count": null,
      "metadata": {
        "id": "NmEYdH_gnhrg",
        "outputId": "c9068916-7c89-45ff-b8b6-bee7ca5c3239"
      },
      "outputs": [
        {
          "name": "stdout",
          "output_type": "stream",
          "text": [
            "Saisir la temperature:1\n",
            "ski\n"
          ]
        }
      ],
      "source": [
        "#Execution\n",
        "def main():\n",
        "    temp = saisir_valeur(\"Saisir la temperature:\")\n",
        "    activite = determiner_activite(temp)\n",
        "    afficher_valeur(activite)\n",
        "\n",
        "if __name__ == '__main__':\n",
        "    main()"
      ]
    }
  ],
  "metadata": {
    "kernelspec": {
      "display_name": "Python 3",
      "language": "python",
      "name": "python3"
    },
    "language_info": {
      "codemirror_mode": {
        "name": "ipython",
        "version": 3
      },
      "file_extension": ".py",
      "mimetype": "text/x-python",
      "name": "python",
      "nbconvert_exporter": "python",
      "pygments_lexer": "ipython3",
      "version": "3.8.5"
    },
    "colab": {
      "name": "pratique_fonctions.ipynb",
      "provenance": [],
      "include_colab_link": true
    }
  },
  "nbformat": 4,
  "nbformat_minor": 0
}