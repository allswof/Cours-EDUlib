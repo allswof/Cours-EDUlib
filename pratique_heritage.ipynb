{
  "cells": [
    {
      "cell_type": "markdown",
      "metadata": {
        "id": "view-in-github",
        "colab_type": "text"
      },
      "source": [
        "<a href=\"https://colab.research.google.com/github/allswof/Cours-EDUlib/blob/main/pratique_heritage.ipynb\" target=\"_parent\"><img src=\"https://colab.research.google.com/assets/colab-badge.svg\" alt=\"Open In Colab\"/></a>"
      ]
    },
    {
      "cell_type": "markdown",
      "metadata": {
        "id": "sCmolu0d3szS"
      },
      "source": [
        "# Création d'une classe"
      ]
    },
    {
      "cell_type": "code",
      "execution_count": 49,
      "metadata": {
        "id": "K1rruPde3szW"
      },
      "outputs": [],
      "source": [
        "#definir la classe contact\n",
        " \n",
        "class Contact:\n",
        "  def __init__(self, nom, email):\n",
        "    self.nom = nom\n",
        "    self.email = email\n",
        "\n",
        "  def __str__(self):\n",
        "    return \"nom: {}, email: {}\".format(self.nom, self.email)\n",
        " \n",
        "\n"
      ]
    },
    {
      "cell_type": "code",
      "execution_count": 55,
      "metadata": {
        "id": "14HngHFT3szY"
      },
      "outputs": [],
      "source": [
        "#Classe fournisseur\n",
        "class Fournisseur(Contact):\n",
        "  def __init__(self, nom, email, code_scn):\n",
        "    super().__init__(nom, email)\n",
        "    self.code_scn = code_scn\n",
        "\n",
        "  def passer_commande(self, code):\n",
        "    print(\"Le fournisseur passe une commande: {}\".format(code))\n",
        "\n",
        "  def __str__(self):\n",
        "    return super().__str__() + \" code: {}\".format(self.code_scn)\n"
      ]
    },
    {
      "cell_type": "code",
      "execution_count": 56,
      "metadata": {
        "id": "dMomxAXM3szY"
      },
      "outputs": [],
      "source": [
        "#Créer les objets\n",
        "cont = Contact(\"Alain flouflou\", \"a.flouflou@monsite.com\")\n",
        "four = Fournisseur(\"Annie ClairClair\", \"a.clairclair@monsite.com\",\"1234\")\n"
      ]
    },
    {
      "cell_type": "code",
      "execution_count": 57,
      "metadata": {
        "id": "Dox32AsA3szZ",
        "outputId": "7167fb06-326f-4e7b-fb9b-973ab74427b0",
        "colab": {
          "base_uri": "https://localhost:8080/"
        }
      },
      "outputs": [
        {
          "output_type": "stream",
          "name": "stdout",
          "text": [
            "Le fournisseur passe une commande: 1254\n"
          ]
        }
      ],
      "source": [
        "#Demander au fournisseur de passer une commande\n",
        "four.passer_commande(1254)"
      ]
    },
    {
      "cell_type": "code",
      "execution_count": 82,
      "metadata": {
        "id": "4mEtjJ723sza"
      },
      "outputs": [],
      "source": [
        "#Créer la classe de registre de contacts\n",
        "class RegistreContacts:\n",
        "  def __init__(self, nom_de_liste):\n",
        "    self.registre = []\n",
        "    self.titre = nom_de_liste\n",
        "\n",
        "  def ajouter_contact(self, contact):\n",
        "    self.registre.append(contact)\n",
        "\n",
        "  def aficher_contacts(self):\n",
        "    for element in self.registre:\n",
        "      print(element)\n",
        "\n",
        "  def chercher_contact(self, contact):\n",
        "    for element in self.registre:\n",
        "      if contact in element.nom:\n",
        "        print(element)\n",
        "\n",
        "  "
      ]
    },
    {
      "cell_type": "code",
      "execution_count": 83,
      "metadata": {
        "id": "Dqdf6zIR3sza",
        "outputId": "24c93258-5fb0-43fa-ad97-f1e3e4b40cc2",
        "colab": {
          "base_uri": "https://localhost:8080/"
        }
      },
      "outputs": [
        {
          "output_type": "stream",
          "name": "stdout",
          "text": [
            "nom: Alain flouflou, email: a.flouflou@monsite.com\n",
            "nom: Annie ClairClair, email: a.clairclair@monsite.com code: 1234\n"
          ]
        }
      ],
      "source": [
        "#créer le registre\n",
        "registre = RegistreContacts(\"Liste des contacts\")\n",
        "registre.ajouter_contact(cont)\n",
        "registre.ajouter_contact(four)\n",
        "\n",
        "#Afficher le contenu du registre\n",
        "registre.aficher_contacts()"
      ]
    },
    {
      "cell_type": "code",
      "execution_count": 84,
      "metadata": {
        "id": "-AuMAoMC3szb",
        "outputId": "34913ed5-11af-40ef-e870-7292d14e2ea7",
        "colab": {
          "base_uri": "https://localhost:8080/"
        }
      },
      "outputs": [
        {
          "output_type": "stream",
          "name": "stdout",
          "text": [
            "nom: Annie ClairClair, email: a.clairclair@monsite.com code: 1234\n"
          ]
        }
      ],
      "source": [
        "#rechercher un contact\n",
        "mot=\"Annie\"\n",
        " \n",
        "registre.chercher_contact(\"Annie\")\n"
      ]
    },
    {
      "cell_type": "markdown",
      "metadata": {
        "id": "THWVd7O63szc"
      },
      "source": [
        "# Solutionnaire"
      ]
    },
    {
      "cell_type": "code",
      "execution_count": 80,
      "metadata": {
        "id": "v5D0vtq_3szd"
      },
      "outputs": [],
      "source": [
        "#definir la classe contact\n",
        "class Contact:\n",
        "    def __init__(self, nom, email):\n",
        "        self.nom = nom\n",
        "        self.email = email\n",
        "\n",
        "    def __str__(self):\n",
        "        return \"Nom:{}, email:{}\".format(self.nom, self.email)\n",
        "\n"
      ]
    },
    {
      "cell_type": "code",
      "execution_count": 81,
      "metadata": {
        "id": "pe6w5aB83sze"
      },
      "outputs": [],
      "source": [
        "#Classe fournisseur\n",
        "class Fournisseur(Contact):\n",
        "    def __init__(self, nom, email,code_scn):\n",
        "        super().__init__(nom, email)\n",
        "        self.code_scn = code_scn\n",
        "\n",
        "    def __str__(self):\n",
        "        return super().__str__() + \"code:\".format(self.code_scn)\n",
        "\n",
        "    def passer_commande(self, code):\n",
        "        print(\"Fournisseur passe une commande:{}\".format(code))"
      ]
    },
    {
      "cell_type": "code",
      "execution_count": 23,
      "metadata": {
        "id": "oyz6RDWh3sze",
        "outputId": "04ba494d-08c0-450c-fe23-c4ea9d61c5f5",
        "colab": {
          "base_uri": "https://localhost:8080/"
        }
      },
      "outputs": [
        {
          "output_type": "stream",
          "name": "stdout",
          "text": [
            "Nom:Alain flouflou, email:a.flouflou@monsite.com\n",
            "Nom:Annie Clairclair Inc, email:a.clairclair@monsite.comcode:\n"
          ]
        }
      ],
      "source": [
        "obj1 = Contact(\"Alain flouflou\", \"a.flouflou@monsite.com\")\n",
        "print(obj1)\n",
        "\n",
        "objF = Fournisseur(\"Annie Clairclair Inc\", \"a.clairclair@monsite.com\",\"1234\")\n",
        "print(objF)"
      ]
    },
    {
      "cell_type": "code",
      "execution_count": 24,
      "metadata": {
        "id": "vhap_yp63szg",
        "outputId": "58cd0ce2-464f-4aae-e0b0-2a46289fc854",
        "colab": {
          "base_uri": "https://localhost:8080/"
        }
      },
      "outputs": [
        {
          "output_type": "stream",
          "name": "stdout",
          "text": [
            "Fournisseur passe une commande:1000\n"
          ]
        }
      ],
      "source": [
        "#Demander au fournisseur de passer une commande\n",
        "objF.passer_commande(1000)"
      ]
    },
    {
      "cell_type": "code",
      "execution_count": null,
      "metadata": {
        "id": "MVFsYp2g3szg"
      },
      "outputs": [],
      "source": [
        "class RegistreContacts:\n",
        "    def __init__(self, titre):\n",
        "        self.registre = []\n",
        "        self.titre = titre\n",
        "\n",
        "    def ajouter_contact(self, contact):\n",
        "        self.registre.append(contact)\n",
        "\n",
        "    def afficher_contacts(self):\n",
        "        print(\"Listing de tous les contacts\")\n",
        "        for elem in self.registre:\n",
        "            print(elem)\n",
        "\n",
        "    def rechercher_contact(self,motcle):\n",
        "        trouve = []\n",
        "        for elem in self.registre:\n",
        "            if motcle in elem.nom:\n",
        "                trouve.append(elem)\n",
        "\n",
        "        return trouve\n",
        "\n",
        " "
      ]
    },
    {
      "cell_type": "code",
      "execution_count": null,
      "metadata": {
        "id": "3tk5jaZy3szh",
        "outputId": "5d11828d-8855-4d8d-978a-4ac87d19385d"
      },
      "outputs": [
        {
          "name": "stdout",
          "output_type": "stream",
          "text": [
            "Listing de tous les contacts\n",
            "Nom:Alain flouflou, email:a.flouflou@monsite.com\n",
            "Nom:Annie Clairclair Inc, email:a.clairclair@monsite.comcode:\n"
          ]
        }
      ],
      "source": [
        "#créer le registre\n",
        "registre = RegistreContacts(\"liste des contacts\")\n",
        "\n",
        "registre.ajouter_contact(obj1)\n",
        "registre.ajouter_contact(objF)\n",
        "\n",
        "#Afficher le contenue du registre\n",
        "registre.afficher_contacts()"
      ]
    },
    {
      "cell_type": "code",
      "execution_count": null,
      "metadata": {
        "id": "W4tbSus63szh",
        "outputId": "84dbe365-7715-4677-9206-de209f3ef8cd"
      },
      "outputs": [
        {
          "name": "stdout",
          "output_type": "stream",
          "text": [
            "Elements trouvés\n",
            "*************************\n",
            "Nom:Annie Clairclair Inc, email:a.clairclair@monsite.comcode:\n"
          ]
        }
      ],
      "source": [
        "#rechercher un contact\n",
        "mot=\"Annie\"\n",
        "resultats=registre.rechercher_contact(mot)\n",
        "print(\"Elements trouvés\")\n",
        "for res in resultats:\n",
        "    print(\"*\"*25)\n",
        "    print(res)\n",
        "\n"
      ]
    }
  ],
  "metadata": {
    "kernelspec": {
      "display_name": "Python 3",
      "language": "python",
      "name": "python3"
    },
    "language_info": {
      "codemirror_mode": {
        "name": "ipython",
        "version": 3
      },
      "file_extension": ".py",
      "mimetype": "text/x-python",
      "name": "python",
      "nbconvert_exporter": "python",
      "pygments_lexer": "ipython3",
      "version": "3.8.5"
    },
    "colab": {
      "name": "pratique_heritage.ipynb",
      "provenance": [],
      "include_colab_link": true
    }
  },
  "nbformat": 4,
  "nbformat_minor": 0
}