{
  "cells": [
    {
      "cell_type": "markdown",
      "metadata": {
        "id": "view-in-github",
        "colab_type": "text"
      },
      "source": [
        "<a href=\"https://colab.research.google.com/github/allswof/Cours-EDUlib/blob/main/pratique_structure_test.ipynb\" target=\"_parent\"><img src=\"https://colab.research.google.com/assets/colab-badge.svg\" alt=\"Open In Colab\"/></a>"
      ]
    },
    {
      "cell_type": "markdown",
      "metadata": {
        "id": "RWUMJUO-ptuC"
      },
      "source": [
        "# Création de fonctions"
      ]
    },
    {
      "cell_type": "code",
      "execution_count": 6,
      "metadata": {
        "colab": {
          "base_uri": "https://localhost:8080/"
        },
        "id": "ejdIIJfkptuF",
        "outputId": "bcb1eac7-3661-4cbf-8f1c-eb24636268e4"
      },
      "outputs": [
        {
          "name": "stdout",
          "output_type": "stream",
          "text": [
            "Saisir la température: 10\n"
          ]
        }
      ],
      "source": [
        "#Saisir la température\n",
        "temp = int(input('Saisir la température: '))\n",
        "\n"
      ]
    },
    {
      "cell_type": "code",
      "execution_count": 7,
      "metadata": {
        "id": "WbaJTf8fptuH"
      },
      "outputs": [],
      "source": [
        "#Déterminer l'activité\n",
        "if temp >= 25:\n",
        "  act = 'natation'\n",
        "elif temp >= 18:\n",
        "  act = 'tennis'\n",
        "elif temp >= 2:\n",
        "  act = 'randonnée dans les bois'\n",
        "else:\n",
        "  act = 'ski'\n",
        " \n",
        "\n",
        "\n",
        "\n"
      ]
    },
    {
      "cell_type": "code",
      "execution_count": 8,
      "metadata": {
        "colab": {
          "base_uri": "https://localhost:8080/"
        },
        "id": "wqy2wjB_ptuJ",
        "outputId": "c4e5833a-68b1-4f00-bfd6-f16a1b226316"
      },
      "outputs": [
        {
          "output_type": "stream",
          "name": "stdout",
          "text": [
            "Je vous propose de faire la activité: randonnée dans les bois\n"
          ]
        }
      ],
      "source": [
        "#Afficher l'activité proposée\n",
        " \n",
        "print('Je vous propose de faire la activité: '+ act)\n",
        "        \n",
        "        \n",
        "        \n",
        "        \n",
        "        \n",
        "        \n",
        "        \n",
        " "
      ]
    },
    {
      "cell_type": "code",
      "source": [
        ""
      ],
      "metadata": {
        "id": "bOTY-lvv7P1r"
      },
      "execution_count": null,
      "outputs": []
    },
    {
      "cell_type": "markdown",
      "metadata": {
        "id": "NYV0RnirptuK"
      },
      "source": [
        "# Solutionnaire"
      ]
    },
    {
      "cell_type": "markdown",
      "metadata": {
        "id": "rfLvp0HaptuK"
      },
      "source": [
        "* Note importante: on peut améliorer la solution suivante en introduisant une vérification de la saisie et des pseudo-constantes"
      ]
    },
    {
      "cell_type": "code",
      "execution_count": null,
      "metadata": {
        "id": "DgbpiqbVptuL",
        "outputId": "2dce4b49-93d9-4a8d-8d02-26e652a6c7c4"
      },
      "outputs": [
        {
          "name": "stdout",
          "output_type": "stream",
          "text": [
            "Saisir la temperature:33\n",
            "L'activité proposée est:natation\n"
          ]
        }
      ],
      "source": [
        "#Saisir la température\n",
        "temperature = int(input(\"Saisir la temperature:\"))\n",
        "\n",
        "#Détermination d'activité\n",
        "if temperature < 2:\n",
        "    activite = \"ski\"\n",
        "elif temperature < 18:\n",
        "    activite = \"randonnée dans les bois\"\n",
        "elif temperature < 25:\n",
        "    activite = \"tennis\"\n",
        "else:\n",
        "    activite = \"natation\"\n",
        "\n",
        "#Affichage du résultat\n",
        "print(\"L'activité proposée est:{}\".format(activite))\n",
        "    \n",
        "\n"
      ]
    }
  ],
  "metadata": {
    "kernelspec": {
      "display_name": "Python 3",
      "language": "python",
      "name": "python3"
    },
    "language_info": {
      "codemirror_mode": {
        "name": "ipython",
        "version": 3
      },
      "file_extension": ".py",
      "mimetype": "text/x-python",
      "name": "python",
      "nbconvert_exporter": "python",
      "pygments_lexer": "ipython3",
      "version": "3.8.5"
    },
    "colab": {
      "name": "pratique_structure_test.ipynb",
      "provenance": [],
      "include_colab_link": true
    }
  },
  "nbformat": 4,
  "nbformat_minor": 0
}