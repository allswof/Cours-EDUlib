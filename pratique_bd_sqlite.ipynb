{
  "cells": [
    {
      "cell_type": "markdown",
      "metadata": {
        "id": "view-in-github",
        "colab_type": "text"
      },
      "source": [
        "<a href=\"https://colab.research.google.com/github/allswof/Cours-EDUlib/blob/main/pratique_bd_sqlite.ipynb\" target=\"_parent\"><img src=\"https://colab.research.google.com/assets/colab-badge.svg\" alt=\"Open In Colab\"/></a>"
      ]
    },
    {
      "cell_type": "markdown",
      "metadata": {
        "id": "tq1xeEcYONtD"
      },
      "source": [
        "# Pratique à partir de BD relationnelle SQLite"
      ]
    },
    {
      "cell_type": "code",
      "execution_count": 10,
      "metadata": {
        "id": "JFW4vfpMONtJ",
        "outputId": "6cb6f249-f1ee-4094-c667-5a9acc628e98",
        "colab": {
          "base_uri": "https://localhost:8080/"
        }
      },
      "outputs": [
        {
          "output_type": "execute_result",
          "data": {
            "text/plain": [
              "<sqlite3.Cursor at 0x7facf9cf0ce0>"
            ]
          },
          "metadata": {},
          "execution_count": 10
        }
      ],
      "source": [
        "#BD sqlite\n",
        "import sqlite3\n",
        "#creer une connexion sur la BD\n",
        "conn = sqlite3.connect(\"bdeb.dbf\")\n",
        "#script DDL\n",
        "cde_ddl = \"\"\" create table if not exists usagers(id integer primary key autoincrement,\n",
        "nom text, age integer)\n",
        "\"\"\"\n",
        "#créer un curseur\n",
        "curseur = conn.cursor()\n",
        "\n",
        "#créer la table\n",
        "curseur.execute(cde_ddl)\n",
        "\n"
      ]
    },
    {
      "cell_type": "code",
      "execution_count": 11,
      "metadata": {
        "id": "44YS3VrnONtL",
        "outputId": "6b97d951-e3c4-4172-97fa-58ecb77f098a",
        "colab": {
          "base_uri": "https://localhost:8080/"
        }
      },
      "outputs": [
        {
          "name": "stdout",
          "output_type": "stream",
          "text": [
            "Saisir un nom: ana\n",
            "Saisir l'age: 55\n"
          ]
        }
      ],
      "source": [
        "#Insertion des données\n",
        "nom = input(\"Saisir un nom: \")\n",
        "age = int(input(\"Saisir l'age: \"))\n",
        "commande = \"insert into usagers(nom, age) values(?,?)\"\n",
        "curseur.execute(commande, [nom, age])\n",
        "conn.commit()"
      ]
    },
    {
      "cell_type": "code",
      "execution_count": 12,
      "metadata": {
        "id": "sinUQvUBONtN",
        "outputId": "2ea44000-1882-476e-a375-98a39c79a552",
        "colab": {
          "base_uri": "https://localhost:8080/"
        }
      },
      "outputs": [
        {
          "output_type": "stream",
          "name": "stdout",
          "text": [
            "==================================================\n",
            "Nom: pepe, age: 15\n",
            "Nom: pancho, age: 13\n"
          ]
        }
      ],
      "source": [
        "#Select des données\n",
        "requete = \"select nom, age from usagers where age between ? and ?\"\n",
        "curseur.execute(requete, [1, 18])\n",
        "\n",
        "#parcours du curseur\n",
        "print(\"=\" * 50)\n",
        "lignes = curseur.fetchall()\n",
        "for ligne in lignes:\n",
        "  print(\"Nom: {}, age: {}\".format(ligne[0], ligne[1]))\n",
        " \n",
        "#fermer la BD\n",
        "conn.close()"
      ]
    },
    {
      "cell_type": "markdown",
      "metadata": {
        "id": "uAsGyV58ONtO"
      },
      "source": [
        "# Solutionnaires"
      ]
    },
    {
      "cell_type": "code",
      "execution_count": null,
      "metadata": {
        "id": "nXu4n2JyONtO",
        "outputId": "d43dffb1-cd77-4cc6-d02e-531794dc1b24"
      },
      "outputs": [
        {
          "data": {
            "text/plain": [
              "<sqlite3.Cursor at 0x2c1339c48f0>"
            ]
          },
          "execution_count": 2,
          "metadata": {},
          "output_type": "execute_result"
        }
      ],
      "source": [
        "#BD sqlite\n",
        "import sqlite3\n",
        "#creer une connexion sur la BD\n",
        "conn = sqlite3.connect(\"bdeb.dbf\")\n",
        "#script DDL\n",
        "cde_ddl = \"\"\"create table if not exists usagers(\n",
        "id integer primary key autoincrement,\n",
        "nom text,\n",
        "age integer\n",
        ")\n",
        "\"\"\"\n",
        "#créer un curseur\n",
        "curseur = conn.cursor()\n",
        "#créer la table\n",
        "curseur.execute(cde_ddl)"
      ]
    },
    {
      "cell_type": "code",
      "execution_count": null,
      "metadata": {
        "id": "V1WWLttFONtQ"
      },
      "outputs": [],
      "source": [
        "#Insertion des données\n",
        "cde = \"insert into usagers(nom,age) values (?,?)\"\n",
        "nom = input(\"Votre nom:\")\n",
        "age = int(input(\"Votre age:\"))\n",
        "curseur.execute(cde, [nom,age])\n",
        "conn.commit()"
      ]
    },
    {
      "cell_type": "code",
      "execution_count": null,
      "metadata": {
        "id": "bufZZHy7ONtR"
      },
      "outputs": [],
      "source": [
        "#Select des données\n",
        "requete = \"select id, nom, age from usagers where age = ?\"\n",
        "mot_cle = int (input(\"Age recherché:\"))\n",
        "curseur.execute(requete, [mot_cle,])\n",
        "#parcours du curseur\n",
        "print(\"=\" * 50)\n",
        "for ligne in curseur:\n",
        "   print(\"ID:{} Nom:{} et Age:{}\". format(ligne[0], ligne[1], ligne[2]))\n",
        "#fermer la BD\n",
        "conn.close()"
      ]
    }
  ],
  "metadata": {
    "kernelspec": {
      "display_name": "Python 3",
      "language": "python",
      "name": "python3"
    },
    "language_info": {
      "codemirror_mode": {
        "name": "ipython",
        "version": 3
      },
      "file_extension": ".py",
      "mimetype": "text/x-python",
      "name": "python",
      "nbconvert_exporter": "python",
      "pygments_lexer": "ipython3",
      "version": "3.8.5"
    },
    "colab": {
      "name": "pratique_bd_sqlite.ipynb",
      "provenance": [],
      "include_colab_link": true
    }
  },
  "nbformat": 4,
  "nbformat_minor": 0
}