{
 "cells": [
  {
   "cell_type": "markdown",
   "metadata": {},
   "source": [
    "# Création de fonctions"
   ]
  },
  {
   "cell_type": "code",
   "execution_count": 1,
   "metadata": {},
   "outputs": [],
   "source": [
    "#Saisir la température\n",
    " \n",
    "\n"
   ]
  },
  {
   "cell_type": "code",
   "execution_count": 2,
   "metadata": {},
   "outputs": [],
   "source": [
    "#Déterminer l'activité\n",
    " \n",
    " \n",
    "\n",
    "\n",
    "\n"
   ]
  },
  {
   "cell_type": "code",
   "execution_count": 9,
   "metadata": {},
   "outputs": [],
   "source": [
    "#Afficher l'activité proposée\n",
    " \n",
    "     \n",
    "        \n",
    "        \n",
    "        \n",
    "        \n",
    "        \n",
    "        \n",
    "        \n",
    " "
   ]
  },
  {
   "cell_type": "markdown",
   "metadata": {},
   "source": [
    "# Solutionnaire"
   ]
  },
  {
   "cell_type": "markdown",
   "metadata": {},
   "source": [
    "* Note importante: on peut améliorer la solution suivante en introduisant une vérification de la saisie et des pseudo-constantes"
   ]
  },
  {
   "cell_type": "code",
   "execution_count": 5,
   "metadata": {},
   "outputs": [
    {
     "name": "stdout",
     "output_type": "stream",
     "text": [
      "Saisir la temperature:33\n",
      "L'activité proposée est:natation\n"
     ]
    }
   ],
   "source": [
    "#Saisir la température\n",
    "temperature = int(input(\"Saisir la temperature:\"))\n",
    "\n",
    "#Détermination d'activité\n",
    "if temperature < 2:\n",
    "    activite = \"ski\"\n",
    "elif temperature < 18:\n",
    "    activite = \"randonnée dans les bois\"\n",
    "elif temperature < 25:\n",
    "    activite = \"tennis\"\n",
    "else:\n",
    "    activite = \"natation\"\n",
    "\n",
    "#Affichage du résultat\n",
    "print(\"L'activité proposée est:{}\".format(activite))\n",
    "    \n",
    "\n"
   ]
  }
 ],
 "metadata": {
  "kernelspec": {
   "display_name": "Python 3",
   "language": "python",
   "name": "python3"
  },
  "language_info": {
   "codemirror_mode": {
    "name": "ipython",
    "version": 3
   },
   "file_extension": ".py",
   "mimetype": "text/x-python",
   "name": "python",
   "nbconvert_exporter": "python",
   "pygments_lexer": "ipython3",
   "version": "3.8.5"
  }
 },
 "nbformat": 4,
 "nbformat_minor": 4
}
