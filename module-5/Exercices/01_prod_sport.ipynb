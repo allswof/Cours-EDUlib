{
  "cells": [
    {
      "cell_type": "markdown",
      "source": [
        "<a href=\"https://github.com/pia-fcse-bdeb/Cours-EDUlib/blob/master/module-5/Exercices/01_prod_sport.ipynb\">\n",
        "  <img src=\"https://colab.research.google.com/assets/colab-badge.svg\" alt=\"Open In Colab\"/>\n",
        "</a>"
      ],
      "metadata": {
        "id": "h7mRoiUhZ_vv"
      }
    },
    {
      "cell_type": "markdown",
      "metadata": {
        "toc": true,
        "id": "B-gYvZWNZ-pv"
      },
      "source": [
        "<h1>Tables des matières<span class=\"tocSkip\"></span></h1>\n",
        "<div class=\"toc\"><ul class=\"toc-item\"><li><span><a href=\"#Tutoriel-complet-Regression-lineaire\" data-toc-modified-id=\"Tutoriel-complet-Regression-lineaire-1\"><span class=\"toc-item-num\">1&nbsp;&nbsp;</span>Tutoriel complet Regression lineaire</a></span><ul class=\"toc-item\"><li><span><a href=\"#Collecter-data-en-utilisant-pandas\" data-toc-modified-id=\"Collecter-data-en-utilisant-pandas-1.1\"><span class=\"toc-item-num\">1.1&nbsp;&nbsp;</span>Collecter data en utilisant pandas</a></span></li></ul></li><li><span><a href=\"#identification-des-descripteurs,-cible-et-observations\" data-toc-modified-id=\"identification-des-descripteurs,-cible-et-observations-2\"><span class=\"toc-item-num\">2&nbsp;&nbsp;</span>identification des descripteurs, cible et observations</a></span></li><li><span><a href=\"#Tracé-des-relations-entre-les-descripteurs-et-la-cible\" data-toc-modified-id=\"Tracé-des-relations-entre-les-descripteurs-et-la-cible-3\"><span class=\"toc-item-num\">3&nbsp;&nbsp;</span>Tracé des relations entre les descripteurs et la cible</a></span></li><li><span><a href=\"#Tracé-des-correlations-entre-les-différents-descripteurs-et-cible\" data-toc-modified-id=\"Tracé-des-correlations-entre-les-différents-descripteurs-et-cible-4\"><span class=\"toc-item-num\">4&nbsp;&nbsp;</span>Tracé des correlations entre les différents descripteurs et cible</a></span></li><li><span><a href=\"#Développement-du-modele-linear-regression\" data-toc-modified-id=\"Développement-du-modele-linear-regression-5\"><span class=\"toc-item-num\">5&nbsp;&nbsp;</span>Développement du modele linear regression</a></span></li></ul></div>"
      ]
    },
    {
      "cell_type": "markdown",
      "metadata": {
        "id": "3bQTKpduZ-p1"
      },
      "source": [
        "# Tutoriel complet Regression lineaire"
      ]
    },
    {
      "cell_type": "markdown",
      "metadata": {
        "id": "9MS4F1oQZ-p2"
      },
      "source": [
        "## Collecter data en utilisant pandas"
      ]
    },
    {
      "cell_type": "code",
      "execution_count": null,
      "metadata": {
        "id": "L9xaxNPLZ-p3"
      },
      "outputs": [],
      "source": [
        "# modules nécessaires pour le notebook\n",
        "import pandas as pd\n",
        "import matplotlib.pyplot as plt"
      ]
    },
    {
      "cell_type": "code",
      "execution_count": null,
      "metadata": {
        "id": "wG02zegXZ-p4",
        "outputId": "537c7761-2d60-4faa-bf82-0f7531596662"
      },
      "outputs": [
        {
          "data": {
            "text/html": [
              "<div>\n",
              "<style scoped>\n",
              "    .dataframe tbody tr th:only-of-type {\n",
              "        vertical-align: middle;\n",
              "    }\n",
              "\n",
              "    .dataframe tbody tr th {\n",
              "        vertical-align: top;\n",
              "    }\n",
              "\n",
              "    .dataframe thead th {\n",
              "        text-align: right;\n",
              "    }\n",
              "</style>\n",
              "<table border=\"1\" class=\"dataframe\">\n",
              "  <thead>\n",
              "    <tr style=\"text-align: right;\">\n",
              "      <th></th>\n",
              "      <th>velo</th>\n",
              "      <th>tapis</th>\n",
              "      <th>halteres</th>\n",
              "      <th>pct_muscle</th>\n",
              "    </tr>\n",
              "  </thead>\n",
              "  <tbody>\n",
              "    <tr>\n",
              "      <th>0</th>\n",
              "      <td>168.4</td>\n",
              "      <td>7.1</td>\n",
              "      <td>12.8</td>\n",
              "      <td>11.7</td>\n",
              "    </tr>\n",
              "    <tr>\n",
              "      <th>1</th>\n",
              "      <td>142.9</td>\n",
              "      <td>29.3</td>\n",
              "      <td>12.6</td>\n",
              "      <td>15.0</td>\n",
              "    </tr>\n",
              "    <tr>\n",
              "      <th>2</th>\n",
              "      <td>206.8</td>\n",
              "      <td>5.2</td>\n",
              "      <td>19.4</td>\n",
              "      <td>12.2</td>\n",
              "    </tr>\n",
              "    <tr>\n",
              "      <th>3</th>\n",
              "      <td>137.9</td>\n",
              "      <td>46.4</td>\n",
              "      <td>59.0</td>\n",
              "      <td>19.2</td>\n",
              "    </tr>\n",
              "    <tr>\n",
              "      <th>4</th>\n",
              "      <td>70.6</td>\n",
              "      <td>16.0</td>\n",
              "      <td>40.8</td>\n",
              "      <td>10.5</td>\n",
              "    </tr>\n",
              "  </tbody>\n",
              "</table>\n",
              "</div>"
            ],
            "text/plain": [
              "    velo  tapis  halteres  pct_muscle\n",
              "0  168.4    7.1      12.8        11.7\n",
              "1  142.9   29.3      12.6        15.0\n",
              "2  206.8    5.2      19.4        12.2\n",
              "3  137.9   46.4      59.0        19.2\n",
              "4   70.6   16.0      40.8        10.5"
            ]
          },
          "execution_count": 45,
          "metadata": {},
          "output_type": "execute_result"
        }
      ],
      "source": [
        "# lire le fichier de données\n",
        "#utiliser le param index_col: Column to use as the row labels of the DataFrame\n",
        "df = pd.read_csv('data_sport.csv', index_col=0)\n",
        "df.head()"
      ]
    },
    {
      "cell_type": "code",
      "execution_count": null,
      "metadata": {
        "id": "bgRMRtx5Z-p6",
        "outputId": "1753b427-d846-41e6-97fe-55d3c5b9936c"
      },
      "outputs": [
        {
          "data": {
            "text/html": [
              "<div>\n",
              "<style scoped>\n",
              "    .dataframe tbody tr th:only-of-type {\n",
              "        vertical-align: middle;\n",
              "    }\n",
              "\n",
              "    .dataframe tbody tr th {\n",
              "        vertical-align: top;\n",
              "    }\n",
              "\n",
              "    .dataframe thead th {\n",
              "        text-align: right;\n",
              "    }\n",
              "</style>\n",
              "<table border=\"1\" class=\"dataframe\">\n",
              "  <thead>\n",
              "    <tr style=\"text-align: right;\">\n",
              "      <th></th>\n",
              "      <th>velo</th>\n",
              "      <th>tapis</th>\n",
              "      <th>halteres</th>\n",
              "      <th>pct_muscle</th>\n",
              "    </tr>\n",
              "  </thead>\n",
              "  <tbody>\n",
              "    <tr>\n",
              "      <th>count</th>\n",
              "      <td>160.000000</td>\n",
              "      <td>160.000000</td>\n",
              "      <td>160.000000</td>\n",
              "      <td>160.000000</td>\n",
              "    </tr>\n",
              "    <tr>\n",
              "      <th>mean</th>\n",
              "      <td>145.581875</td>\n",
              "      <td>23.230000</td>\n",
              "      <td>30.398750</td>\n",
              "      <td>14.070625</td>\n",
              "    </tr>\n",
              "    <tr>\n",
              "      <th>std</th>\n",
              "      <td>86.003289</td>\n",
              "      <td>14.969116</td>\n",
              "      <td>21.942481</td>\n",
              "      <td>5.400054</td>\n",
              "    </tr>\n",
              "    <tr>\n",
              "      <th>min</th>\n",
              "      <td>0.700000</td>\n",
              "      <td>0.000000</td>\n",
              "      <td>0.300000</td>\n",
              "      <td>1.600000</td>\n",
              "    </tr>\n",
              "    <tr>\n",
              "      <th>25%</th>\n",
              "      <td>72.700000</td>\n",
              "      <td>9.750000</td>\n",
              "      <td>12.750000</td>\n",
              "      <td>10.300000</td>\n",
              "    </tr>\n",
              "    <tr>\n",
              "      <th>50%</th>\n",
              "      <td>139.900000</td>\n",
              "      <td>22.000000</td>\n",
              "      <td>25.600000</td>\n",
              "      <td>12.800000</td>\n",
              "    </tr>\n",
              "    <tr>\n",
              "      <th>75%</th>\n",
              "      <td>219.925000</td>\n",
              "      <td>36.650000</td>\n",
              "      <td>44.500000</td>\n",
              "      <td>17.700000</td>\n",
              "    </tr>\n",
              "    <tr>\n",
              "      <th>max</th>\n",
              "      <td>296.400000</td>\n",
              "      <td>49.600000</td>\n",
              "      <td>114.000000</td>\n",
              "      <td>27.000000</td>\n",
              "    </tr>\n",
              "  </tbody>\n",
              "</table>\n",
              "</div>"
            ],
            "text/plain": [
              "             velo       tapis    halteres  pct_muscle\n",
              "count  160.000000  160.000000  160.000000  160.000000\n",
              "mean   145.581875   23.230000   30.398750   14.070625\n",
              "std     86.003289   14.969116   21.942481    5.400054\n",
              "min      0.700000    0.000000    0.300000    1.600000\n",
              "25%     72.700000    9.750000   12.750000   10.300000\n",
              "50%    139.900000   22.000000   25.600000   12.800000\n",
              "75%    219.925000   36.650000   44.500000   17.700000\n",
              "max    296.400000   49.600000  114.000000   27.000000"
            ]
          },
          "execution_count": 46,
          "metadata": {},
          "output_type": "execute_result"
        }
      ],
      "source": [
        "df.describe()"
      ]
    },
    {
      "cell_type": "code",
      "execution_count": null,
      "metadata": {
        "id": "Qo_7kwyjZ-p6"
      },
      "outputs": [],
      "source": [
        "# rows = df.sample(frac =.80)\n",
        "# rows.head()\n",
        "# rows.reset_index(drop=True, inplace=True)\n",
        "# #sauvegarder le data\n",
        "# rows.to_csv(\"data_sport.csv\",index=True)"
      ]
    },
    {
      "cell_type": "markdown",
      "metadata": {
        "id": "MS8VgePgZ-p8"
      },
      "source": [
        "# identification des descripteurs, cible et observations"
      ]
    },
    {
      "cell_type": "markdown",
      "metadata": {
        "id": "txDepZD4Z-p8"
      },
      "source": [
        "Quels sont les descripteurs? On a 3 descripteurs dans ce dataset qui sont:"
      ]
    },
    {
      "cell_type": "markdown",
      "metadata": {
        "id": "ySp0gm45Z-p-"
      },
      "source": [
        "* Entrainement sur vélo stationnaire\n",
        "* Entrainement sur tapis roulant\n",
        "* Utilisation de haltères et poids"
      ]
    },
    {
      "cell_type": "markdown",
      "metadata": {
        "id": "jM7x21DQZ-p-"
      },
      "source": [
        "Quelle est la cible?"
      ]
    },
    {
      "cell_type": "markdown",
      "metadata": {
        "id": "spYGwALpZ-p-"
      },
      "source": [
        "* Pct_musculaire: pourcentage d'augmentation de la masse musculaire"
      ]
    },
    {
      "cell_type": "markdown",
      "metadata": {
        "id": "ErVsnfooZ-p_"
      },
      "source": [
        "Quelle est la forme ou shape du dataframe?"
      ]
    },
    {
      "cell_type": "code",
      "execution_count": null,
      "metadata": {
        "id": "UcjBzbrnZ-p_",
        "outputId": "f9e49064-f86f-4e16-ef28-65595fc2a169"
      },
      "outputs": [
        {
          "data": {
            "text/plain": [
              "(160, 4)"
            ]
          },
          "execution_count": 48,
          "metadata": {},
          "output_type": "execute_result"
        }
      ],
      "source": [
        "df.shape"
      ]
    },
    {
      "cell_type": "markdown",
      "metadata": {
        "id": "GhY-P40dZ-qA"
      },
      "source": [
        "On voit que l'on a 160 observations avec 4 colonnes dont 3 sont des descripteurs"
      ]
    },
    {
      "cell_type": "markdown",
      "metadata": {
        "id": "0kbs7O4JZ-qA"
      },
      "source": [
        "# Tracé des relations entre les descripteurs et la cible"
      ]
    },
    {
      "cell_type": "code",
      "execution_count": null,
      "metadata": {
        "id": "eZwwZR8gZ-qB",
        "outputId": "6680a200-e37b-48c1-c679-81f5b136d7d1"
      },
      "outputs": [
        {
          "data": {
            "text/plain": [
              "<AxesSubplot:xlabel='halteres', ylabel='pct_muscle'>"
            ]
          },
          "execution_count": 49,
          "metadata": {},
          "output_type": "execute_result"
        },
        {
          "data": {
            "image/png": "[encoded data removed]",
            "text/plain": [
              "<Figure size 1152x576 with 3 Axes>"
            ]
          },
          "metadata": {
            "needs_background": "light"
          },
          "output_type": "display_data"
        }
      ],
      "source": [
        "#utilisation d'une figure avec 3 plots aligné sur une ligne\n",
        "fig, axes = plt.subplots(1,3,sharey=False)\n",
        "df.plot(kind='scatter', x='velo', y='pct_muscle', \n",
        "        ax=axes[0], figsize=(16,8))\n",
        "df.plot(kind='scatter', x='tapis', y='pct_muscle', \n",
        "        ax=axes[1], figsize=(16,8))\n",
        "df.plot(kind='scatter', x='halteres', y='pct_muscle', \n",
        "        ax=axes[2], figsize=(16,8))"
      ]
    },
    {
      "cell_type": "markdown",
      "metadata": {
        "id": "MQwNin_TZ-qB"
      },
      "source": [
        "On voit au niveau des graphes qu'il existe une certaine relation linéaire entre Vélo et pct_muscle ainsi que Tapis et pct_muscle"
      ]
    },
    {
      "cell_type": "markdown",
      "metadata": {
        "id": "yxL6eX-HZ-qB"
      },
      "source": [
        "# Tracé des correlations entre les différents descripteurs et cible"
      ]
    },
    {
      "cell_type": "markdown",
      "metadata": {
        "collapsed": true,
        "id": "G25c2GdIZ-qC"
      },
      "source": [
        "* On utilise ici seaborn pour avoir la matrice des correlations"
      ]
    },
    {
      "cell_type": "code",
      "execution_count": null,
      "metadata": {
        "id": "si7BuD1hZ-qC",
        "outputId": "95c938eb-3d38-4bc3-a7c7-aec8f3a39e6e"
      },
      "outputs": [
        {
          "data": {
            "image/png": "[encoded data removed]",
            "text/plain": [
              "<Figure size 432x288 with 2 Axes>"
            ]
          },
          "metadata": {
            "needs_background": "light"
          },
          "output_type": "display_data"
        }
      ],
      "source": [
        "import seaborn as sns\n",
        "#We can visualise the correlation between all the variables in the dataset using a heatmap in Seaborn\n",
        "sns.heatmap(data=df.corr().round(2), \n",
        "            cmap='coolwarm', annot=True, annot_kws={\"size\":8})\n",
        "plt.tight_layout()\n",
        "plt.show()"
      ]
    },
    {
      "cell_type": "markdown",
      "metadata": {
        "id": "3LmCFl-eZ-qD"
      },
      "source": [
        "On confirme qu'il n'y a pas vraiment de dépendance entre les descripteurs."
      ]
    },
    {
      "cell_type": "markdown",
      "metadata": {
        "id": "G1X_BxlzZ-qD"
      },
      "source": [
        "# Développement du modele linear regression"
      ]
    },
    {
      "cell_type": "code",
      "execution_count": null,
      "metadata": {
        "id": "xHsmbFMTZ-qD"
      },
      "outputs": [],
      "source": [
        "from sklearn.linear_model import LinearRegression\n",
        "cols_predicteurs = ['velo','tapis','halteres']\n",
        "#predicteurs\n",
        "X = df[cols_predicteurs]\n",
        "y = df.pct_muscle\n"
      ]
    },
    {
      "cell_type": "code",
      "execution_count": null,
      "metadata": {
        "id": "5M4L3nE7Z-qE",
        "outputId": "ce6ea46e-e613-40a3-91bc-9bb099067bd2"
      },
      "outputs": [
        {
          "name": "stdout",
          "output_type": "stream",
          "text": [
            "(128, 3) (128,)\n",
            "(32, 3) (32,)\n"
          ]
        }
      ],
      "source": [
        "#Effectuer la séparation Training-Test\n",
        "from sklearn import model_selection \n",
        " \n",
        "X_train, X_test, y_train, y_test = model_selection.train_test_split(X, \n",
        "                                        y , test_size = 0.2, random_state=42)\n",
        "#detail de chacun des sous-dataset\n",
        "print (X_train.shape, y_train.shape)\n",
        "print (X_test.shape, y_test.shape)"
      ]
    },
    {
      "cell_type": "code",
      "execution_count": null,
      "metadata": {
        "id": "MbfxDUL7Z-qE",
        "outputId": "ec6ba814-16ee-44db-e73f-5acaa086ce87"
      },
      "outputs": [
        {
          "name": "stdout",
          "output_type": "stream",
          "text": [
            "2.909982113373802\n",
            "[0.04583993 0.19234319 0.00047693]\n"
          ]
        }
      ],
      "source": [
        "#estimation des coeeficients du modele lineaire\n",
        "lm = LinearRegression()\n",
        "lm.fit(X_train,y_train)\n",
        "#Afficher les coefficients\n",
        "print(lm.intercept_)\n",
        "print(lm.coef_)"
      ]
    },
    {
      "cell_type": "code",
      "execution_count": null,
      "metadata": {
        "id": "atnV5rLIZ-qE",
        "outputId": "4c35ecfb-5078-414f-a33b-aa49ee1b2581"
      },
      "outputs": [
        {
          "data": {
            "text/plain": [
              "[('velo', 0.045839926701690105),\n",
              " ('tapis', 0.19234319213443807),\n",
              " ('halteres', 0.00047693473161205017)]"
            ]
          },
          "execution_count": 54,
          "metadata": {},
          "output_type": "execute_result"
        }
      ],
      "source": [
        "#Afficher l'equation\n",
        "list(zip(cols_predicteurs, lm.coef_))\n"
      ]
    },
    {
      "cell_type": "code",
      "execution_count": null,
      "metadata": {
        "id": "s0f9AN8rZ-qF"
      },
      "outputs": [],
      "source": [
        "#Sauvegarder intercept et coefficient dans fichier\n",
        "#fichier rl.csv ou rl.pkl csv ou pickle (dump et load)\n"
      ]
    },
    {
      "cell_type": "code",
      "execution_count": null,
      "metadata": {
        "id": "ABegd5qTZ-qF"
      },
      "outputs": [],
      "source": [
        "# proceder au test\n",
        "y_pred = lm.predict(X_test)"
      ]
    },
    {
      "cell_type": "code",
      "execution_count": null,
      "metadata": {
        "id": "DIo9Ab6fZ-qF",
        "outputId": "4ac8392b-88a7-4557-d74d-8a2f8d47b6ed"
      },
      "outputs": [
        {
          "data": {
            "text/html": [
              "<div>\n",
              "<style scoped>\n",
              "    .dataframe tbody tr th:only-of-type {\n",
              "        vertical-align: middle;\n",
              "    }\n",
              "\n",
              "    .dataframe tbody tr th {\n",
              "        vertical-align: top;\n",
              "    }\n",
              "\n",
              "    .dataframe thead th {\n",
              "        text-align: right;\n",
              "    }\n",
              "</style>\n",
              "<table border=\"1\" class=\"dataframe\">\n",
              "  <thead>\n",
              "    <tr style=\"text-align: right;\">\n",
              "      <th></th>\n",
              "      <th>Valeurs test</th>\n",
              "      <th>Valeurs prédites</th>\n",
              "      <th>residuels</th>\n",
              "    </tr>\n",
              "  </thead>\n",
              "  <tbody>\n",
              "    <tr>\n",
              "      <th>105</th>\n",
              "      <td>12.9</td>\n",
              "      <td>11.90</td>\n",
              "      <td>1.002594</td>\n",
              "    </tr>\n",
              "    <tr>\n",
              "      <th>108</th>\n",
              "      <td>25.4</td>\n",
              "      <td>24.35</td>\n",
              "      <td>1.049655</td>\n",
              "    </tr>\n",
              "    <tr>\n",
              "      <th>141</th>\n",
              "      <td>12.6</td>\n",
              "      <td>13.11</td>\n",
              "      <td>-0.509707</td>\n",
              "    </tr>\n",
              "    <tr>\n",
              "      <th>55</th>\n",
              "      <td>8.1</td>\n",
              "      <td>5.76</td>\n",
              "      <td>2.342689</td>\n",
              "    </tr>\n",
              "    <tr>\n",
              "      <th>94</th>\n",
              "      <td>7.0</td>\n",
              "      <td>7.97</td>\n",
              "      <td>-0.969658</td>\n",
              "    </tr>\n",
              "    <tr>\n",
              "      <th>29</th>\n",
              "      <td>12.6</td>\n",
              "      <td>12.43</td>\n",
              "      <td>0.167100</td>\n",
              "    </tr>\n",
              "    <tr>\n",
              "      <th>101</th>\n",
              "      <td>10.3</td>\n",
              "      <td>9.71</td>\n",
              "      <td>0.588932</td>\n",
              "    </tr>\n",
              "    <tr>\n",
              "      <th>51</th>\n",
              "      <td>12.9</td>\n",
              "      <td>14.02</td>\n",
              "      <td>-1.122537</td>\n",
              "    </tr>\n",
              "    <tr>\n",
              "      <th>100</th>\n",
              "      <td>13.2</td>\n",
              "      <td>12.85</td>\n",
              "      <td>0.345713</td>\n",
              "    </tr>\n",
              "    <tr>\n",
              "      <th>142</th>\n",
              "      <td>5.3</td>\n",
              "      <td>8.91</td>\n",
              "      <td>-3.613062</td>\n",
              "    </tr>\n",
              "  </tbody>\n",
              "</table>\n",
              "</div>"
            ],
            "text/plain": [
              "     Valeurs test  Valeurs prédites  residuels\n",
              "105          12.9             11.90   1.002594\n",
              "108          25.4             24.35   1.049655\n",
              "141          12.6             13.11  -0.509707\n",
              "55            8.1              5.76   2.342689\n",
              "94            7.0              7.97  -0.969658\n",
              "29           12.6             12.43   0.167100\n",
              "101          10.3              9.71   0.588932\n",
              "51           12.9             14.02  -1.122537\n",
              "100          13.2             12.85   0.345713\n",
              "142           5.3              8.91  -3.613062"
            ]
          },
          "execution_count": 57,
          "metadata": {},
          "output_type": "execute_result"
        }
      ],
      "source": [
        "import numpy as np\n",
        "#comparer les valeurs test et prédites\n",
        "test_pred_df = pd.DataFrame( { 'Valeurs test': y_test,\n",
        "                'Valeurs prédites': np.round( y_pred, 2),\n",
        "                'residuels': y_test - y_pred } )\n",
        "test_pred_df[0:10]"
      ]
    },
    {
      "cell_type": "code",
      "execution_count": null,
      "metadata": {
        "id": "5bylevjZZ-qG",
        "outputId": "b017f21a-2933-46bc-b566-1e8fd2808f81"
      },
      "outputs": [
        {
          "name": "stdout",
          "output_type": "stream",
          "text": [
            "1.4473087105157845\n",
            "0.923865526034218\n"
          ]
        }
      ],
      "source": [
        "from sklearn import metrics\n",
        "# RMSE\n",
        "print(np.sqrt(metrics.mean_squared_error(y_test,\n",
        "                                         y_pred)))\n",
        "\n",
        "#Calcul du R-carré\n",
        "r2 = metrics.r2_score(y_test, y_pred)\n",
        "print(r2)"
      ]
    }
  ],
  "metadata": {
    "kernelspec": {
      "display_name": "Python 3",
      "language": "python",
      "name": "python3"
    },
    "language_info": {
      "codemirror_mode": {
        "name": "ipython",
        "version": 3
      },
      "file_extension": ".py",
      "mimetype": "text/x-python",
      "name": "python",
      "nbconvert_exporter": "python",
      "pygments_lexer": "ipython3",
      "version": "3.8.5"
    },
    "toc": {
      "base_numbering": 1,
      "nav_menu": {},
      "number_sections": true,
      "sideBar": true,
      "skip_h1_title": false,
      "title_cell": "Tables des matières",
      "title_sidebar": "Contenu",
      "toc_cell": true,
      "toc_position": {},
      "toc_section_display": true,
      "toc_window_display": true
    },
    "colab": {
      "name": "01_prod_sport.ipynb",
      "provenance": []
    }
  },
  "nbformat": 4,
  "nbformat_minor": 0
}