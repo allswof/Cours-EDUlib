{
 "cells": [
  {
   "cell_type": "markdown",
   "metadata": {},
   "source": [
    "# Manipulation sur fichier csv- technique de base"
   ]
  },
  {
   "cell_type": "code",
   "execution_count": null,
   "metadata": {},
   "outputs": [],
   "source": [
    "#Utiliser une comprehension de liste, le module csv ou tout autre technique\n",
    "\n",
    "\n",
    "\n",
    "\n",
    "\n",
    "\n",
    "\n",
    "\n",
    "\n",
    "\n",
    "\n",
    "\n",
    "\n",
    "\n",
    "\n",
    "\n",
    "\n",
    "\n",
    "\n",
    "\n",
    "\n",
    "\n",
    "\n",
    "\n",
    "\n",
    "\n",
    "\n",
    "\n",
    "\n",
    "\n",
    "\n"
   ]
  },
  {
   "cell_type": "markdown",
   "metadata": {},
   "source": [
    "# Solutionnaire"
   ]
  },
  {
   "cell_type": "code",
   "execution_count": 1,
   "metadata": {},
   "outputs": [
    {
     "name": "stdout",
     "output_type": "stream",
     "text": [
      "Flouflou    Code 123   a travaillé   31.30 heures avec une moyenne de    6.26 / jour\n",
      "Flouclair   Code 456   a travaillé   35.60 heures avec une moyenne de    7.12 / jour\n",
      "Clairclair  Code 789   a travaillé   38.50 heures avec une moyenne de    7.70 / jour\n"
     ]
    }
   ],
   "source": [
    "with open(\"heures.csv\", newline=\"\\n\") as fic:\n",
    "   listing = fic.readlines()\n",
    "   for ligne in listing:\n",
    "       token = ligne.split()\n",
    "       #calculer la somme des heures\n",
    "       somme = 0\n",
    "       for tmp in token[2:7]:\n",
    "           somme += float(tmp)\n",
    "       print(\"{1:12s}Code {0:5s} a travaillé {2:7.2f} heures avec une \"\n",
    "             \"moyenne de {3:7.2f} / jour\".format(token[0], token[1], somme, somme/5.0))\n"
   ]
  }
 ],
 "metadata": {
  "kernelspec": {
   "display_name": "Python 3",
   "language": "python",
   "name": "python3"
  },
  "language_info": {
   "codemirror_mode": {
    "name": "ipython",
    "version": 3
   },
   "file_extension": ".py",
   "mimetype": "text/x-python",
   "name": "python",
   "nbconvert_exporter": "python",
   "pygments_lexer": "ipython3",
   "version": "3.8.5"
  }
 },
 "nbformat": 4,
 "nbformat_minor": 4
}
