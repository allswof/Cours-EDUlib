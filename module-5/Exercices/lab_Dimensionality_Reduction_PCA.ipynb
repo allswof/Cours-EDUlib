{
 "cells": [
  {
   "cell_type": "markdown",
   "metadata": {
    "toc": true
   },
   "source": [
    "<h1>Tables des matières<span class=\"tocSkip\"></span></h1>\n",
    "<div class=\"toc\"><ul class=\"toc-item\"><li><span><a href=\"#Réduction-de-dimensions-et-Analyse-de-composantes-principales-(ACP)\" data-toc-modified-id=\"Réduction-de-dimensions-et-Analyse-de-composantes-principales-(ACP)-1\"><span class=\"toc-item-num\">1&nbsp;&nbsp;</span>Réduction de dimensions et Analyse de composantes principales (ACP)</a></span><ul class=\"toc-item\"><li><span><a href=\"#Chargement-du-Iris-Dataset-(i.e.-scikit-learn-iris)\" data-toc-modified-id=\"Chargement-du-Iris-Dataset-(i.e.-scikit-learn-iris)-1.1\"><span class=\"toc-item-num\">1.1&nbsp;&nbsp;</span>Chargement du Iris Dataset (i.e. scikit-learn iris)</a></span></li></ul></li></ul></div>"
   ]
  },
  {
   "cell_type": "markdown",
   "metadata": {},
   "source": [
    "\n",
    "# Réduction de dimensions et Analyse de composantes principales (ACP)"
   ]
  },
  {
   "cell_type": "code",
   "execution_count": 4,
   "metadata": {},
   "outputs": [],
   "source": [
    "# Imports de base\n",
    "import numpy as np\n",
    "import matplotlib.pyplot as plt\n",
    "import pylab as pl\n",
    "import pandas as pd\n",
    "#from bokeh.plotting import figure,show,output_notebook\n",
    "\n",
    "#import pour la classification\n",
    "from sklearn.neighbors import KNeighborsClassifier\n",
    "from sklearn.model_selection import train_test_split\n",
    "from sklearn.metrics import classification_report\n",
    " \n",
    "# import pour PCA\n",
    "from sklearn.decomposition import PCA\n"
   ]
  },
  {
   "cell_type": "markdown",
   "metadata": {},
   "source": [
    "## Chargement du Iris Dataset (i.e. scikit-learn iris)  \n"
   ]
  },
  {
   "cell_type": "code",
   "execution_count": 4,
   "metadata": {},
   "outputs": [],
   "source": [
    "#Import du dataset Iris\n",
    "from sklearn.datasets import load_iris\n",
    "iris = load_iris()"
   ]
  },
  {
   "cell_type": "code",
   "execution_count": 5,
   "metadata": {},
   "outputs": [
    {
     "name": "stdout",
     "output_type": "stream",
     "text": [
      "{'data': array([[5.1, 3.5, 1.4, 0.2],\n",
      "       [4.9, 3. , 1.4, 0.2],\n",
      "       [4.7, 3.2, 1.3, 0.2],\n",
      "       [4.6, 3.1, 1.5, 0.2],\n",
      "       [5. , 3.6, 1.4, 0.2],\n",
      "       [5.4, 3.9, 1.7, 0.4],\n",
      "       [4.6, 3.4, 1.4, 0.3],\n",
      "       [5. , 3.4, 1.5, 0.2],\n",
      "       [4.4, 2.9, 1.4, 0.2],\n",
      "       [4.9, 3.1, 1.5, 0.1],\n",
      "       [5.4, 3.7, 1.5, 0.2],\n",
      "       [4.8, 3.4, 1.6, 0.2],\n",
      "       [4.8, 3. , 1.4, 0.1],\n",
      "       [4.3, 3. , 1.1, 0.1],\n",
      "       [5.8, 4. , 1.2, 0.2],\n",
      "       [5.7, 4.4, 1.5, 0.4],\n",
      "       [5.4, 3.9, 1.3, 0.4],\n",
      "       [5.1, 3.5, 1.4, 0.3],\n",
      "       [5.7, 3.8, 1.7, 0.3],\n",
      "       [5.1, 3.8, 1.5, 0.3],\n",
      "       [5.4, 3.4, 1.7, 0.2],\n",
      "       [5.1, 3.7, 1.5, 0.4],\n",
      "       [4.6, 3.6, 1. , 0.2],\n",
      "       [5.1, 3.3, 1.7, 0.5],\n",
      "       [4.8, 3.4, 1.9, 0.2],\n",
      "       [5. , 3. , 1.6, 0.2],\n",
      "       [5. , 3.4, 1.6, 0.4],\n",
      "       [5.2, 3.5, 1.5, 0.2],\n",
      "       [5.2, 3.4, 1.4, 0.2],\n",
      "       [4.7, 3.2, 1.6, 0.2],\n",
      "       [4.8, 3.1, 1.6, 0.2],\n",
      "       [5.4, 3.4, 1.5, 0.4],\n",
      "       [5.2, 4.1, 1.5, 0.1],\n",
      "       [5.5, 4.2, 1.4, 0.2],\n",
      "       [4.9, 3.1, 1.5, 0.1],\n",
      "       [5. , 3.2, 1.2, 0.2],\n",
      "       [5.5, 3.5, 1.3, 0.2],\n",
      "       [4.9, 3.1, 1.5, 0.1],\n",
      "       [4.4, 3. , 1.3, 0.2],\n",
      "       [5.1, 3.4, 1.5, 0.2],\n",
      "       [5. , 3.5, 1.3, 0.3],\n",
      "       [4.5, 2.3, 1.3, 0.3],\n",
      "       [4.4, 3.2, 1.3, 0.2],\n",
      "       [5. , 3.5, 1.6, 0.6],\n",
      "       [5.1, 3.8, 1.9, 0.4],\n",
      "       [4.8, 3. , 1.4, 0.3],\n",
      "       [5.1, 3.8, 1.6, 0.2],\n",
      "       [4.6, 3.2, 1.4, 0.2],\n",
      "       [5.3, 3.7, 1.5, 0.2],\n",
      "       [5. , 3.3, 1.4, 0.2],\n",
      "       [7. , 3.2, 4.7, 1.4],\n",
      "       [6.4, 3.2, 4.5, 1.5],\n",
      "       [6.9, 3.1, 4.9, 1.5],\n",
      "       [5.5, 2.3, 4. , 1.3],\n",
      "       [6.5, 2.8, 4.6, 1.5],\n",
      "       [5.7, 2.8, 4.5, 1.3],\n",
      "       [6.3, 3.3, 4.7, 1.6],\n",
      "       [4.9, 2.4, 3.3, 1. ],\n",
      "       [6.6, 2.9, 4.6, 1.3],\n",
      "       [5.2, 2.7, 3.9, 1.4],\n",
      "       [5. , 2. , 3.5, 1. ],\n",
      "       [5.9, 3. , 4.2, 1.5],\n",
      "       [6. , 2.2, 4. , 1. ],\n",
      "       [6.1, 2.9, 4.7, 1.4],\n",
      "       [5.6, 2.9, 3.6, 1.3],\n",
      "       [6.7, 3.1, 4.4, 1.4],\n",
      "       [5.6, 3. , 4.5, 1.5],\n",
      "       [5.8, 2.7, 4.1, 1. ],\n",
      "       [6.2, 2.2, 4.5, 1.5],\n",
      "       [5.6, 2.5, 3.9, 1.1],\n",
      "       [5.9, 3.2, 4.8, 1.8],\n",
      "       [6.1, 2.8, 4. , 1.3],\n",
      "       [6.3, 2.5, 4.9, 1.5],\n",
      "       [6.1, 2.8, 4.7, 1.2],\n",
      "       [6.4, 2.9, 4.3, 1.3],\n",
      "       [6.6, 3. , 4.4, 1.4],\n",
      "       [6.8, 2.8, 4.8, 1.4],\n",
      "       [6.7, 3. , 5. , 1.7],\n",
      "       [6. , 2.9, 4.5, 1.5],\n",
      "       [5.7, 2.6, 3.5, 1. ],\n",
      "       [5.5, 2.4, 3.8, 1.1],\n",
      "       [5.5, 2.4, 3.7, 1. ],\n",
      "       [5.8, 2.7, 3.9, 1.2],\n",
      "       [6. , 2.7, 5.1, 1.6],\n",
      "       [5.4, 3. , 4.5, 1.5],\n",
      "       [6. , 3.4, 4.5, 1.6],\n",
      "       [6.7, 3.1, 4.7, 1.5],\n",
      "       [6.3, 2.3, 4.4, 1.3],\n",
      "       [5.6, 3. , 4.1, 1.3],\n",
      "       [5.5, 2.5, 4. , 1.3],\n",
      "       [5.5, 2.6, 4.4, 1.2],\n",
      "       [6.1, 3. , 4.6, 1.4],\n",
      "       [5.8, 2.6, 4. , 1.2],\n",
      "       [5. , 2.3, 3.3, 1. ],\n",
      "       [5.6, 2.7, 4.2, 1.3],\n",
      "       [5.7, 3. , 4.2, 1.2],\n",
      "       [5.7, 2.9, 4.2, 1.3],\n",
      "       [6.2, 2.9, 4.3, 1.3],\n",
      "       [5.1, 2.5, 3. , 1.1],\n",
      "       [5.7, 2.8, 4.1, 1.3],\n",
      "       [6.3, 3.3, 6. , 2.5],\n",
      "       [5.8, 2.7, 5.1, 1.9],\n",
      "       [7.1, 3. , 5.9, 2.1],\n",
      "       [6.3, 2.9, 5.6, 1.8],\n",
      "       [6.5, 3. , 5.8, 2.2],\n",
      "       [7.6, 3. , 6.6, 2.1],\n",
      "       [4.9, 2.5, 4.5, 1.7],\n",
      "       [7.3, 2.9, 6.3, 1.8],\n",
      "       [6.7, 2.5, 5.8, 1.8],\n",
      "       [7.2, 3.6, 6.1, 2.5],\n",
      "       [6.5, 3.2, 5.1, 2. ],\n",
      "       [6.4, 2.7, 5.3, 1.9],\n",
      "       [6.8, 3. , 5.5, 2.1],\n",
      "       [5.7, 2.5, 5. , 2. ],\n",
      "       [5.8, 2.8, 5.1, 2.4],\n",
      "       [6.4, 3.2, 5.3, 2.3],\n",
      "       [6.5, 3. , 5.5, 1.8],\n",
      "       [7.7, 3.8, 6.7, 2.2],\n",
      "       [7.7, 2.6, 6.9, 2.3],\n",
      "       [6. , 2.2, 5. , 1.5],\n",
      "       [6.9, 3.2, 5.7, 2.3],\n",
      "       [5.6, 2.8, 4.9, 2. ],\n",
      "       [7.7, 2.8, 6.7, 2. ],\n",
      "       [6.3, 2.7, 4.9, 1.8],\n",
      "       [6.7, 3.3, 5.7, 2.1],\n",
      "       [7.2, 3.2, 6. , 1.8],\n",
      "       [6.2, 2.8, 4.8, 1.8],\n",
      "       [6.1, 3. , 4.9, 1.8],\n",
      "       [6.4, 2.8, 5.6, 2.1],\n",
      "       [7.2, 3. , 5.8, 1.6],\n",
      "       [7.4, 2.8, 6.1, 1.9],\n",
      "       [7.9, 3.8, 6.4, 2. ],\n",
      "       [6.4, 2.8, 5.6, 2.2],\n",
      "       [6.3, 2.8, 5.1, 1.5],\n",
      "       [6.1, 2.6, 5.6, 1.4],\n",
      "       [7.7, 3. , 6.1, 2.3],\n",
      "       [6.3, 3.4, 5.6, 2.4],\n",
      "       [6.4, 3.1, 5.5, 1.8],\n",
      "       [6. , 3. , 4.8, 1.8],\n",
      "       [6.9, 3.1, 5.4, 2.1],\n",
      "       [6.7, 3.1, 5.6, 2.4],\n",
      "       [6.9, 3.1, 5.1, 2.3],\n",
      "       [5.8, 2.7, 5.1, 1.9],\n",
      "       [6.8, 3.2, 5.9, 2.3],\n",
      "       [6.7, 3.3, 5.7, 2.5],\n",
      "       [6.7, 3. , 5.2, 2.3],\n",
      "       [6.3, 2.5, 5. , 1.9],\n",
      "       [6.5, 3. , 5.2, 2. ],\n",
      "       [6.2, 3.4, 5.4, 2.3],\n",
      "       [5.9, 3. , 5.1, 1.8]]), 'target': array([0, 0, 0, 0, 0, 0, 0, 0, 0, 0, 0, 0, 0, 0, 0, 0, 0, 0, 0, 0, 0, 0,\n",
      "       0, 0, 0, 0, 0, 0, 0, 0, 0, 0, 0, 0, 0, 0, 0, 0, 0, 0, 0, 0, 0, 0,\n",
      "       0, 0, 0, 0, 0, 0, 1, 1, 1, 1, 1, 1, 1, 1, 1, 1, 1, 1, 1, 1, 1, 1,\n",
      "       1, 1, 1, 1, 1, 1, 1, 1, 1, 1, 1, 1, 1, 1, 1, 1, 1, 1, 1, 1, 1, 1,\n",
      "       1, 1, 1, 1, 1, 1, 1, 1, 1, 1, 1, 1, 2, 2, 2, 2, 2, 2, 2, 2, 2, 2,\n",
      "       2, 2, 2, 2, 2, 2, 2, 2, 2, 2, 2, 2, 2, 2, 2, 2, 2, 2, 2, 2, 2, 2,\n",
      "       2, 2, 2, 2, 2, 2, 2, 2, 2, 2, 2, 2, 2, 2, 2, 2, 2, 2]), 'target_names': array(['setosa', 'versicolor', 'virginica'], dtype='<U10'), 'DESCR': 'Iris Plants Database\\n====================\\n\\nNotes\\n-----\\nData Set Characteristics:\\n    :Number of Instances: 150 (50 in each of three classes)\\n    :Number of Attributes: 4 numeric, predictive attributes and the class\\n    :Attribute Information:\\n        - sepal length in cm\\n        - sepal width in cm\\n        - petal length in cm\\n        - petal width in cm\\n        - class:\\n                - Iris-Setosa\\n                - Iris-Versicolour\\n                - Iris-Virginica\\n    :Summary Statistics:\\n\\n    ============== ==== ==== ======= ===== ====================\\n                    Min  Max   Mean    SD   Class Correlation\\n    ============== ==== ==== ======= ===== ====================\\n    sepal length:   4.3  7.9   5.84   0.83    0.7826\\n    sepal width:    2.0  4.4   3.05   0.43   -0.4194\\n    petal length:   1.0  6.9   3.76   1.76    0.9490  (high!)\\n    petal width:    0.1  2.5   1.20  0.76     0.9565  (high!)\\n    ============== ==== ==== ======= ===== ====================\\n\\n    :Missing Attribute Values: None\\n    :Class Distribution: 33.3% for each of 3 classes.\\n    :Creator: R.A. Fisher\\n    :Donor: Michael Marshall (MARSHALL%PLU@io.arc.nasa.gov)\\n    :Date: July, 1988\\n\\nThis is a copy of UCI ML iris datasets.\\nhttp://archive.ics.uci.edu/ml/datasets/Iris\\n\\nThe famous Iris database, first used by Sir R.A Fisher\\n\\nThis is perhaps the best known database to be found in the\\npattern recognition literature.  Fisher\\'s paper is a classic in the field and\\nis referenced frequently to this day.  (See Duda & Hart, for example.)  The\\ndata set contains 3 classes of 50 instances each, where each class refers to a\\ntype of iris plant.  One class is linearly separable from the other 2; the\\nlatter are NOT linearly separable from each other.\\n\\nReferences\\n----------\\n   - Fisher,R.A. \"The use of multiple measurements in taxonomic problems\"\\n     Annual Eugenics, 7, Part II, 179-188 (1936); also in \"Contributions to\\n     Mathematical Statistics\" (John Wiley, NY, 1950).\\n   - Duda,R.O., & Hart,P.E. (1973) Pattern Classification and Scene Analysis.\\n     (Q327.D83) John Wiley & Sons.  ISBN 0-471-22361-1.  See page 218.\\n   - Dasarathy, B.V. (1980) \"Nosing Around the Neighborhood: A New System\\n     Structure and Classification Rule for Recognition in Partially Exposed\\n     Environments\".  IEEE Transactions on Pattern Analysis and Machine\\n     Intelligence, Vol. PAMI-2, No. 1, 67-71.\\n   - Gates, G.W. (1972) \"The Reduced Nearest Neighbor Rule\".  IEEE Transactions\\n     on Information Theory, May 1972, 431-433.\\n   - See also: 1988 MLC Proceedings, 54-64.  Cheeseman et al\"s AUTOCLASS II\\n     conceptual clustering system finds 3 classes in the data.\\n   - Many, many more ...\\n', 'feature_names': ['sepal length (cm)', 'sepal width (cm)', 'petal length (cm)', 'petal width (cm)']}\n"
     ]
    }
   ],
   "source": [
    "#Afficher le dataset\n",
    "print (iris)"
   ]
  },
  {
   "cell_type": "code",
   "execution_count": 6,
   "metadata": {},
   "outputs": [],
   "source": [
    "#Features et target\n",
    "X = iris.data\n",
    "y = iris.target\n",
    "noms_target = iris.target_names"
   ]
  },
  {
   "cell_type": "markdown",
   "metadata": {},
   "source": [
    "* Algorithme PCA prend un argument `n_components` qui spécifie le nombre de composantes principales que l'on va garder.  Dans le cas du dataset Iris on a seulement 4 features. On commence avec 2 features. "
   ]
  },
  {
   "cell_type": "code",
   "execution_count": 7,
   "metadata": {},
   "outputs": [],
   "source": [
    "# creer le modele et effectuer un fit du data\n",
    "pca = PCA(n_components=2)\n",
    "X_resultat = pca.fit(X).transform(X)"
   ]
  },
  {
   "cell_type": "code",
   "execution_count": 8,
   "metadata": {},
   "outputs": [
    {
     "data": {
      "text/plain": [
       "array([[-2.68420713,  0.32660731],\n",
       "       [-2.71539062, -0.16955685],\n",
       "       [-2.88981954, -0.13734561],\n",
       "       [-2.7464372 , -0.31112432],\n",
       "       [-2.72859298,  0.33392456],\n",
       "       [-2.27989736,  0.74778271],\n",
       "       [-2.82089068, -0.08210451],\n",
       "       [-2.62648199,  0.17040535],\n",
       "       [-2.88795857, -0.57079803],\n",
       "       [-2.67384469, -0.1066917 ],\n",
       "       [-2.50652679,  0.65193501],\n",
       "       [-2.61314272,  0.02152063],\n",
       "       [-2.78743398, -0.22774019],\n",
       "       [-3.22520045, -0.50327991],\n",
       "       [-2.64354322,  1.1861949 ],\n",
       "       [-2.38386932,  1.34475434],\n",
       "       [-2.6225262 ,  0.81808967],\n",
       "       [-2.64832273,  0.31913667],\n",
       "       [-2.19907796,  0.87924409],\n",
       "       [-2.58734619,  0.52047364],\n",
       "       [-2.3105317 ,  0.39786782],\n",
       "       [-2.54323491,  0.44003175],\n",
       "       [-3.21585769,  0.14161557],\n",
       "       [-2.30312854,  0.10552268],\n",
       "       [-2.35617109, -0.03120959],\n",
       "       [-2.50791723, -0.13905634],\n",
       "       [-2.469056  ,  0.13788731],\n",
       "       [-2.56239095,  0.37468456],\n",
       "       [-2.63982127,  0.31929007],\n",
       "       [-2.63284791, -0.19007583],\n",
       "       [-2.58846205, -0.19739308],\n",
       "       [-2.41007734,  0.41808001],\n",
       "       [-2.64763667,  0.81998263],\n",
       "       [-2.59715948,  1.10002193],\n",
       "       [-2.67384469, -0.1066917 ],\n",
       "       [-2.86699985,  0.0771931 ],\n",
       "       [-2.62522846,  0.60680001],\n",
       "       [-2.67384469, -0.1066917 ],\n",
       "       [-2.98184266, -0.48025005],\n",
       "       [-2.59032303,  0.23605934],\n",
       "       [-2.77013891,  0.27105942],\n",
       "       [-2.85221108, -0.93286537],\n",
       "       [-2.99829644, -0.33430757],\n",
       "       [-2.4055141 ,  0.19591726],\n",
       "       [-2.20883295,  0.44269603],\n",
       "       [-2.71566519, -0.24268148],\n",
       "       [-2.53757337,  0.51036755],\n",
       "       [-2.8403213 , -0.22057634],\n",
       "       [-2.54268576,  0.58628103],\n",
       "       [-2.70391231,  0.11501085],\n",
       "       [ 1.28479459,  0.68543919],\n",
       "       [ 0.93241075,  0.31919809],\n",
       "       [ 1.46406132,  0.50418983],\n",
       "       [ 0.18096721, -0.82560394],\n",
       "       [ 1.08713449,  0.07539039],\n",
       "       [ 0.64043675, -0.41732348],\n",
       "       [ 1.09522371,  0.28389121],\n",
       "       [-0.75146714, -1.00110751],\n",
       "       [ 1.04329778,  0.22895691],\n",
       "       [-0.01019007, -0.72057487],\n",
       "       [-0.5110862 , -1.26249195],\n",
       "       [ 0.51109806, -0.10228411],\n",
       "       [ 0.26233576, -0.5478933 ],\n",
       "       [ 0.98404455, -0.12436042],\n",
       "       [-0.174864  , -0.25181557],\n",
       "       [ 0.92757294,  0.46823621],\n",
       "       [ 0.65959279, -0.35197629],\n",
       "       [ 0.23454059, -0.33192183],\n",
       "       [ 0.94236171, -0.54182226],\n",
       "       [ 0.0432464 , -0.58148945],\n",
       "       [ 1.11624072, -0.08421401],\n",
       "       [ 0.35678657, -0.06682383],\n",
       "       [ 1.29646885, -0.32756152],\n",
       "       [ 0.92050265, -0.18239036],\n",
       "       [ 0.71400821,  0.15037915],\n",
       "       [ 0.89964086,  0.32961098],\n",
       "       [ 1.33104142,  0.24466952],\n",
       "       [ 1.55739627,  0.26739258],\n",
       "       [ 0.81245555, -0.16233157],\n",
       "       [-0.30733476, -0.36508661],\n",
       "       [-0.07034289, -0.70253793],\n",
       "       [-0.19188449, -0.67749054],\n",
       "       [ 0.13499495, -0.31170964],\n",
       "       [ 1.37873698, -0.42120514],\n",
       "       [ 0.58727485, -0.48328427],\n",
       "       [ 0.8072055 ,  0.19505396],\n",
       "       [ 1.22042897,  0.40803534],\n",
       "       [ 0.81286779, -0.370679  ],\n",
       "       [ 0.24519516, -0.26672804],\n",
       "       [ 0.16451343, -0.67966147],\n",
       "       [ 0.46303099, -0.66952655],\n",
       "       [ 0.89016045, -0.03381244],\n",
       "       [ 0.22887905, -0.40225762],\n",
       "       [-0.70708128, -1.00842476],\n",
       "       [ 0.35553304, -0.50321849],\n",
       "       [ 0.33112695, -0.21118014],\n",
       "       [ 0.37523823, -0.29162202],\n",
       "       [ 0.64169028,  0.01907118],\n",
       "       [-0.90846333, -0.75156873],\n",
       "       [ 0.29780791, -0.34701652],\n",
       "       [ 2.53172698, -0.01184224],\n",
       "       [ 1.41407223, -0.57492506],\n",
       "       [ 2.61648461,  0.34193529],\n",
       "       [ 1.97081495, -0.18112569],\n",
       "       [ 2.34975798, -0.04188255],\n",
       "       [ 3.39687992,  0.54716805],\n",
       "       [ 0.51938325, -1.19135169],\n",
       "       [ 2.9320051 ,  0.35237701],\n",
       "       [ 2.31967279, -0.24554817],\n",
       "       [ 2.91813423,  0.78038063],\n",
       "       [ 1.66193495,  0.2420384 ],\n",
       "       [ 1.80234045, -0.21615461],\n",
       "       [ 2.16537886,  0.21528028],\n",
       "       [ 1.34459422, -0.77641543],\n",
       "       [ 1.5852673 , -0.53930705],\n",
       "       [ 1.90474358,  0.11881899],\n",
       "       [ 1.94924878,  0.04073026],\n",
       "       [ 3.48876538,  1.17154454],\n",
       "       [ 3.79468686,  0.25326557],\n",
       "       [ 1.29832982, -0.76101394],\n",
       "       [ 2.42816726,  0.37678197],\n",
       "       [ 1.19809737, -0.60557896],\n",
       "       [ 3.49926548,  0.45677347],\n",
       "       [ 1.38766825, -0.20403099],\n",
       "       [ 2.27585365,  0.33338653],\n",
       "       [ 2.61419383,  0.55836695],\n",
       "       [ 1.25762518, -0.179137  ],\n",
       "       [ 1.29066965, -0.11642525],\n",
       "       [ 2.12285398, -0.21085488],\n",
       "       [ 2.3875644 ,  0.46251925],\n",
       "       [ 2.84096093,  0.37274259],\n",
       "       [ 3.2323429 ,  1.37052404],\n",
       "       [ 2.15873837, -0.21832553],\n",
       "       [ 1.4431026 , -0.14380129],\n",
       "       [ 1.77964011, -0.50146479],\n",
       "       [ 3.07652162,  0.68576444],\n",
       "       [ 2.14498686,  0.13890661],\n",
       "       [ 1.90486293,  0.04804751],\n",
       "       [ 1.16885347, -0.1645025 ],\n",
       "       [ 2.10765373,  0.37148225],\n",
       "       [ 2.31430339,  0.18260885],\n",
       "       [ 1.92245088,  0.40927118],\n",
       "       [ 1.41407223, -0.57492506],\n",
       "       [ 2.56332271,  0.2759745 ],\n",
       "       [ 2.41939122,  0.30350394],\n",
       "       [ 1.94401705,  0.18741522],\n",
       "       [ 1.52566363, -0.37502085],\n",
       "       [ 1.76404594,  0.07851919],\n",
       "       [ 1.90162908,  0.11587675],\n",
       "       [ 1.38966613, -0.28288671]])"
      ]
     },
     "execution_count": 8,
     "metadata": {},
     "output_type": "execute_result"
    }
   ],
   "source": [
    "X_resultat"
   ]
  },
  {
   "cell_type": "markdown",
   "metadata": {},
   "source": [
    "# On cherche maintenant le pourcentage de variance pris en charge par les 2 composantes PCA. On utilise l'attribut `explained_variance_ratio_` :"
   ]
  },
  {
   "cell_type": "code",
   "execution_count": 1,
   "metadata": {},
   "outputs": [],
   "source": [
    "# Pourcentage de variance explained  :\n",
    " "
   ]
  },
  {
   "cell_type": "markdown",
   "metadata": {},
   "source": [
    "* Conclusion:\n"
   ]
  },
  {
   "cell_type": "code",
   "execution_count": 10,
   "metadata": {},
   "outputs": [],
   "source": [
    "echelle_couleur = {0:'red',1:'blue',2:'orange'}\n",
    "\n",
    "couleurs = list()\n",
    "\n",
    "for valeur in y:\n",
    "    couleur = echelle_couleur[valeur]\n",
    "    couleurs.append(couleur)\n"
   ]
  },
  {
   "cell_type": "code",
   "execution_count": 32,
   "metadata": {},
   "outputs": [
    {
     "data": {
      "text/html": [
       "\n",
       "<div class=\"bk-root\">\n",
       "    <div class=\"bk-plotdiv\" id=\"ae119d10-47b3-4f8f-b570-ca47bfaf1869\"></div>\n",
       "</div>"
      ]
     },
     "metadata": {},
     "output_type": "display_data"
    },
    {
     "data": {
      "application/javascript": [
       "(function(root) {\n",
       "  function embed_document(root) {\n",
       "    \n",
       "  var docs_json = {\"12fc5c73-7e44-40cc-9b7f-1eba19ae5575\":{\"roots\":{\"references\":[{\"attributes\":{\"plot\":null,\"text\":\"PCA dans le Iris Dataset\"},\"id\":\"3ec54f2b-6616-473b-b32d-8e7d8568de50\",\"type\":\"Title\"},{\"attributes\":{\"callback\":null},\"id\":\"7ece2e67-42fb-48c6-ad36-44ab5c43e95d\",\"type\":\"DataRange1d\"},{\"attributes\":{\"source\":{\"id\":\"dc74b842-c255-40dd-891e-be2541785a82\",\"type\":\"ColumnDataSource\"}},\"id\":\"259d2736-a624-4eb8-a953-f616d8c1225f\",\"type\":\"CDSView\"},{\"attributes\":{\"active_drag\":\"auto\",\"active_inspect\":\"auto\",\"active_scroll\":\"auto\",\"active_tap\":\"auto\"},\"id\":\"fc7c69d6-b732-454b-be3e-0ead3d4b7b02\",\"type\":\"Toolbar\"},{\"attributes\":{},\"id\":\"39899a38-a916-45bd-ab6c-db96192a564a\",\"type\":\"Selection\"},{\"attributes\":{},\"id\":\"e865cd31-5945-4968-86e4-c7c268a5d20c\",\"type\":\"LinearScale\"},{\"attributes\":{\"callback\":null},\"id\":\"a874ede8-e153-4c85-9026-b13361dd7471\",\"type\":\"DataRange1d\"},{\"attributes\":{},\"id\":\"6d8924f7-2c31-482f-b712-5cf1b4d31fd0\",\"type\":\"LinearScale\"},{\"attributes\":{\"plot\":{\"id\":\"853f5e08-bce3-4b87-8be9-8fcb080edb53\",\"subtype\":\"Figure\",\"type\":\"Plot\"},\"ticker\":{\"id\":\"725032af-786f-4ac6-ac29-bcdd5d0efdfb\",\"type\":\"BasicTicker\"}},\"id\":\"1091dd64-5dc9-487d-bb36-48875ef6d4ca\",\"type\":\"Grid\"},{\"attributes\":{\"formatter\":{\"id\":\"93b0bc10-f46d-4c17-821f-c398fd6f836b\",\"type\":\"BasicTickFormatter\"},\"plot\":{\"id\":\"853f5e08-bce3-4b87-8be9-8fcb080edb53\",\"subtype\":\"Figure\",\"type\":\"Plot\"},\"ticker\":{\"id\":\"725032af-786f-4ac6-ac29-bcdd5d0efdfb\",\"type\":\"BasicTicker\"}},\"id\":\"165a8862-6189-4849-9bbe-d3b795cb7567\",\"type\":\"LinearAxis\"},{\"attributes\":{},\"id\":\"725032af-786f-4ac6-ac29-bcdd5d0efdfb\",\"type\":\"BasicTicker\"},{\"attributes\":{\"formatter\":{\"id\":\"b271f91f-0976-4c73-97c6-8d85f3ec2690\",\"type\":\"BasicTickFormatter\"},\"plot\":{\"id\":\"853f5e08-bce3-4b87-8be9-8fcb080edb53\",\"subtype\":\"Figure\",\"type\":\"Plot\"},\"ticker\":{\"id\":\"403b8443-1da2-4f71-9c8e-c09d9657567d\",\"type\":\"BasicTicker\"}},\"id\":\"a30cf1b1-a321-4acf-9e90-c63694002d5a\",\"type\":\"LinearAxis\"},{\"attributes\":{},\"id\":\"403b8443-1da2-4f71-9c8e-c09d9657567d\",\"type\":\"BasicTicker\"},{\"attributes\":{},\"id\":\"b271f91f-0976-4c73-97c6-8d85f3ec2690\",\"type\":\"BasicTickFormatter\"},{\"attributes\":{},\"id\":\"93b0bc10-f46d-4c17-821f-c398fd6f836b\",\"type\":\"BasicTickFormatter\"},{\"attributes\":{\"dimension\":1,\"plot\":{\"id\":\"853f5e08-bce3-4b87-8be9-8fcb080edb53\",\"subtype\":\"Figure\",\"type\":\"Plot\"},\"ticker\":{\"id\":\"403b8443-1da2-4f71-9c8e-c09d9657567d\",\"type\":\"BasicTicker\"}},\"id\":\"d5b051f8-e966-4d91-a77c-c9526d657f72\",\"type\":\"Grid\"},{\"attributes\":{\"callback\":null,\"data\":{\"fill_color\":[\"red\",\"red\",\"red\",\"red\",\"red\",\"red\",\"red\",\"red\",\"red\",\"red\",\"red\",\"red\",\"red\",\"red\",\"red\",\"red\",\"red\",\"red\",\"red\",\"red\",\"red\",\"red\",\"red\",\"red\",\"red\",\"red\",\"red\",\"red\",\"red\",\"red\",\"red\",\"red\",\"red\",\"red\",\"red\",\"red\",\"red\",\"red\",\"red\",\"red\",\"red\",\"red\",\"red\",\"red\",\"red\",\"red\",\"red\",\"red\",\"red\",\"red\",\"blue\",\"blue\",\"blue\",\"blue\",\"blue\",\"blue\",\"blue\",\"blue\",\"blue\",\"blue\",\"blue\",\"blue\",\"blue\",\"blue\",\"blue\",\"blue\",\"blue\",\"blue\",\"blue\",\"blue\",\"blue\",\"blue\",\"blue\",\"blue\",\"blue\",\"blue\",\"blue\",\"blue\",\"blue\",\"blue\",\"blue\",\"blue\",\"blue\",\"blue\",\"blue\",\"blue\",\"blue\",\"blue\",\"blue\",\"blue\",\"blue\",\"blue\",\"blue\",\"blue\",\"blue\",\"blue\",\"blue\",\"blue\",\"blue\",\"blue\",\"orange\",\"orange\",\"orange\",\"orange\",\"orange\",\"orange\",\"orange\",\"orange\",\"orange\",\"orange\",\"orange\",\"orange\",\"orange\",\"orange\",\"orange\",\"orange\",\"orange\",\"orange\",\"orange\",\"orange\",\"orange\",\"orange\",\"orange\",\"orange\",\"orange\",\"orange\",\"orange\",\"orange\",\"orange\",\"orange\",\"orange\",\"orange\",\"orange\",\"orange\",\"orange\",\"orange\",\"orange\",\"orange\",\"orange\",\"orange\",\"orange\",\"orange\",\"orange\",\"orange\",\"orange\",\"orange\",\"orange\",\"orange\",\"orange\",\"orange\"],\"line_color\":[\"red\",\"red\",\"red\",\"red\",\"red\",\"red\",\"red\",\"red\",\"red\",\"red\",\"red\",\"red\",\"red\",\"red\",\"red\",\"red\",\"red\",\"red\",\"red\",\"red\",\"red\",\"red\",\"red\",\"red\",\"red\",\"red\",\"red\",\"red\",\"red\",\"red\",\"red\",\"red\",\"red\",\"red\",\"red\",\"red\",\"red\",\"red\",\"red\",\"red\",\"red\",\"red\",\"red\",\"red\",\"red\",\"red\",\"red\",\"red\",\"red\",\"red\",\"blue\",\"blue\",\"blue\",\"blue\",\"blue\",\"blue\",\"blue\",\"blue\",\"blue\",\"blue\",\"blue\",\"blue\",\"blue\",\"blue\",\"blue\",\"blue\",\"blue\",\"blue\",\"blue\",\"blue\",\"blue\",\"blue\",\"blue\",\"blue\",\"blue\",\"blue\",\"blue\",\"blue\",\"blue\",\"blue\",\"blue\",\"blue\",\"blue\",\"blue\",\"blue\",\"blue\",\"blue\",\"blue\",\"blue\",\"blue\",\"blue\",\"blue\",\"blue\",\"blue\",\"blue\",\"blue\",\"blue\",\"blue\",\"blue\",\"blue\",\"orange\",\"orange\",\"orange\",\"orange\",\"orange\",\"orange\",\"orange\",\"orange\",\"orange\",\"orange\",\"orange\",\"orange\",\"orange\",\"orange\",\"orange\",\"orange\",\"orange\",\"orange\",\"orange\",\"orange\",\"orange\",\"orange\",\"orange\",\"orange\",\"orange\",\"orange\",\"orange\",\"orange\",\"orange\",\"orange\",\"orange\",\"orange\",\"orange\",\"orange\",\"orange\",\"orange\",\"orange\",\"orange\",\"orange\",\"orange\",\"orange\",\"orange\",\"orange\",\"orange\",\"orange\",\"orange\",\"orange\",\"orange\",\"orange\",\"orange\"],\"x\":{\"__ndarray__\":\"2xfQlUF5BcB8HBC3HrkFwIMB8LRZHgfA4Ku3ELT4BcArfKiOKNQFwPku3tM6PQLAoXRMIi+RBsCf3sb9CAMFwJ6OMgWKGgfABVbgrghkBcBeEdbqXQ0EwLQJll635wTAmFU1L6pMBsCCXT7kNc0JwFOZcvz5JQXAaT99FCoSA8CWoJoE7/oEwH4CKtTDLwXAjJitL7aXAcDMpwaP4rIEwNoWbAv4ewLA3VEHi4tYBMC+fGGZE7oJwGkBnqfObALAf7QIOnDZAsDwvzLoNhAEwH2XS26gwAPAttch08Z/BMCLs/ecWh4FwE2sYpASEAXA/keKlyu1BMDtJH6g1kcDwH9w3yJcLgXA4kxEjPvGBMAFVuCuCGQFwLCyoZ2d7wbAS6UCyHcABcAFVuCuCGQFwJjrulPQ2gfA4rpHR/u4BMCjQtiWPikGwH/uJAtU0QbAvGxt2IL8B8BUrVgtfj4DwNMgpJywqwHA3Srpq665BcDDoH1E80wEwNoIQF/6uAbAHDVVoWtXBMB1upzHnKEFwDj1DcWEjvQ/4gJQE0/W7T84y8qQy2z3Pwi3dPTuKcc/SYbOIedk8T9YeMs1dX7kPynV/0sJhvE/90kj0QQM6L8q94EDWbHwP2gaKSSI3oS/qM4ZcNFa4L/M5/VR6lrgP/P0T+kbytA/mOpp/Ep97z+lXdiQ8WHGv/7qVXOtru0/uo81VmIb5T/6CskJbQXOP8P7SL3TJ+4/87kpZmQkpj+jxq87H9zxP0T4HlSX1dY/KyUEH1a+9D/1QZ74wXTtP5V71cAn2eY/Tl6+otvJ7D+cozkW8kv1P6hLd1oY6/g/3s2Mx6L/6T8v5x9lX6vTv10Vi9f9AbK/7qYYyauPyL/KKai4g0fBP8borIJOD/Y/z3E8ovTK4j/sFyyfoNTpP6TKEYbghvM/7GvzTwMD6j9oeUwYjmLPP8ikTKnGDsU/0S+Pukyi3T+wdkjCMXzsP2D5LaHoS80/urjB7Wig5r+kLf2lDcHWP/qSZxQvMdU/dkJiNOcD2D+nXdwMuojkP7ItLLIhEu2/xGOz5UgP0z8aHDsT+kAEQADalDIKoPY/4Yl4e4/uBEBtLrJAdYj/P2Ss9OlNzAJAZgM+Yc8sC0BQXXecyZ7gP3JDmha/dAdAROEYnLCOAkB2uNbCVlgHQGdzWBlJl/o/gvhG8WLW/D8LrT4nslIBQLqG6Tl1g/U/gi5fPkFd+T+5Hftm1Hn+P3MDnn0fMP8/WlTI0v3oC0BdqfvIhFsOQPIKf371xfQ/LrO19OJsA0AGg3UmaCvzP1Kv+OZ+/gtAFKODn+Mz9j9mABLC8jQCQMoIgnTe6QRApaF0lTsf9D+xkG83lab0P5+7I96a+wBAZCaKXbsZA0BQhLq4SboGQOYb7ZfW2wlA/NDJnxhFAUBZE6nB8hb3P/Z3nOdnefw/2sMdXrecCECNVH/e7igBQNQ67YtRev4/ZhATsp+z8j/QczWPedwAQDqlh3+xgwJAqZLo21vC/j8A2pQyCqD2Pz7IlFavgQRA3FWqyOlaA0CmvfyesRr/P+QIk0Qeafg/f64bO4g5/D9KxfebEm3+P1VzL44SPPY/\",\"dtype\":\"float64\",\"shape\":[150]},\"y\":{\"__ndarray__\":\"7AjjXSLn1D97cojtCbTFvyVbwHqKlMG/vEpJ9nXp07+e4vYhBV/VP2kdOgPW7ec/IIC0Hc0Etb9DiGys18/FP63l9jj6Q+K/jF5fwiVQu7+C6VrRptzkP9CP1SmBCZY/p9eXK5cmzb/yKP933hrgv7OauoCn+vI/xZ2wIR2E9T8PzrJlyi3qPxRyvDO8bNQ/ZMVxf8Qi7D99QSNVuKfgPx+5dpiqdtk/Esnd8nop3D+IPF6EdSDCPwbV18SIA7s/sP96EWj1n7/+QB0gmczBvz18WaFKpsE/B/rU9dT61z9FL8+ZP2/UPxVtKqJnVMi/eCBSKi1Eyb8UPKKm0sHaP6kxxDdMPeo/B8nal7CZ8T+MXl/CJVC7v9QbnD3twrM/cUPs2edq4z+MXl/CJVC7v/JPb7NqvN6/CBvJPjE3zj8EgcqbCVnRP3pJm3gI2u2/yAnrmEtl1b8FZ0MT0RPJP9iKLrshVdw/CDMy1C8Qz7/AYJhR7lTgP6eelW/YO8y/y8TDbNDC4j+A5cHoWXG9P9PO+ige7+U/B/8x071t1D/X9HK3UiLgPwZ1I/ZYa+q/Eo9t2MhMsz92Yc2NbbXavyqRpgpGK9I/JhTAT4kE8L/c+7HBdU7NPzq82QXzDue/CtFUwyoz9L/MtBKGSi+6v8fsloZXiOG/F4HFoRXWv7/obJoOvx3Qv1Gn3fyU990/apLEkMeG1r9OFXwONT7Vv0j536GbVuG/PmqFwY+b4r8A9nizDI+1vwAJmstdG7G/QKG8l8T21L9Uq8xCkVjHvz7oYsSfP8M/zjptplgY1T9cTKiyVFHPP8Wtvcn1HNE/tx+b8kfHxL/Yb4I9lF3Xv1F0H9Qwe+a/vfxtpgCu5b9ZklAADfPTv8Z+YmUG9dq/MCUhIyHu3r9eEa09h/fIP4EHAj9AHdo/HADGZzS5179vA4Z3EhLRv/JR4WjJv+W/oaWl78Js5b/iJpdP3U+hv8ENz76Wvtm/kgrFAIIi8L9+YkSoXRrgv/j22mrzB8u/ajXWbO+p0r/EFE79ZIeTP06U6drZDOi/KgDcyIQ11r8oFKcYvkCIvxBrGTvJZeK/FF29ikTi1T91h5xzIC/Hv9DOFCqhcaW/7jD/j2aC4T9THOjJxg/zvxIwWklYjdY/FbYsWR9uz797tjLM4PjoP4aIakQd+84/opwrQ/Sqy79WxEfoTY7LPxrSZyll2Oi/pdLY3QBC4b/HFmrg62q+P/JTZriY2qQ/LrX2faW+8j9Q6CHMgDXQP4AfJeY5Wui/bpMQITId2D8Mln0h52Djv6KjksfGO90/Pz9Y968dyr9bUUNwNFbVP3Ks010k3uE/PNu3DPbtxr/dJAmZC869v9LDq/hK/cq/D/HoV+qZ3T85cJi9A9vXP41njpyq7fU/gvH4TBfyy79U0d2kFGjCvzJyq+X/C+C/m5uGRcjx5T8uxSkXscfBP4AhBdmumag/jXRo/GoOxb8Ap9B7XcbXPwU+DxG6X8c/SoI4u38x2j8Qaxk7yWXiv1qZafWQqdE/+vWox5ts0z8c6LrUOP3HP/NUk3FXANi/E5fSWdUZtD+9ghc8Gaq9P6GMF9vQGtK/\",\"dtype\":\"float64\",\"shape\":[150]}},\"selected\":{\"id\":\"39899a38-a916-45bd-ab6c-db96192a564a\",\"type\":\"Selection\"},\"selection_policy\":{\"id\":\"850a9af0-f561-4c2c-b816-fea05bbe1fe1\",\"type\":\"UnionRenderers\"}},\"id\":\"dc74b842-c255-40dd-891e-be2541785a82\",\"type\":\"ColumnDataSource\"},{\"attributes\":{\"fill_color\":{\"field\":\"fill_color\"},\"line_color\":{\"field\":\"line_color\"},\"size\":{\"units\":\"screen\",\"value\":5},\"x\":{\"field\":\"x\"},\"y\":{\"field\":\"y\"}},\"id\":\"55c287eb-927f-4cc9-a770-d7b944699981\",\"type\":\"Circle\"},{\"attributes\":{\"below\":[{\"id\":\"165a8862-6189-4849-9bbe-d3b795cb7567\",\"type\":\"LinearAxis\"}],\"left\":[{\"id\":\"a30cf1b1-a321-4acf-9e90-c63694002d5a\",\"type\":\"LinearAxis\"}],\"renderers\":[{\"id\":\"165a8862-6189-4849-9bbe-d3b795cb7567\",\"type\":\"LinearAxis\"},{\"id\":\"1091dd64-5dc9-487d-bb36-48875ef6d4ca\",\"type\":\"Grid\"},{\"id\":\"a30cf1b1-a321-4acf-9e90-c63694002d5a\",\"type\":\"LinearAxis\"},{\"id\":\"d5b051f8-e966-4d91-a77c-c9526d657f72\",\"type\":\"Grid\"},{\"id\":\"60e7b7eb-424d-49cf-9508-e6968bf166db\",\"type\":\"GlyphRenderer\"}],\"title\":{\"id\":\"3ec54f2b-6616-473b-b32d-8e7d8568de50\",\"type\":\"Title\"},\"toolbar\":{\"id\":\"fc7c69d6-b732-454b-be3e-0ead3d4b7b02\",\"type\":\"Toolbar\"},\"x_range\":{\"id\":\"7ece2e67-42fb-48c6-ad36-44ab5c43e95d\",\"type\":\"DataRange1d\"},\"x_scale\":{\"id\":\"e865cd31-5945-4968-86e4-c7c268a5d20c\",\"type\":\"LinearScale\"},\"y_range\":{\"id\":\"a874ede8-e153-4c85-9026-b13361dd7471\",\"type\":\"DataRange1d\"},\"y_scale\":{\"id\":\"6d8924f7-2c31-482f-b712-5cf1b4d31fd0\",\"type\":\"LinearScale\"}},\"id\":\"853f5e08-bce3-4b87-8be9-8fcb080edb53\",\"subtype\":\"Figure\",\"type\":\"Plot\"},{\"attributes\":{},\"id\":\"850a9af0-f561-4c2c-b816-fea05bbe1fe1\",\"type\":\"UnionRenderers\"},{\"attributes\":{\"fill_alpha\":{\"value\":0.1},\"fill_color\":{\"value\":\"#1f77b4\"},\"line_alpha\":{\"value\":0.1},\"line_color\":{\"value\":\"#1f77b4\"},\"size\":{\"units\":\"screen\",\"value\":5},\"x\":{\"field\":\"x\"},\"y\":{\"field\":\"y\"}},\"id\":\"a330d0dc-2057-45c1-8b1e-f621e9c0e1e6\",\"type\":\"Circle\"},{\"attributes\":{\"data_source\":{\"id\":\"dc74b842-c255-40dd-891e-be2541785a82\",\"type\":\"ColumnDataSource\"},\"glyph\":{\"id\":\"55c287eb-927f-4cc9-a770-d7b944699981\",\"type\":\"Circle\"},\"hover_glyph\":null,\"muted_glyph\":null,\"nonselection_glyph\":{\"id\":\"a330d0dc-2057-45c1-8b1e-f621e9c0e1e6\",\"type\":\"Circle\"},\"selection_glyph\":null,\"view\":{\"id\":\"259d2736-a624-4eb8-a953-f616d8c1225f\",\"type\":\"CDSView\"}},\"id\":\"60e7b7eb-424d-49cf-9508-e6968bf166db\",\"type\":\"GlyphRenderer\"}],\"root_ids\":[\"853f5e08-bce3-4b87-8be9-8fcb080edb53\"]},\"title\":\"Bokeh Application\",\"version\":\"0.12.16\"}};\n",
       "  var render_items = [{\"docid\":\"12fc5c73-7e44-40cc-9b7f-1eba19ae5575\",\"elementid\":\"ae119d10-47b3-4f8f-b570-ca47bfaf1869\",\"modelid\":\"853f5e08-bce3-4b87-8be9-8fcb080edb53\"}];\n",
       "  root.Bokeh.embed.embed_items_notebook(docs_json, render_items);\n",
       "\n",
       "  }\n",
       "  if (root.Bokeh !== undefined) {\n",
       "    embed_document(root);\n",
       "  } else {\n",
       "    var attempts = 0;\n",
       "    var timer = setInterval(function(root) {\n",
       "      if (root.Bokeh !== undefined) {\n",
       "        embed_document(root);\n",
       "        clearInterval(timer);\n",
       "      }\n",
       "      attempts++;\n",
       "      if (attempts > 100) {\n",
       "        console.log(\"Bokeh: ERROR: Unable to run BokehJS code because BokehJS library is missing\")\n",
       "        clearInterval(timer);\n",
       "      }\n",
       "    }, 10, root)\n",
       "  }\n",
       "})(window);"
      ],
      "application/vnd.bokehjs_exec.v0+json": ""
     },
     "metadata": {
      "application/vnd.bokehjs_exec.v0+json": {
       "id": "853f5e08-bce3-4b87-8be9-8fcb080edb53"
      }
     },
     "output_type": "display_data"
    }
   ],
   "source": [
    "#Plot comme scatter\n",
    "p_fig = figure(title=\"PCA dans le Iris Dataset\",tools='')\n",
    "\n",
    " "
   ]
  },
  {
   "cell_type": "markdown",
   "metadata": {},
   "source": [
    "# On utilise maintenant une technique simple pour evaluer si le choix de n=2 est adéquat.On refait la même procédure mais avec toutes les composantes:"
   ]
  },
  {
   "cell_type": "code",
   "execution_count": 12,
   "metadata": {},
   "outputs": [],
   "source": [
    "# créer le modele mais sans spécifier n_components:\n",
    " "
   ]
  },
  {
   "cell_type": "code",
   "execution_count": 13,
   "metadata": {},
   "outputs": [],
   "source": [
    "#Afficher les variances expliqués"
   ]
  },
  {
   "cell_type": "code",
   "execution_count": 4,
   "metadata": {},
   "outputs": [],
   "source": [
    "variance_explique = pca.explained_variance_ratio_\n",
    " "
   ]
  },
  {
   "cell_type": "code",
   "execution_count": 15,
   "metadata": {},
   "outputs": [],
   "source": [
    "#Afficher les composantes PCA\n",
    "print (pca.components_)"
   ]
  },
  {
   "cell_type": "code",
   "execution_count": 17,
   "metadata": {},
   "outputs": [
    {
     "data": {
      "text/html": [
       "\n",
       "<div class=\"bk-root\">\n",
       "    <div class=\"bk-plotdiv\" id=\"4d0bc985-cf68-4fbc-9455-48e301e6a180\"></div>\n",
       "</div>"
      ]
     },
     "metadata": {},
     "output_type": "display_data"
    },
    {
     "data": {
      "application/javascript": [
       "(function(root) {\n",
       "  function embed_document(root) {\n",
       "    \n",
       "  var docs_json = {\"a10bec6d-309d-4003-a583-47ff2523ae0e\":{\"roots\":{\"references\":[{\"attributes\":{\"callback\":null,\"data\":{\"x\":[1,2,3,4],\"y\":{\"__ndarray__\":\"CUhlunSW7T8PnzFE2ySrP6TK8jD7mJE/zNgD6Ns6dT8=\",\"dtype\":\"float64\",\"shape\":[4]}},\"selected\":{\"id\":\"1c3c5dbe-8118-4355-911b-24e17a560198\",\"type\":\"Selection\"},\"selection_policy\":{\"id\":\"17bee578-8918-4ae9-8734-9cc22d1a2670\",\"type\":\"UnionRenderers\"}},\"id\":\"56e6015b-ae3d-4d06-adf6-d178bc3bfd0c\",\"type\":\"ColumnDataSource\"},{\"attributes\":{\"below\":[{\"id\":\"0dc24eb4-4f24-4e19-a3d5-c453dbc8d77d\",\"type\":\"LinearAxis\"}],\"left\":[{\"id\":\"25d7f2bc-712b-487d-8840-c351c962de36\",\"type\":\"LinearAxis\"}],\"renderers\":[{\"id\":\"0dc24eb4-4f24-4e19-a3d5-c453dbc8d77d\",\"type\":\"LinearAxis\"},{\"id\":\"635109da-0d0f-4588-9c4d-2ba2f9b360e9\",\"type\":\"Grid\"},{\"id\":\"25d7f2bc-712b-487d-8840-c351c962de36\",\"type\":\"LinearAxis\"},{\"id\":\"15b54373-1c7c-4e12-bcac-932a907394a6\",\"type\":\"Grid\"},{\"id\":\"e002b6c3-08ca-4db7-a9b8-4d97939a0c54\",\"type\":\"GlyphRenderer\"}],\"title\":{\"id\":\"b84d0986-351c-4ff6-b65b-d0e02bfa68c0\",\"type\":\"Title\"},\"toolbar\":{\"id\":\"0af673ce-c94f-4ed0-8f3a-3f6dc9080ec0\",\"type\":\"Toolbar\"},\"x_range\":{\"id\":\"a8d9c837-2d1c-429a-bf59-a798be27d2ed\",\"type\":\"DataRange1d\"},\"x_scale\":{\"id\":\"87802882-3418-4d5d-a62a-8921d1651d97\",\"type\":\"LinearScale\"},\"y_range\":{\"id\":\"1349b848-7dad-4447-a387-49d9de835fa4\",\"type\":\"DataRange1d\"},\"y_scale\":{\"id\":\"83ada19d-9a0c-454e-9821-3964e42df22d\",\"type\":\"LinearScale\"}},\"id\":\"4ac32978-049c-4791-ba76-e833074595ed\",\"subtype\":\"Figure\",\"type\":\"Plot\"},{\"attributes\":{\"plot\":null,\"text\":\"Composantes principales\"},\"id\":\"b84d0986-351c-4ff6-b65b-d0e02bfa68c0\",\"type\":\"Title\"},{\"attributes\":{\"line_color\":\"red\",\"x\":{\"field\":\"x\"},\"y\":{\"field\":\"y\"}},\"id\":\"34273373-66c1-4fe4-9e85-980e53a66cbb\",\"type\":\"Line\"},{\"attributes\":{\"active_drag\":\"auto\",\"active_inspect\":\"auto\",\"active_scroll\":\"auto\",\"active_tap\":\"auto\"},\"id\":\"0af673ce-c94f-4ed0-8f3a-3f6dc9080ec0\",\"type\":\"Toolbar\"},{\"attributes\":{\"axis_label\":\"Variance Expliqu\\u00e9e\",\"formatter\":{\"id\":\"6218e21c-5334-4949-8ed9-6cf1bedc57ab\",\"type\":\"BasicTickFormatter\"},\"plot\":{\"id\":\"4ac32978-049c-4791-ba76-e833074595ed\",\"subtype\":\"Figure\",\"type\":\"Plot\"},\"ticker\":{\"id\":\"dc13dcf3-1c62-43fb-9eea-64890188adc7\",\"type\":\"BasicTicker\"}},\"id\":\"25d7f2bc-712b-487d-8840-c351c962de36\",\"type\":\"LinearAxis\"},{\"attributes\":{\"callback\":null},\"id\":\"a8d9c837-2d1c-429a-bf59-a798be27d2ed\",\"type\":\"DataRange1d\"},{\"attributes\":{\"line_alpha\":0.1,\"line_color\":\"#1f77b4\",\"x\":{\"field\":\"x\"},\"y\":{\"field\":\"y\"}},\"id\":\"5b4936f4-654a-4362-bc53-811eec3e012f\",\"type\":\"Line\"},{\"attributes\":{},\"id\":\"dc13dcf3-1c62-43fb-9eea-64890188adc7\",\"type\":\"BasicTicker\"},{\"attributes\":{},\"id\":\"575250e4-a960-440c-83e3-d1c0e1ad2a46\",\"type\":\"BasicTicker\"},{\"attributes\":{},\"id\":\"6218e21c-5334-4949-8ed9-6cf1bedc57ab\",\"type\":\"BasicTickFormatter\"},{\"attributes\":{\"data_source\":{\"id\":\"56e6015b-ae3d-4d06-adf6-d178bc3bfd0c\",\"type\":\"ColumnDataSource\"},\"glyph\":{\"id\":\"34273373-66c1-4fe4-9e85-980e53a66cbb\",\"type\":\"Line\"},\"hover_glyph\":null,\"muted_glyph\":null,\"nonselection_glyph\":{\"id\":\"5b4936f4-654a-4362-bc53-811eec3e012f\",\"type\":\"Line\"},\"selection_glyph\":null,\"view\":{\"id\":\"e7021506-067d-482a-aea1-327832bda627\",\"type\":\"CDSView\"}},\"id\":\"e002b6c3-08ca-4db7-a9b8-4d97939a0c54\",\"type\":\"GlyphRenderer\"},{\"attributes\":{\"source\":{\"id\":\"56e6015b-ae3d-4d06-adf6-d178bc3bfd0c\",\"type\":\"ColumnDataSource\"}},\"id\":\"e7021506-067d-482a-aea1-327832bda627\",\"type\":\"CDSView\"},{\"attributes\":{\"axis_label\":\"Principal Component\",\"formatter\":{\"id\":\"31c1a256-35f9-4037-bea1-b2424f865a3c\",\"type\":\"BasicTickFormatter\"},\"plot\":{\"id\":\"4ac32978-049c-4791-ba76-e833074595ed\",\"subtype\":\"Figure\",\"type\":\"Plot\"},\"ticker\":{\"id\":\"575250e4-a960-440c-83e3-d1c0e1ad2a46\",\"type\":\"BasicTicker\"}},\"id\":\"0dc24eb4-4f24-4e19-a3d5-c453dbc8d77d\",\"type\":\"LinearAxis\"},{\"attributes\":{\"plot\":{\"id\":\"4ac32978-049c-4791-ba76-e833074595ed\",\"subtype\":\"Figure\",\"type\":\"Plot\"},\"ticker\":{\"id\":\"575250e4-a960-440c-83e3-d1c0e1ad2a46\",\"type\":\"BasicTicker\"}},\"id\":\"635109da-0d0f-4588-9c4d-2ba2f9b360e9\",\"type\":\"Grid\"},{\"attributes\":{},\"id\":\"17bee578-8918-4ae9-8734-9cc22d1a2670\",\"type\":\"UnionRenderers\"},{\"attributes\":{},\"id\":\"31c1a256-35f9-4037-bea1-b2424f865a3c\",\"type\":\"BasicTickFormatter\"},{\"attributes\":{},\"id\":\"83ada19d-9a0c-454e-9821-3964e42df22d\",\"type\":\"LinearScale\"},{\"attributes\":{},\"id\":\"1c3c5dbe-8118-4355-911b-24e17a560198\",\"type\":\"Selection\"},{\"attributes\":{\"callback\":null},\"id\":\"1349b848-7dad-4447-a387-49d9de835fa4\",\"type\":\"DataRange1d\"},{\"attributes\":{\"dimension\":1,\"plot\":{\"id\":\"4ac32978-049c-4791-ba76-e833074595ed\",\"subtype\":\"Figure\",\"type\":\"Plot\"},\"ticker\":{\"id\":\"dc13dcf3-1c62-43fb-9eea-64890188adc7\",\"type\":\"BasicTicker\"}},\"id\":\"15b54373-1c7c-4e12-bcac-932a907394a6\",\"type\":\"Grid\"},{\"attributes\":{},\"id\":\"87802882-3418-4d5d-a62a-8921d1651d97\",\"type\":\"LinearScale\"}],\"root_ids\":[\"4ac32978-049c-4791-ba76-e833074595ed\"]},\"title\":\"Bokeh Application\",\"version\":\"0.12.16\"}};\n",
       "  var render_items = [{\"docid\":\"a10bec6d-309d-4003-a583-47ff2523ae0e\",\"elementid\":\"4d0bc985-cf68-4fbc-9455-48e301e6a180\",\"modelid\":\"4ac32978-049c-4791-ba76-e833074595ed\"}];\n",
       "  root.Bokeh.embed.embed_items_notebook(docs_json, render_items);\n",
       "\n",
       "  }\n",
       "  if (root.Bokeh !== undefined) {\n",
       "    embed_document(root);\n",
       "  } else {\n",
       "    var attempts = 0;\n",
       "    var timer = setInterval(function(root) {\n",
       "      if (root.Bokeh !== undefined) {\n",
       "        embed_document(root);\n",
       "        clearInterval(timer);\n",
       "      }\n",
       "      attempts++;\n",
       "      if (attempts > 100) {\n",
       "        console.log(\"Bokeh: ERROR: Unable to run BokehJS code because BokehJS library is missing\")\n",
       "        clearInterval(timer);\n",
       "      }\n",
       "    }, 10, root)\n",
       "  }\n",
       "})(window);"
      ],
      "application/vnd.bokehjs_exec.v0+json": ""
     },
     "metadata": {
      "application/vnd.bokehjs_exec.v0+json": {
       "id": "4ac32978-049c-4791-ba76-e833074595ed"
      }
     },
     "output_type": "display_data"
    }
   ],
   "source": [
    "comp_id = [1, 2, 3, 4]             # id du composant\n",
    "p_pca = figure(title=\"Composantes principales\",tools='',\n",
    "           x_axis_label=\"Principal Component\",\n",
    "          y_axis_label='Variance Expliquée')\n",
    "p_pca.line(comp_id,variance_explique,color='red')\n",
    "show(p_pca)\n"
   ]
  },
  {
   "cell_type": "markdown",
   "metadata": {},
   "source": [
    "Conclusion:\n"
   ]
  },
  {
   "cell_type": "markdown",
   "metadata": {},
   "source": [
    "# On evalue maintenant si la vitesse de traitement est améliorée en prenant moins de feature ou plus de features"
   ]
  },
  {
   "cell_type": "code",
   "execution_count": 18,
   "metadata": {},
   "outputs": [],
   "source": [
    "X_train, X_test, y_train, y_test = train_test_split(X,y, test_size=0.2, random_state=42)"
   ]
  },
  {
   "cell_type": "markdown",
   "metadata": {},
   "source": [
    "Pour simplifier, on utilise la fonction `%%timeit` pour effectuer une classification selon la sélection de features"
   ]
  },
  {
   "cell_type": "code",
   "execution_count": 19,
   "metadata": {
    "scrolled": false
   },
   "outputs": [
    {
     "name": "stdout",
     "output_type": "stream",
     "text": [
      "200 µs ± 2.62 µs per loop (mean ± std. dev. of 7 runs, 1000 loops each)\n"
     ]
    }
   ],
   "source": [
    "%%timeit \n",
    "modele = KNeighborsClassifier(2)\n",
    "modele.fit(X_train, y_train)"
   ]
  },
  {
   "cell_type": "code",
   "execution_count": 20,
   "metadata": {},
   "outputs": [
    {
     "name": "stdout",
     "output_type": "stream",
     "text": [
      "             precision    recall  f1-score   support\n",
      "\n",
      "          0       1.00      1.00      1.00        10\n",
      "          1       1.00      1.00      1.00         9\n",
      "          2       1.00      1.00      1.00        11\n",
      "\n",
      "avg / total       1.00      1.00      1.00        30\n",
      "\n"
     ]
    }
   ],
   "source": [
    "modele = KNeighborsClassifier(2)\n",
    "modele.fit(X_train, y_train)\n",
    "print (classification_report(y_test,modele.predict(X_test)) )"
   ]
  },
  {
   "cell_type": "code",
   "execution_count": 21,
   "metadata": {},
   "outputs": [],
   "source": [
    "X_r_train, X_r_test, y_r_train, y_r_test = train_test_split(X_resultat,y, test_size=0.2, random_state=42)"
   ]
  },
  {
   "cell_type": "code",
   "execution_count": 22,
   "metadata": {},
   "outputs": [
    {
     "name": "stdout",
     "output_type": "stream",
     "text": [
      "208 µs ± 3.23 µs per loop (mean ± std. dev. of 7 runs, 1000 loops each)\n"
     ]
    }
   ],
   "source": [
    "%%timeit \n",
    "modele = KNeighborsClassifier(2)\n",
    "modele.fit(X_r_train, y_r_train)"
   ]
  },
  {
   "cell_type": "markdown",
   "metadata": {},
   "source": [
    "Conclusion:"
   ]
  },
  {
   "cell_type": "code",
   "execution_count": 23,
   "metadata": {},
   "outputs": [
    {
     "name": "stdout",
     "output_type": "stream",
     "text": [
      "             precision    recall  f1-score   support\n",
      "\n",
      "          0       1.00      1.00      1.00        10\n",
      "          1       1.00      1.00      1.00         9\n",
      "          2       1.00      1.00      1.00        11\n",
      "\n",
      "avg / total       1.00      1.00      1.00        30\n",
      "\n"
     ]
    }
   ],
   "source": [
    "modele = KNeighborsClassifier(2)\n",
    "modele.fit(X_r_train, y_r_train)\n",
    "print (classification_report(y_r_test,modele.predict(X_r_test)) )"
   ]
  },
  {
   "cell_type": "code",
   "execution_count": 24,
   "metadata": {},
   "outputs": [],
   "source": [
    "# refaire maintenant avec 2 composantes principales\n",
    "# creer le modele et effectuer un fit du data\n",
    " \n"
   ]
  },
  {
   "cell_type": "code",
   "execution_count": 25,
   "metadata": {},
   "outputs": [
    {
     "name": "stdout",
     "output_type": "stream",
     "text": [
      "206 µs ± 4.42 µs per loop (mean ± std. dev. of 7 runs, 1000 loops each)\n"
     ]
    }
   ],
   "source": [
    "%%timeit \n",
    "modele = KNeighborsClassifier(2)\n",
    "modele.fit(X_r_train2, y_r_train2)"
   ]
  },
  {
   "cell_type": "code",
   "execution_count": 26,
   "metadata": {},
   "outputs": [
    {
     "name": "stdout",
     "output_type": "stream",
     "text": [
      "             precision    recall  f1-score   support\n",
      "\n",
      "          0       1.00      1.00      1.00        10\n",
      "          1       1.00      1.00      1.00         9\n",
      "          2       1.00      1.00      1.00        11\n",
      "\n",
      "avg / total       1.00      1.00      1.00        30\n",
      "\n"
     ]
    }
   ],
   "source": [
    "modele2 = KNeighborsClassifier(2)\n",
    "modele2.fit(X_r_train2, y_r_train2)\n",
    "print (classification_report(y_r_test2,modele2.predict(X_r_test2)) )"
   ]
  },
  {
   "cell_type": "markdown",
   "metadata": {},
   "source": [
    "# Solutionnaires"
   ]
  },
  {
   "cell_type": "code",
   "execution_count": 4,
   "metadata": {},
   "outputs": [],
   "source": [
    "# Imports de base\n",
    "import numpy as np\n",
    "import matplotlib.pyplot as plt\n",
    "import pylab as pl\n",
    "import pandas as pd\n",
    "#from bokeh.plotting import figure,show,output_notebook\n",
    "\n",
    "#import pour la classification\n",
    "from sklearn.neighbors import KNeighborsClassifier\n",
    "from sklearn.model_selection import train_test_split\n",
    "from sklearn.metrics import classification_report\n",
    " \n",
    "# import pour PCA\n",
    "from sklearn.decomposition import PCA\n"
   ]
  },
  {
   "cell_type": "markdown",
   "metadata": {},
   "source": [
    "## Chargement du Iris Dataset (i.e. scikit-learn iris)  \n"
   ]
  },
  {
   "cell_type": "code",
   "execution_count": 4,
   "metadata": {},
   "outputs": [],
   "source": [
    "#Import du dataset Iris\n",
    "from sklearn.datasets import load_iris\n",
    "iris = load_iris()"
   ]
  },
  {
   "cell_type": "code",
   "execution_count": 5,
   "metadata": {},
   "outputs": [
    {
     "name": "stdout",
     "output_type": "stream",
     "text": [
      "{'data': array([[5.1, 3.5, 1.4, 0.2],\n",
      "       [4.9, 3. , 1.4, 0.2],\n",
      "       [4.7, 3.2, 1.3, 0.2],\n",
      "       [4.6, 3.1, 1.5, 0.2],\n",
      "       [5. , 3.6, 1.4, 0.2],\n",
      "       [5.4, 3.9, 1.7, 0.4],\n",
      "       [4.6, 3.4, 1.4, 0.3],\n",
      "       [5. , 3.4, 1.5, 0.2],\n",
      "       [4.4, 2.9, 1.4, 0.2],\n",
      "       [4.9, 3.1, 1.5, 0.1],\n",
      "       [5.4, 3.7, 1.5, 0.2],\n",
      "       [4.8, 3.4, 1.6, 0.2],\n",
      "       [4.8, 3. , 1.4, 0.1],\n",
      "       [4.3, 3. , 1.1, 0.1],\n",
      "       [5.8, 4. , 1.2, 0.2],\n",
      "       [5.7, 4.4, 1.5, 0.4],\n",
      "       [5.4, 3.9, 1.3, 0.4],\n",
      "       [5.1, 3.5, 1.4, 0.3],\n",
      "       [5.7, 3.8, 1.7, 0.3],\n",
      "       [5.1, 3.8, 1.5, 0.3],\n",
      "       [5.4, 3.4, 1.7, 0.2],\n",
      "       [5.1, 3.7, 1.5, 0.4],\n",
      "       [4.6, 3.6, 1. , 0.2],\n",
      "       [5.1, 3.3, 1.7, 0.5],\n",
      "       [4.8, 3.4, 1.9, 0.2],\n",
      "       [5. , 3. , 1.6, 0.2],\n",
      "       [5. , 3.4, 1.6, 0.4],\n",
      "       [5.2, 3.5, 1.5, 0.2],\n",
      "       [5.2, 3.4, 1.4, 0.2],\n",
      "       [4.7, 3.2, 1.6, 0.2],\n",
      "       [4.8, 3.1, 1.6, 0.2],\n",
      "       [5.4, 3.4, 1.5, 0.4],\n",
      "       [5.2, 4.1, 1.5, 0.1],\n",
      "       [5.5, 4.2, 1.4, 0.2],\n",
      "       [4.9, 3.1, 1.5, 0.1],\n",
      "       [5. , 3.2, 1.2, 0.2],\n",
      "       [5.5, 3.5, 1.3, 0.2],\n",
      "       [4.9, 3.1, 1.5, 0.1],\n",
      "       [4.4, 3. , 1.3, 0.2],\n",
      "       [5.1, 3.4, 1.5, 0.2],\n",
      "       [5. , 3.5, 1.3, 0.3],\n",
      "       [4.5, 2.3, 1.3, 0.3],\n",
      "       [4.4, 3.2, 1.3, 0.2],\n",
      "       [5. , 3.5, 1.6, 0.6],\n",
      "       [5.1, 3.8, 1.9, 0.4],\n",
      "       [4.8, 3. , 1.4, 0.3],\n",
      "       [5.1, 3.8, 1.6, 0.2],\n",
      "       [4.6, 3.2, 1.4, 0.2],\n",
      "       [5.3, 3.7, 1.5, 0.2],\n",
      "       [5. , 3.3, 1.4, 0.2],\n",
      "       [7. , 3.2, 4.7, 1.4],\n",
      "       [6.4, 3.2, 4.5, 1.5],\n",
      "       [6.9, 3.1, 4.9, 1.5],\n",
      "       [5.5, 2.3, 4. , 1.3],\n",
      "       [6.5, 2.8, 4.6, 1.5],\n",
      "       [5.7, 2.8, 4.5, 1.3],\n",
      "       [6.3, 3.3, 4.7, 1.6],\n",
      "       [4.9, 2.4, 3.3, 1. ],\n",
      "       [6.6, 2.9, 4.6, 1.3],\n",
      "       [5.2, 2.7, 3.9, 1.4],\n",
      "       [5. , 2. , 3.5, 1. ],\n",
      "       [5.9, 3. , 4.2, 1.5],\n",
      "       [6. , 2.2, 4. , 1. ],\n",
      "       [6.1, 2.9, 4.7, 1.4],\n",
      "       [5.6, 2.9, 3.6, 1.3],\n",
      "       [6.7, 3.1, 4.4, 1.4],\n",
      "       [5.6, 3. , 4.5, 1.5],\n",
      "       [5.8, 2.7, 4.1, 1. ],\n",
      "       [6.2, 2.2, 4.5, 1.5],\n",
      "       [5.6, 2.5, 3.9, 1.1],\n",
      "       [5.9, 3.2, 4.8, 1.8],\n",
      "       [6.1, 2.8, 4. , 1.3],\n",
      "       [6.3, 2.5, 4.9, 1.5],\n",
      "       [6.1, 2.8, 4.7, 1.2],\n",
      "       [6.4, 2.9, 4.3, 1.3],\n",
      "       [6.6, 3. , 4.4, 1.4],\n",
      "       [6.8, 2.8, 4.8, 1.4],\n",
      "       [6.7, 3. , 5. , 1.7],\n",
      "       [6. , 2.9, 4.5, 1.5],\n",
      "       [5.7, 2.6, 3.5, 1. ],\n",
      "       [5.5, 2.4, 3.8, 1.1],\n",
      "       [5.5, 2.4, 3.7, 1. ],\n",
      "       [5.8, 2.7, 3.9, 1.2],\n",
      "       [6. , 2.7, 5.1, 1.6],\n",
      "       [5.4, 3. , 4.5, 1.5],\n",
      "       [6. , 3.4, 4.5, 1.6],\n",
      "       [6.7, 3.1, 4.7, 1.5],\n",
      "       [6.3, 2.3, 4.4, 1.3],\n",
      "       [5.6, 3. , 4.1, 1.3],\n",
      "       [5.5, 2.5, 4. , 1.3],\n",
      "       [5.5, 2.6, 4.4, 1.2],\n",
      "       [6.1, 3. , 4.6, 1.4],\n",
      "       [5.8, 2.6, 4. , 1.2],\n",
      "       [5. , 2.3, 3.3, 1. ],\n",
      "       [5.6, 2.7, 4.2, 1.3],\n",
      "       [5.7, 3. , 4.2, 1.2],\n",
      "       [5.7, 2.9, 4.2, 1.3],\n",
      "       [6.2, 2.9, 4.3, 1.3],\n",
      "       [5.1, 2.5, 3. , 1.1],\n",
      "       [5.7, 2.8, 4.1, 1.3],\n",
      "       [6.3, 3.3, 6. , 2.5],\n",
      "       [5.8, 2.7, 5.1, 1.9],\n",
      "       [7.1, 3. , 5.9, 2.1],\n",
      "       [6.3, 2.9, 5.6, 1.8],\n",
      "       [6.5, 3. , 5.8, 2.2],\n",
      "       [7.6, 3. , 6.6, 2.1],\n",
      "       [4.9, 2.5, 4.5, 1.7],\n",
      "       [7.3, 2.9, 6.3, 1.8],\n",
      "       [6.7, 2.5, 5.8, 1.8],\n",
      "       [7.2, 3.6, 6.1, 2.5],\n",
      "       [6.5, 3.2, 5.1, 2. ],\n",
      "       [6.4, 2.7, 5.3, 1.9],\n",
      "       [6.8, 3. , 5.5, 2.1],\n",
      "       [5.7, 2.5, 5. , 2. ],\n",
      "       [5.8, 2.8, 5.1, 2.4],\n",
      "       [6.4, 3.2, 5.3, 2.3],\n",
      "       [6.5, 3. , 5.5, 1.8],\n",
      "       [7.7, 3.8, 6.7, 2.2],\n",
      "       [7.7, 2.6, 6.9, 2.3],\n",
      "       [6. , 2.2, 5. , 1.5],\n",
      "       [6.9, 3.2, 5.7, 2.3],\n",
      "       [5.6, 2.8, 4.9, 2. ],\n",
      "       [7.7, 2.8, 6.7, 2. ],\n",
      "       [6.3, 2.7, 4.9, 1.8],\n",
      "       [6.7, 3.3, 5.7, 2.1],\n",
      "       [7.2, 3.2, 6. , 1.8],\n",
      "       [6.2, 2.8, 4.8, 1.8],\n",
      "       [6.1, 3. , 4.9, 1.8],\n",
      "       [6.4, 2.8, 5.6, 2.1],\n",
      "       [7.2, 3. , 5.8, 1.6],\n",
      "       [7.4, 2.8, 6.1, 1.9],\n",
      "       [7.9, 3.8, 6.4, 2. ],\n",
      "       [6.4, 2.8, 5.6, 2.2],\n",
      "       [6.3, 2.8, 5.1, 1.5],\n",
      "       [6.1, 2.6, 5.6, 1.4],\n",
      "       [7.7, 3. , 6.1, 2.3],\n",
      "       [6.3, 3.4, 5.6, 2.4],\n",
      "       [6.4, 3.1, 5.5, 1.8],\n",
      "       [6. , 3. , 4.8, 1.8],\n",
      "       [6.9, 3.1, 5.4, 2.1],\n",
      "       [6.7, 3.1, 5.6, 2.4],\n",
      "       [6.9, 3.1, 5.1, 2.3],\n",
      "       [5.8, 2.7, 5.1, 1.9],\n",
      "       [6.8, 3.2, 5.9, 2.3],\n",
      "       [6.7, 3.3, 5.7, 2.5],\n",
      "       [6.7, 3. , 5.2, 2.3],\n",
      "       [6.3, 2.5, 5. , 1.9],\n",
      "       [6.5, 3. , 5.2, 2. ],\n",
      "       [6.2, 3.4, 5.4, 2.3],\n",
      "       [5.9, 3. , 5.1, 1.8]]), 'target': array([0, 0, 0, 0, 0, 0, 0, 0, 0, 0, 0, 0, 0, 0, 0, 0, 0, 0, 0, 0, 0, 0,\n",
      "       0, 0, 0, 0, 0, 0, 0, 0, 0, 0, 0, 0, 0, 0, 0, 0, 0, 0, 0, 0, 0, 0,\n",
      "       0, 0, 0, 0, 0, 0, 1, 1, 1, 1, 1, 1, 1, 1, 1, 1, 1, 1, 1, 1, 1, 1,\n",
      "       1, 1, 1, 1, 1, 1, 1, 1, 1, 1, 1, 1, 1, 1, 1, 1, 1, 1, 1, 1, 1, 1,\n",
      "       1, 1, 1, 1, 1, 1, 1, 1, 1, 1, 1, 1, 2, 2, 2, 2, 2, 2, 2, 2, 2, 2,\n",
      "       2, 2, 2, 2, 2, 2, 2, 2, 2, 2, 2, 2, 2, 2, 2, 2, 2, 2, 2, 2, 2, 2,\n",
      "       2, 2, 2, 2, 2, 2, 2, 2, 2, 2, 2, 2, 2, 2, 2, 2, 2, 2]), 'target_names': array(['setosa', 'versicolor', 'virginica'], dtype='<U10'), 'DESCR': 'Iris Plants Database\\n====================\\n\\nNotes\\n-----\\nData Set Characteristics:\\n    :Number of Instances: 150 (50 in each of three classes)\\n    :Number of Attributes: 4 numeric, predictive attributes and the class\\n    :Attribute Information:\\n        - sepal length in cm\\n        - sepal width in cm\\n        - petal length in cm\\n        - petal width in cm\\n        - class:\\n                - Iris-Setosa\\n                - Iris-Versicolour\\n                - Iris-Virginica\\n    :Summary Statistics:\\n\\n    ============== ==== ==== ======= ===== ====================\\n                    Min  Max   Mean    SD   Class Correlation\\n    ============== ==== ==== ======= ===== ====================\\n    sepal length:   4.3  7.9   5.84   0.83    0.7826\\n    sepal width:    2.0  4.4   3.05   0.43   -0.4194\\n    petal length:   1.0  6.9   3.76   1.76    0.9490  (high!)\\n    petal width:    0.1  2.5   1.20  0.76     0.9565  (high!)\\n    ============== ==== ==== ======= ===== ====================\\n\\n    :Missing Attribute Values: None\\n    :Class Distribution: 33.3% for each of 3 classes.\\n    :Creator: R.A. Fisher\\n    :Donor: Michael Marshall (MARSHALL%PLU@io.arc.nasa.gov)\\n    :Date: July, 1988\\n\\nThis is a copy of UCI ML iris datasets.\\nhttp://archive.ics.uci.edu/ml/datasets/Iris\\n\\nThe famous Iris database, first used by Sir R.A Fisher\\n\\nThis is perhaps the best known database to be found in the\\npattern recognition literature.  Fisher\\'s paper is a classic in the field and\\nis referenced frequently to this day.  (See Duda & Hart, for example.)  The\\ndata set contains 3 classes of 50 instances each, where each class refers to a\\ntype of iris plant.  One class is linearly separable from the other 2; the\\nlatter are NOT linearly separable from each other.\\n\\nReferences\\n----------\\n   - Fisher,R.A. \"The use of multiple measurements in taxonomic problems\"\\n     Annual Eugenics, 7, Part II, 179-188 (1936); also in \"Contributions to\\n     Mathematical Statistics\" (John Wiley, NY, 1950).\\n   - Duda,R.O., & Hart,P.E. (1973) Pattern Classification and Scene Analysis.\\n     (Q327.D83) John Wiley & Sons.  ISBN 0-471-22361-1.  See page 218.\\n   - Dasarathy, B.V. (1980) \"Nosing Around the Neighborhood: A New System\\n     Structure and Classification Rule for Recognition in Partially Exposed\\n     Environments\".  IEEE Transactions on Pattern Analysis and Machine\\n     Intelligence, Vol. PAMI-2, No. 1, 67-71.\\n   - Gates, G.W. (1972) \"The Reduced Nearest Neighbor Rule\".  IEEE Transactions\\n     on Information Theory, May 1972, 431-433.\\n   - See also: 1988 MLC Proceedings, 54-64.  Cheeseman et al\"s AUTOCLASS II\\n     conceptual clustering system finds 3 classes in the data.\\n   - Many, many more ...\\n', 'feature_names': ['sepal length (cm)', 'sepal width (cm)', 'petal length (cm)', 'petal width (cm)']}\n"
     ]
    }
   ],
   "source": [
    "#Afficher le dataset\n",
    "print (iris)"
   ]
  },
  {
   "cell_type": "code",
   "execution_count": 6,
   "metadata": {},
   "outputs": [],
   "source": [
    "#Features et target\n",
    "X = iris.data\n",
    "y = iris.target\n",
    "noms_target = iris.target_names"
   ]
  },
  {
   "cell_type": "code",
   "execution_count": 7,
   "metadata": {},
   "outputs": [],
   "source": [
    "# creer le modele et effectuer un fit du data\n",
    "pca = PCA(n_components=2)\n",
    "X_resultat = pca.fit(X).transform(X)"
   ]
  },
  {
   "cell_type": "code",
   "execution_count": 8,
   "metadata": {},
   "outputs": [
    {
     "data": {
      "text/plain": [
       "array([[-2.68420713,  0.32660731],\n",
       "       [-2.71539062, -0.16955685],\n",
       "       [-2.88981954, -0.13734561],\n",
       "       [-2.7464372 , -0.31112432],\n",
       "       [-2.72859298,  0.33392456],\n",
       "       [-2.27989736,  0.74778271],\n",
       "       [-2.82089068, -0.08210451],\n",
       "       [-2.62648199,  0.17040535],\n",
       "       [-2.88795857, -0.57079803],\n",
       "       [-2.67384469, -0.1066917 ],\n",
       "       [-2.50652679,  0.65193501],\n",
       "       [-2.61314272,  0.02152063],\n",
       "       [-2.78743398, -0.22774019],\n",
       "       [-3.22520045, -0.50327991],\n",
       "       [-2.64354322,  1.1861949 ],\n",
       "       [-2.38386932,  1.34475434],\n",
       "       [-2.6225262 ,  0.81808967],\n",
       "       [-2.64832273,  0.31913667],\n",
       "       [-2.19907796,  0.87924409],\n",
       "       [-2.58734619,  0.52047364],\n",
       "       [-2.3105317 ,  0.39786782],\n",
       "       [-2.54323491,  0.44003175],\n",
       "       [-3.21585769,  0.14161557],\n",
       "       [-2.30312854,  0.10552268],\n",
       "       [-2.35617109, -0.03120959],\n",
       "       [-2.50791723, -0.13905634],\n",
       "       [-2.469056  ,  0.13788731],\n",
       "       [-2.56239095,  0.37468456],\n",
       "       [-2.63982127,  0.31929007],\n",
       "       [-2.63284791, -0.19007583],\n",
       "       [-2.58846205, -0.19739308],\n",
       "       [-2.41007734,  0.41808001],\n",
       "       [-2.64763667,  0.81998263],\n",
       "       [-2.59715948,  1.10002193],\n",
       "       [-2.67384469, -0.1066917 ],\n",
       "       [-2.86699985,  0.0771931 ],\n",
       "       [-2.62522846,  0.60680001],\n",
       "       [-2.67384469, -0.1066917 ],\n",
       "       [-2.98184266, -0.48025005],\n",
       "       [-2.59032303,  0.23605934],\n",
       "       [-2.77013891,  0.27105942],\n",
       "       [-2.85221108, -0.93286537],\n",
       "       [-2.99829644, -0.33430757],\n",
       "       [-2.4055141 ,  0.19591726],\n",
       "       [-2.20883295,  0.44269603],\n",
       "       [-2.71566519, -0.24268148],\n",
       "       [-2.53757337,  0.51036755],\n",
       "       [-2.8403213 , -0.22057634],\n",
       "       [-2.54268576,  0.58628103],\n",
       "       [-2.70391231,  0.11501085],\n",
       "       [ 1.28479459,  0.68543919],\n",
       "       [ 0.93241075,  0.31919809],\n",
       "       [ 1.46406132,  0.50418983],\n",
       "       [ 0.18096721, -0.82560394],\n",
       "       [ 1.08713449,  0.07539039],\n",
       "       [ 0.64043675, -0.41732348],\n",
       "       [ 1.09522371,  0.28389121],\n",
       "       [-0.75146714, -1.00110751],\n",
       "       [ 1.04329778,  0.22895691],\n",
       "       [-0.01019007, -0.72057487],\n",
       "       [-0.5110862 , -1.26249195],\n",
       "       [ 0.51109806, -0.10228411],\n",
       "       [ 0.26233576, -0.5478933 ],\n",
       "       [ 0.98404455, -0.12436042],\n",
       "       [-0.174864  , -0.25181557],\n",
       "       [ 0.92757294,  0.46823621],\n",
       "       [ 0.65959279, -0.35197629],\n",
       "       [ 0.23454059, -0.33192183],\n",
       "       [ 0.94236171, -0.54182226],\n",
       "       [ 0.0432464 , -0.58148945],\n",
       "       [ 1.11624072, -0.08421401],\n",
       "       [ 0.35678657, -0.06682383],\n",
       "       [ 1.29646885, -0.32756152],\n",
       "       [ 0.92050265, -0.18239036],\n",
       "       [ 0.71400821,  0.15037915],\n",
       "       [ 0.89964086,  0.32961098],\n",
       "       [ 1.33104142,  0.24466952],\n",
       "       [ 1.55739627,  0.26739258],\n",
       "       [ 0.81245555, -0.16233157],\n",
       "       [-0.30733476, -0.36508661],\n",
       "       [-0.07034289, -0.70253793],\n",
       "       [-0.19188449, -0.67749054],\n",
       "       [ 0.13499495, -0.31170964],\n",
       "       [ 1.37873698, -0.42120514],\n",
       "       [ 0.58727485, -0.48328427],\n",
       "       [ 0.8072055 ,  0.19505396],\n",
       "       [ 1.22042897,  0.40803534],\n",
       "       [ 0.81286779, -0.370679  ],\n",
       "       [ 0.24519516, -0.26672804],\n",
       "       [ 0.16451343, -0.67966147],\n",
       "       [ 0.46303099, -0.66952655],\n",
       "       [ 0.89016045, -0.03381244],\n",
       "       [ 0.22887905, -0.40225762],\n",
       "       [-0.70708128, -1.00842476],\n",
       "       [ 0.35553304, -0.50321849],\n",
       "       [ 0.33112695, -0.21118014],\n",
       "       [ 0.37523823, -0.29162202],\n",
       "       [ 0.64169028,  0.01907118],\n",
       "       [-0.90846333, -0.75156873],\n",
       "       [ 0.29780791, -0.34701652],\n",
       "       [ 2.53172698, -0.01184224],\n",
       "       [ 1.41407223, -0.57492506],\n",
       "       [ 2.61648461,  0.34193529],\n",
       "       [ 1.97081495, -0.18112569],\n",
       "       [ 2.34975798, -0.04188255],\n",
       "       [ 3.39687992,  0.54716805],\n",
       "       [ 0.51938325, -1.19135169],\n",
       "       [ 2.9320051 ,  0.35237701],\n",
       "       [ 2.31967279, -0.24554817],\n",
       "       [ 2.91813423,  0.78038063],\n",
       "       [ 1.66193495,  0.2420384 ],\n",
       "       [ 1.80234045, -0.21615461],\n",
       "       [ 2.16537886,  0.21528028],\n",
       "       [ 1.34459422, -0.77641543],\n",
       "       [ 1.5852673 , -0.53930705],\n",
       "       [ 1.90474358,  0.11881899],\n",
       "       [ 1.94924878,  0.04073026],\n",
       "       [ 3.48876538,  1.17154454],\n",
       "       [ 3.79468686,  0.25326557],\n",
       "       [ 1.29832982, -0.76101394],\n",
       "       [ 2.42816726,  0.37678197],\n",
       "       [ 1.19809737, -0.60557896],\n",
       "       [ 3.49926548,  0.45677347],\n",
       "       [ 1.38766825, -0.20403099],\n",
       "       [ 2.27585365,  0.33338653],\n",
       "       [ 2.61419383,  0.55836695],\n",
       "       [ 1.25762518, -0.179137  ],\n",
       "       [ 1.29066965, -0.11642525],\n",
       "       [ 2.12285398, -0.21085488],\n",
       "       [ 2.3875644 ,  0.46251925],\n",
       "       [ 2.84096093,  0.37274259],\n",
       "       [ 3.2323429 ,  1.37052404],\n",
       "       [ 2.15873837, -0.21832553],\n",
       "       [ 1.4431026 , -0.14380129],\n",
       "       [ 1.77964011, -0.50146479],\n",
       "       [ 3.07652162,  0.68576444],\n",
       "       [ 2.14498686,  0.13890661],\n",
       "       [ 1.90486293,  0.04804751],\n",
       "       [ 1.16885347, -0.1645025 ],\n",
       "       [ 2.10765373,  0.37148225],\n",
       "       [ 2.31430339,  0.18260885],\n",
       "       [ 1.92245088,  0.40927118],\n",
       "       [ 1.41407223, -0.57492506],\n",
       "       [ 2.56332271,  0.2759745 ],\n",
       "       [ 2.41939122,  0.30350394],\n",
       "       [ 1.94401705,  0.18741522],\n",
       "       [ 1.52566363, -0.37502085],\n",
       "       [ 1.76404594,  0.07851919],\n",
       "       [ 1.90162908,  0.11587675],\n",
       "       [ 1.38966613, -0.28288671]])"
      ]
     },
     "execution_count": 8,
     "metadata": {},
     "output_type": "execute_result"
    }
   ],
   "source": [
    "X_resultat"
   ]
  },
  {
   "cell_type": "markdown",
   "metadata": {},
   "source": [
    "# On cherche maintenant le pourcentage de variance pris en charge par les 2 composantes PCA. On utilise l'attribut `explained_variance_ratio_` :"
   ]
  },
  {
   "cell_type": "code",
   "execution_count": 9,
   "metadata": {},
   "outputs": [
    {
     "name": "stdout",
     "output_type": "stream",
     "text": [
      "Composant 1: 0.9246162071742684\n",
      "Composant 2: 0.053015567850534955\n"
     ]
    }
   ],
   "source": [
    "# Pourcentage de variance explained  :\n",
    "print (\"Composant 1: \" + str(pca.explained_variance_ratio_[0]))\n",
    "print (\"Composant 2: \" + str(pca.explained_variance_ratio_[1]))"
   ]
  },
  {
   "cell_type": "markdown",
   "metadata": {},
   "source": [
    "* On voit que les 2 composantes prennent en charge presque la totalité de la variance.  On procède maintenant au tracé des point du dataset dans le système de coordonnées ou bases PCA.  Les labels utilisés sont ceux des targets:"
   ]
  },
  {
   "cell_type": "code",
   "execution_count": 10,
   "metadata": {},
   "outputs": [],
   "source": [
    "echelle_couleur = {0:'red',1:'blue',2:'orange'}\n",
    "\n",
    "couleurs = list()\n",
    "\n",
    "for valeur in y:\n",
    "    couleur = echelle_couleur[valeur]\n",
    "    couleurs.append(couleur)\n"
   ]
  },
  {
   "cell_type": "code",
   "execution_count": 32,
   "metadata": {},
   "outputs": [
    {
     "data": {
      "text/html": [
       "\n",
       "<div class=\"bk-root\">\n",
       "    <div class=\"bk-plotdiv\" id=\"ae119d10-47b3-4f8f-b570-ca47bfaf1869\"></div>\n",
       "</div>"
      ]
     },
     "metadata": {},
     "output_type": "display_data"
    },
    {
     "data": {
      "application/javascript": [
       "(function(root) {\n",
       "  function embed_document(root) {\n",
       "    \n",
       "  var docs_json = {\"12fc5c73-7e44-40cc-9b7f-1eba19ae5575\":{\"roots\":{\"references\":[{\"attributes\":{\"plot\":null,\"text\":\"PCA dans le Iris Dataset\"},\"id\":\"3ec54f2b-6616-473b-b32d-8e7d8568de50\",\"type\":\"Title\"},{\"attributes\":{\"callback\":null},\"id\":\"7ece2e67-42fb-48c6-ad36-44ab5c43e95d\",\"type\":\"DataRange1d\"},{\"attributes\":{\"source\":{\"id\":\"dc74b842-c255-40dd-891e-be2541785a82\",\"type\":\"ColumnDataSource\"}},\"id\":\"259d2736-a624-4eb8-a953-f616d8c1225f\",\"type\":\"CDSView\"},{\"attributes\":{\"active_drag\":\"auto\",\"active_inspect\":\"auto\",\"active_scroll\":\"auto\",\"active_tap\":\"auto\"},\"id\":\"fc7c69d6-b732-454b-be3e-0ead3d4b7b02\",\"type\":\"Toolbar\"},{\"attributes\":{},\"id\":\"39899a38-a916-45bd-ab6c-db96192a564a\",\"type\":\"Selection\"},{\"attributes\":{},\"id\":\"e865cd31-5945-4968-86e4-c7c268a5d20c\",\"type\":\"LinearScale\"},{\"attributes\":{\"callback\":null},\"id\":\"a874ede8-e153-4c85-9026-b13361dd7471\",\"type\":\"DataRange1d\"},{\"attributes\":{},\"id\":\"6d8924f7-2c31-482f-b712-5cf1b4d31fd0\",\"type\":\"LinearScale\"},{\"attributes\":{\"plot\":{\"id\":\"853f5e08-bce3-4b87-8be9-8fcb080edb53\",\"subtype\":\"Figure\",\"type\":\"Plot\"},\"ticker\":{\"id\":\"725032af-786f-4ac6-ac29-bcdd5d0efdfb\",\"type\":\"BasicTicker\"}},\"id\":\"1091dd64-5dc9-487d-bb36-48875ef6d4ca\",\"type\":\"Grid\"},{\"attributes\":{\"formatter\":{\"id\":\"93b0bc10-f46d-4c17-821f-c398fd6f836b\",\"type\":\"BasicTickFormatter\"},\"plot\":{\"id\":\"853f5e08-bce3-4b87-8be9-8fcb080edb53\",\"subtype\":\"Figure\",\"type\":\"Plot\"},\"ticker\":{\"id\":\"725032af-786f-4ac6-ac29-bcdd5d0efdfb\",\"type\":\"BasicTicker\"}},\"id\":\"165a8862-6189-4849-9bbe-d3b795cb7567\",\"type\":\"LinearAxis\"},{\"attributes\":{},\"id\":\"725032af-786f-4ac6-ac29-bcdd5d0efdfb\",\"type\":\"BasicTicker\"},{\"attributes\":{\"formatter\":{\"id\":\"b271f91f-0976-4c73-97c6-8d85f3ec2690\",\"type\":\"BasicTickFormatter\"},\"plot\":{\"id\":\"853f5e08-bce3-4b87-8be9-8fcb080edb53\",\"subtype\":\"Figure\",\"type\":\"Plot\"},\"ticker\":{\"id\":\"403b8443-1da2-4f71-9c8e-c09d9657567d\",\"type\":\"BasicTicker\"}},\"id\":\"a30cf1b1-a321-4acf-9e90-c63694002d5a\",\"type\":\"LinearAxis\"},{\"attributes\":{},\"id\":\"403b8443-1da2-4f71-9c8e-c09d9657567d\",\"type\":\"BasicTicker\"},{\"attributes\":{},\"id\":\"b271f91f-0976-4c73-97c6-8d85f3ec2690\",\"type\":\"BasicTickFormatter\"},{\"attributes\":{},\"id\":\"93b0bc10-f46d-4c17-821f-c398fd6f836b\",\"type\":\"BasicTickFormatter\"},{\"attributes\":{\"dimension\":1,\"plot\":{\"id\":\"853f5e08-bce3-4b87-8be9-8fcb080edb53\",\"subtype\":\"Figure\",\"type\":\"Plot\"},\"ticker\":{\"id\":\"403b8443-1da2-4f71-9c8e-c09d9657567d\",\"type\":\"BasicTicker\"}},\"id\":\"d5b051f8-e966-4d91-a77c-c9526d657f72\",\"type\":\"Grid\"},{\"attributes\":{\"callback\":null,\"data\":{\"fill_color\":[\"red\",\"red\",\"red\",\"red\",\"red\",\"red\",\"red\",\"red\",\"red\",\"red\",\"red\",\"red\",\"red\",\"red\",\"red\",\"red\",\"red\",\"red\",\"red\",\"red\",\"red\",\"red\",\"red\",\"red\",\"red\",\"red\",\"red\",\"red\",\"red\",\"red\",\"red\",\"red\",\"red\",\"red\",\"red\",\"red\",\"red\",\"red\",\"red\",\"red\",\"red\",\"red\",\"red\",\"red\",\"red\",\"red\",\"red\",\"red\",\"red\",\"red\",\"blue\",\"blue\",\"blue\",\"blue\",\"blue\",\"blue\",\"blue\",\"blue\",\"blue\",\"blue\",\"blue\",\"blue\",\"blue\",\"blue\",\"blue\",\"blue\",\"blue\",\"blue\",\"blue\",\"blue\",\"blue\",\"blue\",\"blue\",\"blue\",\"blue\",\"blue\",\"blue\",\"blue\",\"blue\",\"blue\",\"blue\",\"blue\",\"blue\",\"blue\",\"blue\",\"blue\",\"blue\",\"blue\",\"blue\",\"blue\",\"blue\",\"blue\",\"blue\",\"blue\",\"blue\",\"blue\",\"blue\",\"blue\",\"blue\",\"blue\",\"orange\",\"orange\",\"orange\",\"orange\",\"orange\",\"orange\",\"orange\",\"orange\",\"orange\",\"orange\",\"orange\",\"orange\",\"orange\",\"orange\",\"orange\",\"orange\",\"orange\",\"orange\",\"orange\",\"orange\",\"orange\",\"orange\",\"orange\",\"orange\",\"orange\",\"orange\",\"orange\",\"orange\",\"orange\",\"orange\",\"orange\",\"orange\",\"orange\",\"orange\",\"orange\",\"orange\",\"orange\",\"orange\",\"orange\",\"orange\",\"orange\",\"orange\",\"orange\",\"orange\",\"orange\",\"orange\",\"orange\",\"orange\",\"orange\",\"orange\"],\"line_color\":[\"red\",\"red\",\"red\",\"red\",\"red\",\"red\",\"red\",\"red\",\"red\",\"red\",\"red\",\"red\",\"red\",\"red\",\"red\",\"red\",\"red\",\"red\",\"red\",\"red\",\"red\",\"red\",\"red\",\"red\",\"red\",\"red\",\"red\",\"red\",\"red\",\"red\",\"red\",\"red\",\"red\",\"red\",\"red\",\"red\",\"red\",\"red\",\"red\",\"red\",\"red\",\"red\",\"red\",\"red\",\"red\",\"red\",\"red\",\"red\",\"red\",\"red\",\"blue\",\"blue\",\"blue\",\"blue\",\"blue\",\"blue\",\"blue\",\"blue\",\"blue\",\"blue\",\"blue\",\"blue\",\"blue\",\"blue\",\"blue\",\"blue\",\"blue\",\"blue\",\"blue\",\"blue\",\"blue\",\"blue\",\"blue\",\"blue\",\"blue\",\"blue\",\"blue\",\"blue\",\"blue\",\"blue\",\"blue\",\"blue\",\"blue\",\"blue\",\"blue\",\"blue\",\"blue\",\"blue\",\"blue\",\"blue\",\"blue\",\"blue\",\"blue\",\"blue\",\"blue\",\"blue\",\"blue\",\"blue\",\"blue\",\"blue\",\"orange\",\"orange\",\"orange\",\"orange\",\"orange\",\"orange\",\"orange\",\"orange\",\"orange\",\"orange\",\"orange\",\"orange\",\"orange\",\"orange\",\"orange\",\"orange\",\"orange\",\"orange\",\"orange\",\"orange\",\"orange\",\"orange\",\"orange\",\"orange\",\"orange\",\"orange\",\"orange\",\"orange\",\"orange\",\"orange\",\"orange\",\"orange\",\"orange\",\"orange\",\"orange\",\"orange\",\"orange\",\"orange\",\"orange\",\"orange\",\"orange\",\"orange\",\"orange\",\"orange\",\"orange\",\"orange\",\"orange\",\"orange\",\"orange\",\"orange\"],\"x\":{\"__ndarray__\":\"2xfQlUF5BcB8HBC3HrkFwIMB8LRZHgfA4Ku3ELT4BcArfKiOKNQFwPku3tM6PQLAoXRMIi+RBsCf3sb9CAMFwJ6OMgWKGgfABVbgrghkBcBeEdbqXQ0EwLQJll635wTAmFU1L6pMBsCCXT7kNc0JwFOZcvz5JQXAaT99FCoSA8CWoJoE7/oEwH4CKtTDLwXAjJitL7aXAcDMpwaP4rIEwNoWbAv4ewLA3VEHi4tYBMC+fGGZE7oJwGkBnqfObALAf7QIOnDZAsDwvzLoNhAEwH2XS26gwAPAttch08Z/BMCLs/ecWh4FwE2sYpASEAXA/keKlyu1BMDtJH6g1kcDwH9w3yJcLgXA4kxEjPvGBMAFVuCuCGQFwLCyoZ2d7wbAS6UCyHcABcAFVuCuCGQFwJjrulPQ2gfA4rpHR/u4BMCjQtiWPikGwH/uJAtU0QbAvGxt2IL8B8BUrVgtfj4DwNMgpJywqwHA3Srpq665BcDDoH1E80wEwNoIQF/6uAbAHDVVoWtXBMB1upzHnKEFwDj1DcWEjvQ/4gJQE0/W7T84y8qQy2z3Pwi3dPTuKcc/SYbOIedk8T9YeMs1dX7kPynV/0sJhvE/90kj0QQM6L8q94EDWbHwP2gaKSSI3oS/qM4ZcNFa4L/M5/VR6lrgP/P0T+kbytA/mOpp/Ep97z+lXdiQ8WHGv/7qVXOtru0/uo81VmIb5T/6CskJbQXOP8P7SL3TJ+4/87kpZmQkpj+jxq87H9zxP0T4HlSX1dY/KyUEH1a+9D/1QZ74wXTtP5V71cAn2eY/Tl6+otvJ7D+cozkW8kv1P6hLd1oY6/g/3s2Mx6L/6T8v5x9lX6vTv10Vi9f9AbK/7qYYyauPyL/KKai4g0fBP8borIJOD/Y/z3E8ovTK4j/sFyyfoNTpP6TKEYbghvM/7GvzTwMD6j9oeUwYjmLPP8ikTKnGDsU/0S+Pukyi3T+wdkjCMXzsP2D5LaHoS80/urjB7Wig5r+kLf2lDcHWP/qSZxQvMdU/dkJiNOcD2D+nXdwMuojkP7ItLLIhEu2/xGOz5UgP0z8aHDsT+kAEQADalDIKoPY/4Yl4e4/uBEBtLrJAdYj/P2Ss9OlNzAJAZgM+Yc8sC0BQXXecyZ7gP3JDmha/dAdAROEYnLCOAkB2uNbCVlgHQGdzWBlJl/o/gvhG8WLW/D8LrT4nslIBQLqG6Tl1g/U/gi5fPkFd+T+5Hftm1Hn+P3MDnn0fMP8/WlTI0v3oC0BdqfvIhFsOQPIKf371xfQ/LrO19OJsA0AGg3UmaCvzP1Kv+OZ+/gtAFKODn+Mz9j9mABLC8jQCQMoIgnTe6QRApaF0lTsf9D+xkG83lab0P5+7I96a+wBAZCaKXbsZA0BQhLq4SboGQOYb7ZfW2wlA/NDJnxhFAUBZE6nB8hb3P/Z3nOdnefw/2sMdXrecCECNVH/e7igBQNQ67YtRev4/ZhATsp+z8j/QczWPedwAQDqlh3+xgwJAqZLo21vC/j8A2pQyCqD2Pz7IlFavgQRA3FWqyOlaA0CmvfyesRr/P+QIk0Qeafg/f64bO4g5/D9KxfebEm3+P1VzL44SPPY/\",\"dtype\":\"float64\",\"shape\":[150]},\"y\":{\"__ndarray__\":\"7AjjXSLn1D97cojtCbTFvyVbwHqKlMG/vEpJ9nXp07+e4vYhBV/VP2kdOgPW7ec/IIC0Hc0Etb9DiGys18/FP63l9jj6Q+K/jF5fwiVQu7+C6VrRptzkP9CP1SmBCZY/p9eXK5cmzb/yKP933hrgv7OauoCn+vI/xZ2wIR2E9T8PzrJlyi3qPxRyvDO8bNQ/ZMVxf8Qi7D99QSNVuKfgPx+5dpiqdtk/Esnd8nop3D+IPF6EdSDCPwbV18SIA7s/sP96EWj1n7/+QB0gmczBvz18WaFKpsE/B/rU9dT61z9FL8+ZP2/UPxVtKqJnVMi/eCBSKi1Eyb8UPKKm0sHaP6kxxDdMPeo/B8nal7CZ8T+MXl/CJVC7v9QbnD3twrM/cUPs2edq4z+MXl/CJVC7v/JPb7NqvN6/CBvJPjE3zj8EgcqbCVnRP3pJm3gI2u2/yAnrmEtl1b8FZ0MT0RPJP9iKLrshVdw/CDMy1C8Qz7/AYJhR7lTgP6eelW/YO8y/y8TDbNDC4j+A5cHoWXG9P9PO+ige7+U/B/8x071t1D/X9HK3UiLgPwZ1I/ZYa+q/Eo9t2MhMsz92Yc2NbbXavyqRpgpGK9I/JhTAT4kE8L/c+7HBdU7NPzq82QXzDue/CtFUwyoz9L/MtBKGSi+6v8fsloZXiOG/F4HFoRXWv7/obJoOvx3Qv1Gn3fyU990/apLEkMeG1r9OFXwONT7Vv0j536GbVuG/PmqFwY+b4r8A9nizDI+1vwAJmstdG7G/QKG8l8T21L9Uq8xCkVjHvz7oYsSfP8M/zjptplgY1T9cTKiyVFHPP8Wtvcn1HNE/tx+b8kfHxL/Yb4I9lF3Xv1F0H9Qwe+a/vfxtpgCu5b9ZklAADfPTv8Z+YmUG9dq/MCUhIyHu3r9eEa09h/fIP4EHAj9AHdo/HADGZzS5179vA4Z3EhLRv/JR4WjJv+W/oaWl78Js5b/iJpdP3U+hv8ENz76Wvtm/kgrFAIIi8L9+YkSoXRrgv/j22mrzB8u/ajXWbO+p0r/EFE79ZIeTP06U6drZDOi/KgDcyIQ11r8oFKcYvkCIvxBrGTvJZeK/FF29ikTi1T91h5xzIC/Hv9DOFCqhcaW/7jD/j2aC4T9THOjJxg/zvxIwWklYjdY/FbYsWR9uz797tjLM4PjoP4aIakQd+84/opwrQ/Sqy79WxEfoTY7LPxrSZyll2Oi/pdLY3QBC4b/HFmrg62q+P/JTZriY2qQ/LrX2faW+8j9Q6CHMgDXQP4AfJeY5Wui/bpMQITId2D8Mln0h52Djv6KjksfGO90/Pz9Y968dyr9bUUNwNFbVP3Ks010k3uE/PNu3DPbtxr/dJAmZC869v9LDq/hK/cq/D/HoV+qZ3T85cJi9A9vXP41njpyq7fU/gvH4TBfyy79U0d2kFGjCvzJyq+X/C+C/m5uGRcjx5T8uxSkXscfBP4AhBdmumag/jXRo/GoOxb8Ap9B7XcbXPwU+DxG6X8c/SoI4u38x2j8Qaxk7yWXiv1qZafWQqdE/+vWox5ts0z8c6LrUOP3HP/NUk3FXANi/E5fSWdUZtD+9ghc8Gaq9P6GMF9vQGtK/\",\"dtype\":\"float64\",\"shape\":[150]}},\"selected\":{\"id\":\"39899a38-a916-45bd-ab6c-db96192a564a\",\"type\":\"Selection\"},\"selection_policy\":{\"id\":\"850a9af0-f561-4c2c-b816-fea05bbe1fe1\",\"type\":\"UnionRenderers\"}},\"id\":\"dc74b842-c255-40dd-891e-be2541785a82\",\"type\":\"ColumnDataSource\"},{\"attributes\":{\"fill_color\":{\"field\":\"fill_color\"},\"line_color\":{\"field\":\"line_color\"},\"size\":{\"units\":\"screen\",\"value\":5},\"x\":{\"field\":\"x\"},\"y\":{\"field\":\"y\"}},\"id\":\"55c287eb-927f-4cc9-a770-d7b944699981\",\"type\":\"Circle\"},{\"attributes\":{\"below\":[{\"id\":\"165a8862-6189-4849-9bbe-d3b795cb7567\",\"type\":\"LinearAxis\"}],\"left\":[{\"id\":\"a30cf1b1-a321-4acf-9e90-c63694002d5a\",\"type\":\"LinearAxis\"}],\"renderers\":[{\"id\":\"165a8862-6189-4849-9bbe-d3b795cb7567\",\"type\":\"LinearAxis\"},{\"id\":\"1091dd64-5dc9-487d-bb36-48875ef6d4ca\",\"type\":\"Grid\"},{\"id\":\"a30cf1b1-a321-4acf-9e90-c63694002d5a\",\"type\":\"LinearAxis\"},{\"id\":\"d5b051f8-e966-4d91-a77c-c9526d657f72\",\"type\":\"Grid\"},{\"id\":\"60e7b7eb-424d-49cf-9508-e6968bf166db\",\"type\":\"GlyphRenderer\"}],\"title\":{\"id\":\"3ec54f2b-6616-473b-b32d-8e7d8568de50\",\"type\":\"Title\"},\"toolbar\":{\"id\":\"fc7c69d6-b732-454b-be3e-0ead3d4b7b02\",\"type\":\"Toolbar\"},\"x_range\":{\"id\":\"7ece2e67-42fb-48c6-ad36-44ab5c43e95d\",\"type\":\"DataRange1d\"},\"x_scale\":{\"id\":\"e865cd31-5945-4968-86e4-c7c268a5d20c\",\"type\":\"LinearScale\"},\"y_range\":{\"id\":\"a874ede8-e153-4c85-9026-b13361dd7471\",\"type\":\"DataRange1d\"},\"y_scale\":{\"id\":\"6d8924f7-2c31-482f-b712-5cf1b4d31fd0\",\"type\":\"LinearScale\"}},\"id\":\"853f5e08-bce3-4b87-8be9-8fcb080edb53\",\"subtype\":\"Figure\",\"type\":\"Plot\"},{\"attributes\":{},\"id\":\"850a9af0-f561-4c2c-b816-fea05bbe1fe1\",\"type\":\"UnionRenderers\"},{\"attributes\":{\"fill_alpha\":{\"value\":0.1},\"fill_color\":{\"value\":\"#1f77b4\"},\"line_alpha\":{\"value\":0.1},\"line_color\":{\"value\":\"#1f77b4\"},\"size\":{\"units\":\"screen\",\"value\":5},\"x\":{\"field\":\"x\"},\"y\":{\"field\":\"y\"}},\"id\":\"a330d0dc-2057-45c1-8b1e-f621e9c0e1e6\",\"type\":\"Circle\"},{\"attributes\":{\"data_source\":{\"id\":\"dc74b842-c255-40dd-891e-be2541785a82\",\"type\":\"ColumnDataSource\"},\"glyph\":{\"id\":\"55c287eb-927f-4cc9-a770-d7b944699981\",\"type\":\"Circle\"},\"hover_glyph\":null,\"muted_glyph\":null,\"nonselection_glyph\":{\"id\":\"a330d0dc-2057-45c1-8b1e-f621e9c0e1e6\",\"type\":\"Circle\"},\"selection_glyph\":null,\"view\":{\"id\":\"259d2736-a624-4eb8-a953-f616d8c1225f\",\"type\":\"CDSView\"}},\"id\":\"60e7b7eb-424d-49cf-9508-e6968bf166db\",\"type\":\"GlyphRenderer\"}],\"root_ids\":[\"853f5e08-bce3-4b87-8be9-8fcb080edb53\"]},\"title\":\"Bokeh Application\",\"version\":\"0.12.16\"}};\n",
       "  var render_items = [{\"docid\":\"12fc5c73-7e44-40cc-9b7f-1eba19ae5575\",\"elementid\":\"ae119d10-47b3-4f8f-b570-ca47bfaf1869\",\"modelid\":\"853f5e08-bce3-4b87-8be9-8fcb080edb53\"}];\n",
       "  root.Bokeh.embed.embed_items_notebook(docs_json, render_items);\n",
       "\n",
       "  }\n",
       "  if (root.Bokeh !== undefined) {\n",
       "    embed_document(root);\n",
       "  } else {\n",
       "    var attempts = 0;\n",
       "    var timer = setInterval(function(root) {\n",
       "      if (root.Bokeh !== undefined) {\n",
       "        embed_document(root);\n",
       "        clearInterval(timer);\n",
       "      }\n",
       "      attempts++;\n",
       "      if (attempts > 100) {\n",
       "        console.log(\"Bokeh: ERROR: Unable to run BokehJS code because BokehJS library is missing\")\n",
       "        clearInterval(timer);\n",
       "      }\n",
       "    }, 10, root)\n",
       "  }\n",
       "})(window);"
      ],
      "application/vnd.bokehjs_exec.v0+json": ""
     },
     "metadata": {
      "application/vnd.bokehjs_exec.v0+json": {
       "id": "853f5e08-bce3-4b87-8be9-8fcb080edb53"
      }
     },
     "output_type": "display_data"
    }
   ],
   "source": [
    "#Plot comme scatter\n",
    "p_fig = figure(title=\"PCA dans le Iris Dataset\",tools='')\n",
    "\n",
    "x_values =  X_resultat[:,0]\n",
    "y_values =  X_resultat[:,1]\n",
    "p_fig.circle(x = x_values,y=y_values,size = 5,color=couleurs)\n",
    "\n",
    "show(p_fig)"
   ]
  },
  {
   "cell_type": "markdown",
   "metadata": {},
   "source": [
    "# On utilise maintenant une technique simple pour evaluer si le choix de n=2 est adéquat.On refait la même procédure mais avec toutes les composantes:"
   ]
  },
  {
   "cell_type": "code",
   "execution_count": 12,
   "metadata": {},
   "outputs": [],
   "source": [
    "# créer le modele mais sans spécifier n_components:\n",
    "pca = PCA()\n",
    "X_resultat = pca.fit(X).transform(X)"
   ]
  },
  {
   "cell_type": "code",
   "execution_count": 13,
   "metadata": {},
   "outputs": [],
   "source": [
    "#Afficher les variances expliqués"
   ]
  },
  {
   "cell_type": "code",
   "execution_count": 14,
   "metadata": {},
   "outputs": [
    {
     "name": "stdout",
     "output_type": "stream",
     "text": [
      "[0.92461621 0.05301557 0.01718514 0.00518309]\n"
     ]
    }
   ],
   "source": [
    "variance_explique = pca.explained_variance_ratio_\n",
    "print (variance_explique)"
   ]
  },
  {
   "cell_type": "code",
   "execution_count": 15,
   "metadata": {},
   "outputs": [],
   "source": [
    "#Afficher les composantes PCA\n",
    "print (pca.components_)"
   ]
  },
  {
   "cell_type": "code",
   "execution_count": 17,
   "metadata": {},
   "outputs": [
    {
     "data": {
      "text/html": [
       "\n",
       "<div class=\"bk-root\">\n",
       "    <div class=\"bk-plotdiv\" id=\"4d0bc985-cf68-4fbc-9455-48e301e6a180\"></div>\n",
       "</div>"
      ]
     },
     "metadata": {},
     "output_type": "display_data"
    },
    {
     "data": {
      "application/javascript": [
       "(function(root) {\n",
       "  function embed_document(root) {\n",
       "    \n",
       "  var docs_json = {\"a10bec6d-309d-4003-a583-47ff2523ae0e\":{\"roots\":{\"references\":[{\"attributes\":{\"callback\":null,\"data\":{\"x\":[1,2,3,4],\"y\":{\"__ndarray__\":\"CUhlunSW7T8PnzFE2ySrP6TK8jD7mJE/zNgD6Ns6dT8=\",\"dtype\":\"float64\",\"shape\":[4]}},\"selected\":{\"id\":\"1c3c5dbe-8118-4355-911b-24e17a560198\",\"type\":\"Selection\"},\"selection_policy\":{\"id\":\"17bee578-8918-4ae9-8734-9cc22d1a2670\",\"type\":\"UnionRenderers\"}},\"id\":\"56e6015b-ae3d-4d06-adf6-d178bc3bfd0c\",\"type\":\"ColumnDataSource\"},{\"attributes\":{\"below\":[{\"id\":\"0dc24eb4-4f24-4e19-a3d5-c453dbc8d77d\",\"type\":\"LinearAxis\"}],\"left\":[{\"id\":\"25d7f2bc-712b-487d-8840-c351c962de36\",\"type\":\"LinearAxis\"}],\"renderers\":[{\"id\":\"0dc24eb4-4f24-4e19-a3d5-c453dbc8d77d\",\"type\":\"LinearAxis\"},{\"id\":\"635109da-0d0f-4588-9c4d-2ba2f9b360e9\",\"type\":\"Grid\"},{\"id\":\"25d7f2bc-712b-487d-8840-c351c962de36\",\"type\":\"LinearAxis\"},{\"id\":\"15b54373-1c7c-4e12-bcac-932a907394a6\",\"type\":\"Grid\"},{\"id\":\"e002b6c3-08ca-4db7-a9b8-4d97939a0c54\",\"type\":\"GlyphRenderer\"}],\"title\":{\"id\":\"b84d0986-351c-4ff6-b65b-d0e02bfa68c0\",\"type\":\"Title\"},\"toolbar\":{\"id\":\"0af673ce-c94f-4ed0-8f3a-3f6dc9080ec0\",\"type\":\"Toolbar\"},\"x_range\":{\"id\":\"a8d9c837-2d1c-429a-bf59-a798be27d2ed\",\"type\":\"DataRange1d\"},\"x_scale\":{\"id\":\"87802882-3418-4d5d-a62a-8921d1651d97\",\"type\":\"LinearScale\"},\"y_range\":{\"id\":\"1349b848-7dad-4447-a387-49d9de835fa4\",\"type\":\"DataRange1d\"},\"y_scale\":{\"id\":\"83ada19d-9a0c-454e-9821-3964e42df22d\",\"type\":\"LinearScale\"}},\"id\":\"4ac32978-049c-4791-ba76-e833074595ed\",\"subtype\":\"Figure\",\"type\":\"Plot\"},{\"attributes\":{\"plot\":null,\"text\":\"Composantes principales\"},\"id\":\"b84d0986-351c-4ff6-b65b-d0e02bfa68c0\",\"type\":\"Title\"},{\"attributes\":{\"line_color\":\"red\",\"x\":{\"field\":\"x\"},\"y\":{\"field\":\"y\"}},\"id\":\"34273373-66c1-4fe4-9e85-980e53a66cbb\",\"type\":\"Line\"},{\"attributes\":{\"active_drag\":\"auto\",\"active_inspect\":\"auto\",\"active_scroll\":\"auto\",\"active_tap\":\"auto\"},\"id\":\"0af673ce-c94f-4ed0-8f3a-3f6dc9080ec0\",\"type\":\"Toolbar\"},{\"attributes\":{\"axis_label\":\"Variance Expliqu\\u00e9e\",\"formatter\":{\"id\":\"6218e21c-5334-4949-8ed9-6cf1bedc57ab\",\"type\":\"BasicTickFormatter\"},\"plot\":{\"id\":\"4ac32978-049c-4791-ba76-e833074595ed\",\"subtype\":\"Figure\",\"type\":\"Plot\"},\"ticker\":{\"id\":\"dc13dcf3-1c62-43fb-9eea-64890188adc7\",\"type\":\"BasicTicker\"}},\"id\":\"25d7f2bc-712b-487d-8840-c351c962de36\",\"type\":\"LinearAxis\"},{\"attributes\":{\"callback\":null},\"id\":\"a8d9c837-2d1c-429a-bf59-a798be27d2ed\",\"type\":\"DataRange1d\"},{\"attributes\":{\"line_alpha\":0.1,\"line_color\":\"#1f77b4\",\"x\":{\"field\":\"x\"},\"y\":{\"field\":\"y\"}},\"id\":\"5b4936f4-654a-4362-bc53-811eec3e012f\",\"type\":\"Line\"},{\"attributes\":{},\"id\":\"dc13dcf3-1c62-43fb-9eea-64890188adc7\",\"type\":\"BasicTicker\"},{\"attributes\":{},\"id\":\"575250e4-a960-440c-83e3-d1c0e1ad2a46\",\"type\":\"BasicTicker\"},{\"attributes\":{},\"id\":\"6218e21c-5334-4949-8ed9-6cf1bedc57ab\",\"type\":\"BasicTickFormatter\"},{\"attributes\":{\"data_source\":{\"id\":\"56e6015b-ae3d-4d06-adf6-d178bc3bfd0c\",\"type\":\"ColumnDataSource\"},\"glyph\":{\"id\":\"34273373-66c1-4fe4-9e85-980e53a66cbb\",\"type\":\"Line\"},\"hover_glyph\":null,\"muted_glyph\":null,\"nonselection_glyph\":{\"id\":\"5b4936f4-654a-4362-bc53-811eec3e012f\",\"type\":\"Line\"},\"selection_glyph\":null,\"view\":{\"id\":\"e7021506-067d-482a-aea1-327832bda627\",\"type\":\"CDSView\"}},\"id\":\"e002b6c3-08ca-4db7-a9b8-4d97939a0c54\",\"type\":\"GlyphRenderer\"},{\"attributes\":{\"source\":{\"id\":\"56e6015b-ae3d-4d06-adf6-d178bc3bfd0c\",\"type\":\"ColumnDataSource\"}},\"id\":\"e7021506-067d-482a-aea1-327832bda627\",\"type\":\"CDSView\"},{\"attributes\":{\"axis_label\":\"Principal Component\",\"formatter\":{\"id\":\"31c1a256-35f9-4037-bea1-b2424f865a3c\",\"type\":\"BasicTickFormatter\"},\"plot\":{\"id\":\"4ac32978-049c-4791-ba76-e833074595ed\",\"subtype\":\"Figure\",\"type\":\"Plot\"},\"ticker\":{\"id\":\"575250e4-a960-440c-83e3-d1c0e1ad2a46\",\"type\":\"BasicTicker\"}},\"id\":\"0dc24eb4-4f24-4e19-a3d5-c453dbc8d77d\",\"type\":\"LinearAxis\"},{\"attributes\":{\"plot\":{\"id\":\"4ac32978-049c-4791-ba76-e833074595ed\",\"subtype\":\"Figure\",\"type\":\"Plot\"},\"ticker\":{\"id\":\"575250e4-a960-440c-83e3-d1c0e1ad2a46\",\"type\":\"BasicTicker\"}},\"id\":\"635109da-0d0f-4588-9c4d-2ba2f9b360e9\",\"type\":\"Grid\"},{\"attributes\":{},\"id\":\"17bee578-8918-4ae9-8734-9cc22d1a2670\",\"type\":\"UnionRenderers\"},{\"attributes\":{},\"id\":\"31c1a256-35f9-4037-bea1-b2424f865a3c\",\"type\":\"BasicTickFormatter\"},{\"attributes\":{},\"id\":\"83ada19d-9a0c-454e-9821-3964e42df22d\",\"type\":\"LinearScale\"},{\"attributes\":{},\"id\":\"1c3c5dbe-8118-4355-911b-24e17a560198\",\"type\":\"Selection\"},{\"attributes\":{\"callback\":null},\"id\":\"1349b848-7dad-4447-a387-49d9de835fa4\",\"type\":\"DataRange1d\"},{\"attributes\":{\"dimension\":1,\"plot\":{\"id\":\"4ac32978-049c-4791-ba76-e833074595ed\",\"subtype\":\"Figure\",\"type\":\"Plot\"},\"ticker\":{\"id\":\"dc13dcf3-1c62-43fb-9eea-64890188adc7\",\"type\":\"BasicTicker\"}},\"id\":\"15b54373-1c7c-4e12-bcac-932a907394a6\",\"type\":\"Grid\"},{\"attributes\":{},\"id\":\"87802882-3418-4d5d-a62a-8921d1651d97\",\"type\":\"LinearScale\"}],\"root_ids\":[\"4ac32978-049c-4791-ba76-e833074595ed\"]},\"title\":\"Bokeh Application\",\"version\":\"0.12.16\"}};\n",
       "  var render_items = [{\"docid\":\"a10bec6d-309d-4003-a583-47ff2523ae0e\",\"elementid\":\"4d0bc985-cf68-4fbc-9455-48e301e6a180\",\"modelid\":\"4ac32978-049c-4791-ba76-e833074595ed\"}];\n",
       "  root.Bokeh.embed.embed_items_notebook(docs_json, render_items);\n",
       "\n",
       "  }\n",
       "  if (root.Bokeh !== undefined) {\n",
       "    embed_document(root);\n",
       "  } else {\n",
       "    var attempts = 0;\n",
       "    var timer = setInterval(function(root) {\n",
       "      if (root.Bokeh !== undefined) {\n",
       "        embed_document(root);\n",
       "        clearInterval(timer);\n",
       "      }\n",
       "      attempts++;\n",
       "      if (attempts > 100) {\n",
       "        console.log(\"Bokeh: ERROR: Unable to run BokehJS code because BokehJS library is missing\")\n",
       "        clearInterval(timer);\n",
       "      }\n",
       "    }, 10, root)\n",
       "  }\n",
       "})(window);"
      ],
      "application/vnd.bokehjs_exec.v0+json": ""
     },
     "metadata": {
      "application/vnd.bokehjs_exec.v0+json": {
       "id": "4ac32978-049c-4791-ba76-e833074595ed"
      }
     },
     "output_type": "display_data"
    }
   ],
   "source": [
    "comp_id = [1, 2, 3, 4]             # id du composant\n",
    "p_pca = figure(title=\"Composantes principales\",tools='',\n",
    "           x_axis_label=\"Principal Component\",\n",
    "          y_axis_label='Variance Expliquée')\n",
    "p_pca.line(comp_id,variance_explique,color='red')\n",
    "show(p_pca)\n"
   ]
  },
  {
   "cell_type": "markdown",
   "metadata": {},
   "source": [
    "On voit qu’avec 2 composantes, on est capable de capturer l’essentiel des features."
   ]
  },
  {
   "cell_type": "markdown",
   "metadata": {},
   "source": [
    "# On evalue maintenant si la vitesse de traitement est améliorée en prenant moins de feature ou plus de features"
   ]
  },
  {
   "cell_type": "code",
   "execution_count": 20,
   "metadata": {},
   "outputs": [
    {
     "name": "stdout",
     "output_type": "stream",
     "text": [
      "             precision    recall  f1-score   support\n",
      "\n",
      "          0       1.00      1.00      1.00        10\n",
      "          1       1.00      1.00      1.00         9\n",
      "          2       1.00      1.00      1.00        11\n",
      "\n",
      "avg / total       1.00      1.00      1.00        30\n",
      "\n"
     ]
    }
   ],
   "source": [
    "modele = KNeighborsClassifier(2)\n",
    "modele.fit(X_train, y_train)\n",
    "print (classification_report(y_test,modele.predict(X_test)) )"
   ]
  },
  {
   "cell_type": "code",
   "execution_count": 21,
   "metadata": {},
   "outputs": [],
   "source": [
    "X_r_train, X_r_test, y_r_train, y_r_test = train_test_split(X_resultat,y, test_size=0.2, random_state=42)"
   ]
  },
  {
   "cell_type": "code",
   "execution_count": 22,
   "metadata": {},
   "outputs": [
    {
     "name": "stdout",
     "output_type": "stream",
     "text": [
      "208 µs ± 3.23 µs per loop (mean ± std. dev. of 7 runs, 1000 loops each)\n"
     ]
    }
   ],
   "source": [
    "%%timeit \n",
    "modele = KNeighborsClassifier(2)\n",
    "modele.fit(X_r_train, y_r_train)"
   ]
  },
  {
   "cell_type": "code",
   "execution_count": 23,
   "metadata": {},
   "outputs": [
    {
     "name": "stdout",
     "output_type": "stream",
     "text": [
      "             precision    recall  f1-score   support\n",
      "\n",
      "          0       1.00      1.00      1.00        10\n",
      "          1       1.00      1.00      1.00         9\n",
      "          2       1.00      1.00      1.00        11\n",
      "\n",
      "avg / total       1.00      1.00      1.00        30\n",
      "\n"
     ]
    }
   ],
   "source": [
    "modele = KNeighborsClassifier(2)\n",
    "modele.fit(X_r_train, y_r_train)\n",
    "print (classification_report(y_r_test,modele.predict(X_r_test)) )"
   ]
  },
  {
   "cell_type": "code",
   "execution_count": 24,
   "metadata": {},
   "outputs": [],
   "source": [
    "# refaire maintenant avec 2 composantes principales\n",
    "# creer le modele et effectuer un fit du data\n",
    "pca_2 = PCA(n_components=2)\n",
    "X_resultat_2 = pca.fit(X).transform(X)\n",
    "X_r_train2, X_r_test2, y_r_train2, y_r_test2 = train_test_split(X_resultat_2,y, test_size=0.2, random_state=42)\n"
   ]
  },
  {
   "cell_type": "code",
   "execution_count": 25,
   "metadata": {},
   "outputs": [
    {
     "name": "stdout",
     "output_type": "stream",
     "text": [
      "206 µs ± 4.42 µs per loop (mean ± std. dev. of 7 runs, 1000 loops each)\n"
     ]
    }
   ],
   "source": [
    "%%timeit \n",
    "modele = KNeighborsClassifier(2)\n",
    "modele.fit(X_r_train2, y_r_train2)"
   ]
  },
  {
   "cell_type": "code",
   "execution_count": 26,
   "metadata": {},
   "outputs": [
    {
     "name": "stdout",
     "output_type": "stream",
     "text": [
      "             precision    recall  f1-score   support\n",
      "\n",
      "          0       1.00      1.00      1.00        10\n",
      "          1       1.00      1.00      1.00         9\n",
      "          2       1.00      1.00      1.00        11\n",
      "\n",
      "avg / total       1.00      1.00      1.00        30\n",
      "\n"
     ]
    }
   ],
   "source": [
    "modele2 = KNeighborsClassifier(2)\n",
    "modele2.fit(X_r_train2, y_r_train2)\n",
    "print (classification_report(y_r_test2,modele2.predict(X_r_test2)) )"
   ]
  },
  {
   "cell_type": "code",
   "execution_count": null,
   "metadata": {},
   "outputs": [],
   "source": []
  }
 ],
 "metadata": {
  "kernelspec": {
   "display_name": "Python 3",
   "language": "python",
   "name": "python3"
  },
  "language_info": {
   "codemirror_mode": {
    "name": "ipython",
    "version": 3
   },
   "file_extension": ".py",
   "mimetype": "text/x-python",
   "name": "python",
   "nbconvert_exporter": "python",
   "pygments_lexer": "ipython3",
   "version": "3.8.5"
  },
  "toc": {
   "base_numbering": 1,
   "nav_menu": {},
   "number_sections": true,
   "sideBar": true,
   "skip_h1_title": false,
   "title_cell": "Tables des matières",
   "title_sidebar": "Contenu",
   "toc_cell": true,
   "toc_position": {},
   "toc_section_display": true,
   "toc_window_display": true
  }
 },
 "nbformat": 4,
 "nbformat_minor": 1
}
