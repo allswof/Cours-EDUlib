{
 "cells": [
  {
   "cell_type": "markdown",
   "id": "featured-exclusive",
   "metadata": {
    "toc": true
   },
   "source": [
    "<h1>Table des matières<span class=\"tocSkip\"></span></h1>\n",
    "<div class=\"toc\"><ul class=\"toc-item\"><li><span><a href=\"#Pratique-Anonymisation\" data-toc-modified-id=\"Pratique-Anonymisation-1\">Pratique Anonymisation</a></span><ul class=\"toc-item\"><li><ul class=\"toc-item\"><li><span><a href=\"#Préambule\" data-toc-modified-id=\"Préambule-1.0.1\">Préambule</a></span></li></ul></li><li><span><a href=\"#Pratique-1:-Suppression-d'un-attribut\" data-toc-modified-id=\"Pratique-1:-Suppression-d'un-attribut-1.1\">Pratique 1: Suppression d'un attribut</a></span></li><li><span><a href=\"#Pratique-2:-Suppression-d'un-enregistrement\" data-toc-modified-id=\"Pratique-2:-Suppression-d'un-enregistrement-1.2\">Pratique 2: Suppression d'un enregistrement</a></span></li><li><span><a href=\"#Pratique-3:-Technique-de-masquage\" data-toc-modified-id=\"Pratique-3:-Technique-de-masquage-1.3\">Pratique 3: Technique de masquage</a></span></li><li><span><a href=\"#Pratique-4:-Tecnique-de-Géneralisation\" data-toc-modified-id=\"Pratique-4:-Tecnique-de-Géneralisation-1.4\">Pratique 4: Tecnique de Géneralisation</a></span></li></ul></li><li><span><a href=\"#Solutionnaire\" data-toc-modified-id=\"Solutionnaire-2\">Solutionnaire</a></span><ul class=\"toc-item\"><li><span><a href=\"#Pratique-1:-Suppression-d'un-attribut\" data-toc-modified-id=\"Pratique-1:-Suppression-d'un-attribut-2.1\">Pratique 1: Suppression d'un attribut</a></span></li><li><span><a href=\"#Pratique-2:-Suppression-d'un-enregistrement\" data-toc-modified-id=\"Pratique-2:-Suppression-d'un-enregistrement-2.2\">Pratique 2: Suppression d'un enregistrement</a></span></li><li><span><a href=\"#Pratique-3:-Technique-de-masquage\" data-toc-modified-id=\"Pratique-3:-Technique-de-masquage-2.3\">Pratique 3: Technique de masquage</a></span></li><li><span><a href=\"#Pratique-4:-Tecnique-de-Géneralisation\" data-toc-modified-id=\"Pratique-4:-Tecnique-de-Géneralisation-2.4\">Pratique 4: Tecnique de Géneralisation</a></span></li></ul></li></ul></div>"
   ]
  },
  {
   "cell_type": "markdown",
   "id": "absolute-airplane",
   "metadata": {},
   "source": [
    "# Pratique Anonymisation"
   ]
  },
  {
   "cell_type": "markdown",
   "id": "forbidden-carpet",
   "metadata": {},
   "source": [
    "### Préambule"
   ]
  },
  {
   "cell_type": "markdown",
   "id": "golden-clinic",
   "metadata": {},
   "source": [
    "On se propose ici de créer un petit dataframe afin d’appliquer et de se familiariser avec quelques techniques de bases d’anonymisation des données.\n",
    "\n",
    "Notre jeu de données, totalement fictif, porte sur des voyageurs utilisant un moyen de transport contenant trois catégories A, B et C.  Il va comprendre 6 colonnes: Nom, Genre, Age, Siège, Ticket et Prix.\n",
    "On donne le code ci-dessous pour importer la libraire pandas et créer le dataframe \"data\"\n"
   ]
  },
  {
   "cell_type": "code",
   "execution_count": null,
   "id": "gentle-colon",
   "metadata": {},
   "outputs": [],
   "source": [
    "# importer la librairie pandas\n",
    "import pandas as pd\n",
    "\n",
    "# création d'un dataframe noté data\n",
    "data = pd.DataFrame({\"Nom\":   [\"Elina\", \"Henry\", \"Samuel\", \"Katherine\", \"Marguerite \", \"Joseph \", \"Adam\", \"Albert\", \"Myriam\", \"Manda\"],\n",
    "                     \"Genre\": [\"féminin\", \"masculin\", \"masculin\", \"féminin\", \"féminin\", \"masculin\", \"masculin\", \"masculin\", \"féminin\", \"féminin\"],\n",
    "                     \"Age\":   [24,7,36,28,65,48,25,58,42, 18],\n",
    "                     \"Siège\": [\"B26\", \"C17\", \"C12\", \"B10\", \"A26\", \"A23\", \"C10\", \"B23\", \"B12\", \"A17\",],\n",
    "                     \"Ticket\":[\"F12178\", \"P03213\", \"P03214\", \"H12165\", \"F01054\", \"F01068\", \"P03276\", \"H12180\", \"H12195\", \"F01034\",],\n",
    "                     \"Prix\":  [475.99,219.99,269.99,399.99,868.99,623.99,249.99,425.99,412.99, 599.99],\n",
    "                     })\n",
    "data"
   ]
  },
  {
   "cell_type": "code",
   "execution_count": null,
   "id": "flexible-military",
   "metadata": {},
   "outputs": [],
   "source": [
    "# créer une copie pour ne pas toucher au dataframe d'origine \n",
    "df = data.copy()\n",
    "\n",
    "# afficher les cinq premières lignes\n",
    "df.head()"
   ]
  },
  {
   "cell_type": "markdown",
   "id": "tender-cosmetic",
   "metadata": {},
   "source": [
    "## Pratique 1: Suppression d'un attribut"
   ]
  },
  {
   "cell_type": "code",
   "execution_count": null,
   "id": "blocked-parish",
   "metadata": {},
   "outputs": [],
   "source": [
    "# Procédez à la suppression, de façon permanente, de l'attribut \"Nom\"\n"
   ]
  },
  {
   "cell_type": "code",
   "execution_count": null,
   "id": "experimental-catalog",
   "metadata": {
    "scrolled": true
   },
   "outputs": [],
   "source": [
    "# Vérification: Afficher les cinq premières lignes\n"
   ]
  },
  {
   "cell_type": "markdown",
   "id": "recreational-survey",
   "metadata": {},
   "source": [
    "## Pratique 2: Suppression d'un enregistrement"
   ]
  },
  {
   "cell_type": "code",
   "execution_count": null,
   "id": "exclusive-occurrence",
   "metadata": {},
   "outputs": [],
   "source": [
    "# Procéder à la suppression des lignes contenant le prix le plus élevé ainsi que le prix le plus bas. \n"
   ]
  },
  {
   "cell_type": "markdown",
   "id": "handled-enlargement",
   "metadata": {},
   "source": [
    "## Pratique 3: Technique de masquage"
   ]
  },
  {
   "cell_type": "code",
   "execution_count": null,
   "id": "mexican-malaysia",
   "metadata": {},
   "outputs": [],
   "source": [
    "# Procéder au masquage des séries Siège et Ticket\n"
   ]
  },
  {
   "cell_type": "markdown",
   "id": "charitable-george",
   "metadata": {},
   "source": [
    "## Pratique 4: Tecnique de Géneralisation"
   ]
  },
  {
   "cell_type": "code",
   "execution_count": null,
   "id": "guilty-shelf",
   "metadata": {},
   "outputs": [],
   "source": [
    "# Procéder à la généralisation de l’attribut \"Age\""
   ]
  },
  {
   "cell_type": "markdown",
   "id": "allied-respect",
   "metadata": {},
   "source": [
    "**Indication et astuce**\n",
    "* Pour la généralisation de l’attribut Age, on utilisera la fonction map et les catégories suivantes :\n",
    "    * **<18**, **18-30**, **31-50**, **> 50**\n",
    "* Creer une fontion pour faciliter l'opération de généralisation"
   ]
  },
  {
   "cell_type": "markdown",
   "id": "varied-bones",
   "metadata": {},
   "source": [
    "# Solutionnaire"
   ]
  },
  {
   "cell_type": "code",
   "execution_count": null,
   "id": "boolean-emperor",
   "metadata": {},
   "outputs": [],
   "source": [
    "# importer la librairie pandas\n",
    "import pandas as pd\n",
    "\n",
    "# création d'un dataframe noté data\n",
    "data = pd.DataFrame({\"Nom\":   [\"Elina\", \"Henry\", \"Samuel\", \"Katherine\", \"Marguerite \", \"Joseph \", \"Adam\", \"Albert\", \"Myriam\", \"Manda\"],\n",
    "                     \"Genre\": [\"féminin\", \"masculin\", \"masculin\", \"féminin\", \"féminin\", \"masculin\", \"masculin\", \"masculin\", \"féminin\", \"féminin\"],\n",
    "                     \"Age\":   [24,7,36,28,65,48,25,58,42, 18],\n",
    "                     \"Siège\": [\"B26\", \"C17\", \"C12\", \"B10\", \"A26\", \"A23\", \"C10\", \"B23\", \"B12\", \"A17\",],\n",
    "                     \"Ticket\":[\"F12178\", \"P03213\", \"P03214\", \"H12165\", \"F01054\", \"F01068\", \"P03276\", \"H12180\", \"H12195\", \"F01034\",],\n",
    "                     \"Prix\":  [475.99,219.99,269.99,399.99,868.99,623.99,249.99,425.99,412.99, 599.99],\n",
    "                     })\n"
   ]
  },
  {
   "cell_type": "code",
   "execution_count": null,
   "id": "sunrise-hygiene",
   "metadata": {},
   "outputs": [],
   "source": [
    "# créer une copie pour ne pas toucher au dataframe d'origine \n",
    "df = data.copy()"
   ]
  },
  {
   "cell_type": "markdown",
   "id": "pleasant-socket",
   "metadata": {},
   "source": [
    "## Pratique 1: Suppression d'un attribut"
   ]
  },
  {
   "cell_type": "code",
   "execution_count": null,
   "id": "elegant-vampire",
   "metadata": {},
   "outputs": [],
   "source": [
    "# Ici on a utilisé le inplace = True ce qui nous évite de réaffecter le tout dans un dataframe comme\n",
    "# on l'a vu dans la vidéo du cours.\n",
    "df.drop(columns = [\"Nom\"], axis = 1, inplace = True)"
   ]
  },
  {
   "cell_type": "code",
   "execution_count": null,
   "id": "conservative-henry",
   "metadata": {},
   "outputs": [],
   "source": [
    "# Vérification: Afficher les cinq premières lignes\n",
    "df.head(5)"
   ]
  },
  {
   "cell_type": "markdown",
   "id": "interior-short",
   "metadata": {},
   "source": [
    "## Pratique 2: Suppression d'un enregistrement"
   ]
  },
  {
   "cell_type": "code",
   "execution_count": null,
   "id": "outdoor-trigger",
   "metadata": {},
   "outputs": [],
   "source": [
    "# Procéder à la suppression des lignes contenant le prix le plus élevé ainsi que le prix le plus bas. \n",
    "condition = (df[\"Prix\"] != df.Prix.max()) & (df[\"Prix\"] != df.Prix.min())"
   ]
  },
  {
   "cell_type": "code",
   "execution_count": null,
   "id": "effective-binary",
   "metadata": {},
   "outputs": [],
   "source": [
    "# Filtrer le dataframe pour ne garder que les éléments qui réalisent la condition\n",
    "df = df[condition]"
   ]
  },
  {
   "cell_type": "code",
   "execution_count": null,
   "id": "threaded-republic",
   "metadata": {},
   "outputs": [],
   "source": [
    "# Vérification: Afficher les cinq premières lignes\n",
    "df.head(5)"
   ]
  },
  {
   "cell_type": "markdown",
   "id": "related-absolute",
   "metadata": {},
   "source": [
    "## Pratique 3: Technique de masquage"
   ]
  },
  {
   "cell_type": "code",
   "execution_count": null,
   "id": "instrumental-alert",
   "metadata": {},
   "outputs": [],
   "source": [
    "# Procéder au masquage de la série Siège\n",
    "## Ici on pourrait décider de garder que les deux derniers chiffres : x[1:]\n",
    "df[\"Siège\"] = df[\"Siège\"].map(lambda x: \"***\" + x[1:])\n"
   ]
  },
  {
   "cell_type": "code",
   "execution_count": null,
   "id": "completed-stock",
   "metadata": {},
   "outputs": [],
   "source": [
    "# Procéder au masquage de la série Ticket\n",
    "## Ici on pourrait décider de garder que les trois derniers chiffres : x[-3:]\n",
    "df.Ticket = df.Ticket.map(lambda x: \"***\" + x[-3:])"
   ]
  },
  {
   "cell_type": "code",
   "execution_count": null,
   "id": "driven-dictionary",
   "metadata": {},
   "outputs": [],
   "source": [
    "# Vérification: Afficher les cinq premières lignes\n",
    "df.head(5)"
   ]
  },
  {
   "cell_type": "markdown",
   "id": "polished-revision",
   "metadata": {},
   "source": [
    "## Pratique 4: Tecnique de Géneralisation"
   ]
  },
  {
   "cell_type": "markdown",
   "id": "motivated-shopper",
   "metadata": {},
   "source": [
    "* Procéder à la généralisation de l’attribut \"Age\"\n",
    "* Définir une fonction qui nous servira à catégoriser l'age"
   ]
  },
  {
   "cell_type": "code",
   "execution_count": null,
   "id": "roman-cycle",
   "metadata": {},
   "outputs": [],
   "source": [
    "def age_bins():\n",
    "    fct = lambda x: \"<18\" if  x < 18 else \"18-30\" if x < 31 else \"31-50\" if x < 51 else \"> 50\"\n",
    "    return fct"
   ]
  },
  {
   "cell_type": "code",
   "execution_count": null,
   "id": "discrete-specific",
   "metadata": {},
   "outputs": [],
   "source": [
    "# créer une nouvelle série catégorie age\n",
    "df[\"Age_bins\"] = df[\"Age\"].map(age_bins())"
   ]
  },
  {
   "cell_type": "markdown",
   "id": "spoken-credits",
   "metadata": {},
   "source": [
    "* La fonction map va prendre chaque valeur de la série Age et la passer à notre fonction age_bins qui elle, nous retourne la catégorie selon la condition préalablement établie. \n",
    "* On pourra par la suite supprimer la série Age "
   ]
  },
  {
   "cell_type": "code",
   "execution_count": null,
   "id": "contrary-microphone",
   "metadata": {},
   "outputs": [],
   "source": [
    "df.drop(columns = [\"Age\"], axis = 1, inplace = True)"
   ]
  },
  {
   "cell_type": "code",
   "execution_count": null,
   "id": "sporting-cambridge",
   "metadata": {},
   "outputs": [],
   "source": [
    "# Vérification: Afficher les cinq premières lignes\n",
    "df.head(5)"
   ]
  }
 ],
 "metadata": {
  "kernelspec": {
   "display_name": "Python 3",
   "language": "python",
   "name": "python3"
  },
  "language_info": {
   "codemirror_mode": {
    "name": "ipython",
    "version": 3
   },
   "file_extension": ".py",
   "mimetype": "text/x-python",
   "name": "python",
   "nbconvert_exporter": "python",
   "pygments_lexer": "ipython3",
   "version": "3.8.5"
  },
  "toc": {
   "base_numbering": 1,
   "nav_menu": {},
   "number_sections": false,
   "sideBar": true,
   "skip_h1_title": false,
   "title_cell": "Table des matières",
   "title_sidebar": "Contents",
   "toc_cell": true,
   "toc_position": {
    "height": "559px",
    "left": "10px",
    "top": "109px",
    "width": "174.475px"
   },
   "toc_section_display": true,
   "toc_window_display": true
  }
 },
 "nbformat": 4,
 "nbformat_minor": 5
}
