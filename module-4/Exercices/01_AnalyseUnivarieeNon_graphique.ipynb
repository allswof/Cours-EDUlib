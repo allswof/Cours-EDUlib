{
 "cells": [
  {
   "cell_type": "markdown",
   "id": "delayed-avenue",
   "metadata": {},
   "source": [
    "<a href=\"https://colab.research.google.com/github/pia-fcse-bdeb/Cours-EDUlib/blob/master/module-3/Exercices/pratique_transformations.ipynb\">\n",
    "  <img src=\"https://colab.research.google.com/assets/colab-badge.svg\" alt=\"Open In Colab\"/>\n",
    "</a>"
   ]
  },
{
  "nbformat": 4,
  "nbformat_minor": 0,
  "metadata": {
    "colab": {
      "name": "AnalyseUnivarieeNon_graphique.ipynb",
      "provenance": [],
      "collapsed_sections": [
        "YHIWvc9Ms-Ll"
      ]
    },
    "kernelspec": {
      "display_name": "Python 3",
      "language": "python",
      "name": "python3"
    },
    "language_info": {
      "codemirror_mode": {
        "name": "ipython",
        "version": 3
      },
      "file_extension": ".py",
      "mimetype": "text/x-python",
      "name": "python",
      "nbconvert_exporter": "python",
      "pygments_lexer": "ipython3",
      "version": "3.8.8"
    }
  },
  "cells": [
    {
      "cell_type": "markdown",
      "metadata": {
        "id": "rHLcriKWLRe4"
      },
      "source": [
        " # **Analyse univariée non-graphique**"
      ]
    },
    {
      "cell_type": "markdown",
      "metadata": {
        "id": "QvJBqX8_Bctk"
      },
      "source": [
        "**Objectifs d'apprentissage :**\n",
        "  * Introduction à l'analyse univariée non-graphique\n",
        "  * Importer les modules Python pour l'analyse de données\n",
        "  * Charger les données et les sauvegarder dans un *DataFrame*\n",
        "  * Afficher les statistiques sommaires"
      ]
    },
    {
      "cell_type": "markdown",
      "metadata": {
        "id": "TIFJ83ZTBctl"
      },
      "source": [
        "  ## **Introduction à l'analyse univariée non-graphique**\n",
        " L'analyse univariée s'intéresse à la description et la distribution des données par rapport à une seule variable à la fois. Les techniques d'analyse univariée non-graphique sont multiples et se basent principalement sur les statistiques descriptives telles que la moyenne, le mode, l'écart type, etc. Le choix d'une technique ou d'une autre dépend essentiellement du type de la variable à l'étude."
      ]
    },
    {
      "cell_type": "markdown",
      "metadata": {
        "id": "s_JOISVgmn9v"
      },
      "source": [
        " ### **Étapes d'analyse univariée non-graphique en Python**\n",
        "\n",
        "Pour entamer une une analyse descriptive en Python, il s'agit de:\n",
        "1. Importer les modules Python necessaires\n",
        "2. Charger les données et les sauvegarder dans un *DataFrame*\n",
        "3. Afficher des statistiques sommaires\n",
        "\n",
        "\n"
      ]
    },
    {
      "cell_type": "markdown",
      "metadata": {
        "id": "XtYZ7114n3b-"
      },
      "source": [
        " ## **Importer les modules Python pour l'analyse de données**\n",
        "\n",
        "Pour l'analyse univariéé non-graphique, le module *pandas* est essentielle. Il dispose des *DataFrames* qui représentent des structure de données puissantes pour repésenter les données en tableaux relationnels avec des lignes et des colonnes. L'importation du module *pandas* se fait comme suit:"
      ]
    },
    {
      "cell_type": "code",
      "metadata": {
        "id": "_TFm7-looBFF"
      },
      "source": [
        "import pandas as pd"
      ],
      "execution_count": null,
      "outputs": []
    },
    {
      "cell_type": "markdown",
      "metadata": {
        "id": "65g1ZdGVjXsQ"
      },
      "source": [
        "En plus du module *pandas*, *Scikit-learn* est un autre module important pour l'analyse des données et surtout pour l'apprentissage automatique, il dispose d'un ensemble d'algorithmes et de données qui peuvent être utilisées pour toute sorte d'analyse potentielle. La ligne de code suivante permet d'importer des données sur le cancer du sein disponible dans le module *Scikit-learn*:"
      ]
    },
    {
      "cell_type": "code",
      "metadata": {
        "id": "SxrWVVcSw867"
      },
      "source": [
        "from sklearn.datasets import load_breast_cancer"
      ],
      "execution_count": null,
      "outputs": []
    },
    {
      "cell_type": "markdown",
      "metadata": {
        "id": "RM1iaD-ka3Y1"
      },
      "source": [
        " ## **Charger les données et les sauvegarder dans un *DataFrame***\n",
        "\n",
        "Afin de pouvoir effectuer une analyse univariée sur *Python*, il est necéssaire de charger les données et les sauvegarder dans un *DataFrame*. Par exemple pour les données du cancer du sein de Scikit-learn, on peut charger les données dans un *DataFrame* en exécutant la cellule suivante:"
      ]
    },
    {
      "cell_type": "code",
      "metadata": {
        "id": "XWmyCFJ5bOv-"
      },
      "source": [
        "cancerData = load_breast_cancer()\n",
        "cancer = pd.DataFrame(cancerData.data, columns=cancerData.feature_names)"
      ],
      "execution_count": null,
      "outputs": []
    },
    {
      "cell_type": "markdown",
      "metadata": {
        "id": "9HD95VoRQGHh"
      },
      "source": [
        "## **Afficher des statistiques sommaires**\n",
        "\n",
        "La fonction *describe()* du module *pandas* de *Python* permet d’afficher les statistiques descriptives dans un tableau sommaire."
      ]
    },
    {
      "cell_type": "markdown",
      "metadata": {
        "id": "6qh63m-ayb-c"
      },
      "source": [
        " ## **Exercice**\n",
        "\n",
        "L'une des méthodes qui permettent de réaliser une analyse univariée non-graphique est la fonction *describe()* en *Python*. Utiliser la fonction *describe()* du *DataFrame* pour afficher des statistiques sommaires sur les variables indépendantes dans les données du cancer de sein."
      ]
    },
    {
      "cell_type": "code",
      "metadata": {
        "id": "zCOn8ftSyddH"
      },
      "source": [
        "# Your code here"
      ],
      "execution_count": null,
      "outputs": []
    },
    {
      "cell_type": "markdown",
      "metadata": {
        "id": "YHIWvc9Ms-Ll"
      },
      "source": [
        " ### **Solution**\n",
        "\n",
        "Cliquez ci-dessous pour afficher la solution. Exécuter la cellule suivante pour afficher le résultat de l'analyse univariée non-graphique."
      ]
    },
    {
      "cell_type": "code",
      "metadata": {
        "id": "T5OlrqtdtCIb"
      },
      "source": [
        "cancer.describe()"
      ],
      "execution_count": null,
      "outputs": []
    }
  ]
}
